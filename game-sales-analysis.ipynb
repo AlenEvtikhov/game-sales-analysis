{
 "cells": [
  {
   "cell_type": "markdown",
   "metadata": {},
   "source": [
    "# Сборный проект"
   ]
  },
  {
   "cell_type": "markdown",
   "metadata": {},
   "source": [
    "**Описание проекта**"
   ]
  },
  {
   "cell_type": "markdown",
   "metadata": {},
   "source": [
    "Вы работаете в интернет-магазине «Стримчик», который продаёт по всему миру компьютерные игры. Из открытых источников доступны исторические данные о продажах игр, оценки пользователей и экспертов, жанры и платформы (например, Xbox или PlayStation). Вам нужно выявить определяющие успешность игры закономерности. Это позволит сделать ставку на потенциально популярный продукт и спланировать рекламные кампании.\n",
    "\n",
    "Перед вами данные до 2016 года. Представим, что сейчас декабрь 2016 г., и вы планируете кампанию на 2017-й. Нужно отработать принцип работы с данными. Неважно, прогнозируете ли вы продажи на 2017 год по данным 2016-го или же 2027-й — по данным 2026 года.\n",
    "\n",
    "В наборе данных попадается аббревиатура ESRB (Entertainment Software Rating Board) — это ассоциация, определяющая возрастной рейтинг компьютерных игр. ESRB оценивает игровой контент и присваивает ему подходящую возрастную категорию, например, «Для взрослых», «Для детей младшего возраста» или «Для подростков»."
   ]
  },
  {
   "cell_type": "markdown",
   "metadata": {},
   "source": [
    "**Описание данных**\n",
    "\n",
    "- Name — название игры\n",
    "- Platform — платформа\n",
    "- Year_of_Release — год выпуска\n",
    "- Genre — жанр игры\n",
    "- NA_sales — продажи в Северной Америке (миллионы проданных копий)\n",
    "- EU_sales — продажи в Европе (миллионы проданных копий)\n",
    "- JP_sales — продажи в Японии (миллионы проданных копий)\n",
    "- Other_sales — продажи в других странах (миллионы проданных копий)\n",
    "- Critic_Score — оценка критиков (максимум 100)\n",
    "- User_Score — оценка пользователей (максимум 10)\n",
    "- Rating — рейтинг от организации ESRB (англ. Entertainment Software Rating Board). Эта ассоциация определяет рейтинг компьютерных игр и присваивает им подходящую возрастную категорию.\n",
    "\n",
    "Данные за 2016 год могут быть неполными."
   ]
  },
  {
   "cell_type": "markdown",
   "metadata": {},
   "source": [
    "**Мы проведем исследование по следующему плану:**\n",
    "\n",
    "1. Соберем и изучим общую информацию.\n",
    "2. Выполним предобработку данных.\n",
    "3. Проведем исследовательский анализ данных.\n",
    "4. Составим портрет пользователей для каждого региона.\n",
    "5. Проверим выдвинутые гипотезы.\n",
    "6. Подготовим выводы исследования."
   ]
  },
  {
   "cell_type": "markdown",
   "metadata": {},
   "source": [
    "### Шаг 1. Загрузка данных и изучение общей информации\n"
   ]
  },
  {
   "cell_type": "markdown",
   "metadata": {},
   "source": [
    "**1.1 Загрузка библиотек**"
   ]
  },
  {
   "cell_type": "code",
   "execution_count": 1,
   "metadata": {},
   "outputs": [],
   "source": [
    "import pandas as pd\n",
    "import numpy as np\n",
    "import seaborn as sns\n",
    "from scipy import stats as st\n",
    "import math\n",
    "import matplotlib.pyplot as plt\n",
    "from IPython.display import display"
   ]
  },
  {
   "cell_type": "markdown",
   "metadata": {},
   "source": [
    "**1.2 Загрузка датафрейма**"
   ]
  },
  {
   "cell_type": "code",
   "execution_count": 2,
   "metadata": {},
   "outputs": [],
   "source": [
    "data_game = pd.read_csv('/datasets/games.csv')"
   ]
  },
  {
   "cell_type": "markdown",
   "metadata": {},
   "source": [
    "**1.3 Получение инфо о датафрейме**"
   ]
  },
  {
   "cell_type": "code",
   "execution_count": 3,
   "metadata": {},
   "outputs": [
    {
     "data": {
      "text/html": [
       "<div>\n",
       "<style scoped>\n",
       "    .dataframe tbody tr th:only-of-type {\n",
       "        vertical-align: middle;\n",
       "    }\n",
       "\n",
       "    .dataframe tbody tr th {\n",
       "        vertical-align: top;\n",
       "    }\n",
       "\n",
       "    .dataframe thead th {\n",
       "        text-align: right;\n",
       "    }\n",
       "</style>\n",
       "<table border=\"1\" class=\"dataframe\">\n",
       "  <thead>\n",
       "    <tr style=\"text-align: right;\">\n",
       "      <th></th>\n",
       "      <th>Name</th>\n",
       "      <th>Platform</th>\n",
       "      <th>Year_of_Release</th>\n",
       "      <th>Genre</th>\n",
       "      <th>NA_sales</th>\n",
       "      <th>EU_sales</th>\n",
       "      <th>JP_sales</th>\n",
       "      <th>Other_sales</th>\n",
       "      <th>Critic_Score</th>\n",
       "      <th>User_Score</th>\n",
       "      <th>Rating</th>\n",
       "    </tr>\n",
       "  </thead>\n",
       "  <tbody>\n",
       "    <tr>\n",
       "      <th>0</th>\n",
       "      <td>Wii Sports</td>\n",
       "      <td>Wii</td>\n",
       "      <td>2006.0</td>\n",
       "      <td>Sports</td>\n",
       "      <td>41.36</td>\n",
       "      <td>28.96</td>\n",
       "      <td>3.77</td>\n",
       "      <td>8.45</td>\n",
       "      <td>76.0</td>\n",
       "      <td>8</td>\n",
       "      <td>E</td>\n",
       "    </tr>\n",
       "    <tr>\n",
       "      <th>1</th>\n",
       "      <td>Super Mario Bros.</td>\n",
       "      <td>NES</td>\n",
       "      <td>1985.0</td>\n",
       "      <td>Platform</td>\n",
       "      <td>29.08</td>\n",
       "      <td>3.58</td>\n",
       "      <td>6.81</td>\n",
       "      <td>0.77</td>\n",
       "      <td>NaN</td>\n",
       "      <td>NaN</td>\n",
       "      <td>NaN</td>\n",
       "    </tr>\n",
       "    <tr>\n",
       "      <th>2</th>\n",
       "      <td>Mario Kart Wii</td>\n",
       "      <td>Wii</td>\n",
       "      <td>2008.0</td>\n",
       "      <td>Racing</td>\n",
       "      <td>15.68</td>\n",
       "      <td>12.76</td>\n",
       "      <td>3.79</td>\n",
       "      <td>3.29</td>\n",
       "      <td>82.0</td>\n",
       "      <td>8.3</td>\n",
       "      <td>E</td>\n",
       "    </tr>\n",
       "    <tr>\n",
       "      <th>3</th>\n",
       "      <td>Wii Sports Resort</td>\n",
       "      <td>Wii</td>\n",
       "      <td>2009.0</td>\n",
       "      <td>Sports</td>\n",
       "      <td>15.61</td>\n",
       "      <td>10.93</td>\n",
       "      <td>3.28</td>\n",
       "      <td>2.95</td>\n",
       "      <td>80.0</td>\n",
       "      <td>8</td>\n",
       "      <td>E</td>\n",
       "    </tr>\n",
       "    <tr>\n",
       "      <th>4</th>\n",
       "      <td>Pokemon Red/Pokemon Blue</td>\n",
       "      <td>GB</td>\n",
       "      <td>1996.0</td>\n",
       "      <td>Role-Playing</td>\n",
       "      <td>11.27</td>\n",
       "      <td>8.89</td>\n",
       "      <td>10.22</td>\n",
       "      <td>1.00</td>\n",
       "      <td>NaN</td>\n",
       "      <td>NaN</td>\n",
       "      <td>NaN</td>\n",
       "    </tr>\n",
       "  </tbody>\n",
       "</table>\n",
       "</div>"
      ],
      "text/plain": [
       "                       Name Platform  Year_of_Release         Genre  NA_sales  \\\n",
       "0                Wii Sports      Wii           2006.0        Sports     41.36   \n",
       "1         Super Mario Bros.      NES           1985.0      Platform     29.08   \n",
       "2            Mario Kart Wii      Wii           2008.0        Racing     15.68   \n",
       "3         Wii Sports Resort      Wii           2009.0        Sports     15.61   \n",
       "4  Pokemon Red/Pokemon Blue       GB           1996.0  Role-Playing     11.27   \n",
       "\n",
       "   EU_sales  JP_sales  Other_sales  Critic_Score User_Score Rating  \n",
       "0     28.96      3.77         8.45          76.0          8      E  \n",
       "1      3.58      6.81         0.77           NaN        NaN    NaN  \n",
       "2     12.76      3.79         3.29          82.0        8.3      E  \n",
       "3     10.93      3.28         2.95          80.0          8      E  \n",
       "4      8.89     10.22         1.00           NaN        NaN    NaN  "
      ]
     },
     "metadata": {},
     "output_type": "display_data"
    }
   ],
   "source": [
    "display(data_game.head())"
   ]
  },
  {
   "cell_type": "code",
   "execution_count": 4,
   "metadata": {},
   "outputs": [
    {
     "data": {
      "text/plain": [
       "(16715, 11)"
      ]
     },
     "execution_count": 4,
     "metadata": {},
     "output_type": "execute_result"
    }
   ],
   "source": [
    "#Размер датафрейма\n",
    "data_game.shape"
   ]
  },
  {
   "cell_type": "code",
   "execution_count": 5,
   "metadata": {},
   "outputs": [
    {
     "name": "stdout",
     "output_type": "stream",
     "text": [
      "<class 'pandas.core.frame.DataFrame'>\n",
      "RangeIndex: 16715 entries, 0 to 16714\n",
      "Data columns (total 11 columns):\n",
      " #   Column           Non-Null Count  Dtype  \n",
      "---  ------           --------------  -----  \n",
      " 0   Name             16713 non-null  object \n",
      " 1   Platform         16715 non-null  object \n",
      " 2   Year_of_Release  16446 non-null  float64\n",
      " 3   Genre            16713 non-null  object \n",
      " 4   NA_sales         16715 non-null  float64\n",
      " 5   EU_sales         16715 non-null  float64\n",
      " 6   JP_sales         16715 non-null  float64\n",
      " 7   Other_sales      16715 non-null  float64\n",
      " 8   Critic_Score     8137 non-null   float64\n",
      " 9   User_Score       10014 non-null  object \n",
      " 10  Rating           9949 non-null   object \n",
      "dtypes: float64(6), object(5)\n",
      "memory usage: 1.4+ MB\n"
     ]
    }
   ],
   "source": [
    "#Cводное инфо о датафрейме\n",
    "data_game.info()"
   ]
  },
  {
   "cell_type": "code",
   "execution_count": 6,
   "metadata": {},
   "outputs": [
    {
     "data": {
      "text/html": [
       "<div>\n",
       "<style scoped>\n",
       "    .dataframe tbody tr th:only-of-type {\n",
       "        vertical-align: middle;\n",
       "    }\n",
       "\n",
       "    .dataframe tbody tr th {\n",
       "        vertical-align: top;\n",
       "    }\n",
       "\n",
       "    .dataframe thead th {\n",
       "        text-align: right;\n",
       "    }\n",
       "</style>\n",
       "<table border=\"1\" class=\"dataframe\">\n",
       "  <thead>\n",
       "    <tr style=\"text-align: right;\">\n",
       "      <th></th>\n",
       "      <th>Year_of_Release</th>\n",
       "      <th>NA_sales</th>\n",
       "      <th>EU_sales</th>\n",
       "      <th>JP_sales</th>\n",
       "      <th>Other_sales</th>\n",
       "      <th>Critic_Score</th>\n",
       "    </tr>\n",
       "  </thead>\n",
       "  <tbody>\n",
       "    <tr>\n",
       "      <th>count</th>\n",
       "      <td>16446.000000</td>\n",
       "      <td>16715.000000</td>\n",
       "      <td>16715.000000</td>\n",
       "      <td>16715.000000</td>\n",
       "      <td>16715.000000</td>\n",
       "      <td>8137.000000</td>\n",
       "    </tr>\n",
       "    <tr>\n",
       "      <th>mean</th>\n",
       "      <td>2006.484616</td>\n",
       "      <td>0.263377</td>\n",
       "      <td>0.145060</td>\n",
       "      <td>0.077617</td>\n",
       "      <td>0.047342</td>\n",
       "      <td>68.967679</td>\n",
       "    </tr>\n",
       "    <tr>\n",
       "      <th>std</th>\n",
       "      <td>5.877050</td>\n",
       "      <td>0.813604</td>\n",
       "      <td>0.503339</td>\n",
       "      <td>0.308853</td>\n",
       "      <td>0.186731</td>\n",
       "      <td>13.938165</td>\n",
       "    </tr>\n",
       "    <tr>\n",
       "      <th>min</th>\n",
       "      <td>1980.000000</td>\n",
       "      <td>0.000000</td>\n",
       "      <td>0.000000</td>\n",
       "      <td>0.000000</td>\n",
       "      <td>0.000000</td>\n",
       "      <td>13.000000</td>\n",
       "    </tr>\n",
       "    <tr>\n",
       "      <th>25%</th>\n",
       "      <td>2003.000000</td>\n",
       "      <td>0.000000</td>\n",
       "      <td>0.000000</td>\n",
       "      <td>0.000000</td>\n",
       "      <td>0.000000</td>\n",
       "      <td>60.000000</td>\n",
       "    </tr>\n",
       "    <tr>\n",
       "      <th>50%</th>\n",
       "      <td>2007.000000</td>\n",
       "      <td>0.080000</td>\n",
       "      <td>0.020000</td>\n",
       "      <td>0.000000</td>\n",
       "      <td>0.010000</td>\n",
       "      <td>71.000000</td>\n",
       "    </tr>\n",
       "    <tr>\n",
       "      <th>75%</th>\n",
       "      <td>2010.000000</td>\n",
       "      <td>0.240000</td>\n",
       "      <td>0.110000</td>\n",
       "      <td>0.040000</td>\n",
       "      <td>0.030000</td>\n",
       "      <td>79.000000</td>\n",
       "    </tr>\n",
       "    <tr>\n",
       "      <th>max</th>\n",
       "      <td>2016.000000</td>\n",
       "      <td>41.360000</td>\n",
       "      <td>28.960000</td>\n",
       "      <td>10.220000</td>\n",
       "      <td>10.570000</td>\n",
       "      <td>98.000000</td>\n",
       "    </tr>\n",
       "  </tbody>\n",
       "</table>\n",
       "</div>"
      ],
      "text/plain": [
       "       Year_of_Release      NA_sales      EU_sales      JP_sales  \\\n",
       "count     16446.000000  16715.000000  16715.000000  16715.000000   \n",
       "mean       2006.484616      0.263377      0.145060      0.077617   \n",
       "std           5.877050      0.813604      0.503339      0.308853   \n",
       "min        1980.000000      0.000000      0.000000      0.000000   \n",
       "25%        2003.000000      0.000000      0.000000      0.000000   \n",
       "50%        2007.000000      0.080000      0.020000      0.000000   \n",
       "75%        2010.000000      0.240000      0.110000      0.040000   \n",
       "max        2016.000000     41.360000     28.960000     10.220000   \n",
       "\n",
       "        Other_sales  Critic_Score  \n",
       "count  16715.000000   8137.000000  \n",
       "mean       0.047342     68.967679  \n",
       "std        0.186731     13.938165  \n",
       "min        0.000000     13.000000  \n",
       "25%        0.000000     60.000000  \n",
       "50%        0.010000     71.000000  \n",
       "75%        0.030000     79.000000  \n",
       "max       10.570000     98.000000  "
      ]
     },
     "metadata": {},
     "output_type": "display_data"
    }
   ],
   "source": [
    "#Описание датафрейма\n",
    "display(data_game.describe())"
   ]
  },
  {
   "cell_type": "markdown",
   "metadata": {},
   "source": [
    "**Вывод:**\n",
    " 1. В наборе содержится 16 715 записей о компьютерных играх, выпущенных до 2016 года, с информацией о платформах, жанрах, оценках критиков и пользователей, продажах по регионам и возрастных рейтингах.\n",
    "    \n",
    "2. В данных присутствуют пропуски:\n",
    "- В годах выпуска (269 пропусков).\n",
    "- В оценках критиков и пользователей — существенное количество пропусков, особенно в оценках пользователей.\n",
    "- В возрастных рейтингах от ESRB пропущено около 40% значений.\n",
    "\n",
    "3. Столбец с пользовательскими оценками содержит некорректные значения (например, 'tbd'), которые требуют обработки.\n",
    "\n",
    "\n",
    "4. Данные требуют дальнейшей предобработки, особенно в части работы с пропусками, после чего можно будет приступать к исследовательскому анализу."
   ]
  },
  {
   "cell_type": "markdown",
   "metadata": {},
   "source": [
    "### Шаг 2. Предобработка данных"
   ]
  },
  {
   "cell_type": "code",
   "execution_count": 7,
   "metadata": {},
   "outputs": [
    {
     "data": {
      "text/html": [
       "<div>\n",
       "<style scoped>\n",
       "    .dataframe tbody tr th:only-of-type {\n",
       "        vertical-align: middle;\n",
       "    }\n",
       "\n",
       "    .dataframe tbody tr th {\n",
       "        vertical-align: top;\n",
       "    }\n",
       "\n",
       "    .dataframe thead th {\n",
       "        text-align: right;\n",
       "    }\n",
       "</style>\n",
       "<table border=\"1\" class=\"dataframe\">\n",
       "  <thead>\n",
       "    <tr style=\"text-align: right;\">\n",
       "      <th></th>\n",
       "      <th>name</th>\n",
       "      <th>platform</th>\n",
       "      <th>year_of_release</th>\n",
       "      <th>genre</th>\n",
       "      <th>na_sales</th>\n",
       "      <th>eu_sales</th>\n",
       "      <th>jp_sales</th>\n",
       "      <th>other_sales</th>\n",
       "      <th>critic_score</th>\n",
       "      <th>user_score</th>\n",
       "      <th>rating</th>\n",
       "    </tr>\n",
       "  </thead>\n",
       "  <tbody>\n",
       "  </tbody>\n",
       "</table>\n",
       "</div>"
      ],
      "text/plain": [
       "Empty DataFrame\n",
       "Columns: [name, platform, year_of_release, genre, na_sales, eu_sales, jp_sales, other_sales, critic_score, user_score, rating]\n",
       "Index: []"
      ]
     },
     "metadata": {},
     "output_type": "display_data"
    }
   ],
   "source": [
    "#Приведем названия столбцов к нижнему регистру\n",
    "data_game.columns = data_game.columns.str.lower()\n",
    "display(data_game.head(0))"
   ]
  },
  {
   "cell_type": "code",
   "execution_count": 8,
   "metadata": {},
   "outputs": [],
   "source": [
    "#Преобразуем данные в нужные типы:\n",
    "data_game['year_of_release'] = pd.to_numeric(data_game['year_of_release'], errors='coerce').astype('Int64')\n",
    "data_game['user_score'] = pd.to_numeric(data_game['user_score'], errors='coerce')"
   ]
  },
  {
   "cell_type": "code",
   "execution_count": 9,
   "metadata": {},
   "outputs": [],
   "source": [
    "#Обработаем значение 'tbd' в 'user_score'\n",
    "data_game['user_score'].replace('tbd', None, inplace=True)"
   ]
  },
  {
   "cell_type": "code",
   "execution_count": 10,
   "metadata": {},
   "outputs": [],
   "source": [
    "#Посчитаем суммарные продажи по всем регионам\n",
    "data_game['total_sales'] = data_game[['na_sales', 'eu_sales', 'jp_sales', 'other_sales']].sum(axis=1)"
   ]
  },
  {
   "cell_type": "code",
   "execution_count": 11,
   "metadata": {},
   "outputs": [
    {
     "data": {
      "text/plain": [
       "name                  2\n",
       "platform              0\n",
       "year_of_release     269\n",
       "genre                 2\n",
       "na_sales              0\n",
       "eu_sales              0\n",
       "jp_sales              0\n",
       "other_sales           0\n",
       "critic_score       8578\n",
       "user_score         9125\n",
       "rating             6766\n",
       "total_sales           0\n",
       "dtype: int64"
      ]
     },
     "execution_count": 11,
     "metadata": {},
     "output_type": "execute_result"
    }
   ],
   "source": [
    "#Проверим количество оставшихся пропусков в данных\n",
    "data_game.isnull().sum()"
   ]
  },
  {
   "cell_type": "code",
   "execution_count": 12,
   "metadata": {},
   "outputs": [
    {
     "data": {
      "text/plain": [
       "0"
      ]
     },
     "execution_count": 12,
     "metadata": {},
     "output_type": "execute_result"
    }
   ],
   "source": [
    "#Проверим количество дубликатов\n",
    "data_game.duplicated().sum()"
   ]
  },
  {
   "cell_type": "markdown",
   "metadata": {},
   "source": [
    "**Обработка неявных дубликатов**"
   ]
  },
  {
   "cell_type": "code",
   "execution_count": 13,
   "metadata": {},
   "outputs": [
    {
     "data": {
      "text/plain": [
       "name               1\n",
       "platform           2\n",
       "year_of_release    2\n",
       "genre              1\n",
       "na_sales           2\n",
       "eu_sales           2\n",
       "jp_sales           2\n",
       "other_sales        2\n",
       "critic_score       1\n",
       "user_score         1\n",
       "rating             1\n",
       "total_sales        2\n",
       "dtype: int64"
      ]
     },
     "metadata": {},
     "output_type": "display_data"
    }
   ],
   "source": [
    "display(data_game[data_game.duplicated(['name', 'platform', 'year_of_release'])].count())"
   ]
  },
  {
   "cell_type": "code",
   "execution_count": 14,
   "metadata": {},
   "outputs": [
    {
     "data": {
      "text/plain": [
       "name               0\n",
       "platform           0\n",
       "year_of_release    0\n",
       "genre              0\n",
       "na_sales           0\n",
       "eu_sales           0\n",
       "jp_sales           0\n",
       "other_sales        0\n",
       "critic_score       0\n",
       "user_score         0\n",
       "rating             0\n",
       "total_sales        0\n",
       "dtype: int64"
      ]
     },
     "metadata": {},
     "output_type": "display_data"
    }
   ],
   "source": [
    "data_game = data_game.drop_duplicates(['name', 'platform', 'year_of_release'])\n",
    "display(data_game[data_game.duplicated(['name', 'platform', 'year_of_release'])].count())"
   ]
  },
  {
   "cell_type": "markdown",
   "metadata": {},
   "source": [
    "**Вывод:**\n",
    "    После выполнения предобработки данных и проверки дубликатов можно сделать следующие выводы:\n",
    "\n",
    "1. Названия столбцов успешно приведены к нижнему регистру для унификации.\n",
    "\n",
    "2. Типы данных были преобразованы:\n",
    "- Год выпуска (year_of_release) приведен к целочисленному типу.\n",
    "- Оценки пользователей (user_score) преобразованы в числовой формат.\n",
    "- Некорректное значение 'tbd' в оценках пользователей заменено на пропуски.\n",
    "\n",
    "3. Суммарные продажи по всем регионам успешно посчитаны и добавлены в новый столбец total_sales.\n",
    "\n",
    "4. Остались пропуски в ключевых столбцах:\n",
    "- В столбце с годом выпуска — 269 пропусков. Пропуски нельзя заполнить автоматически, так как год выпуска — критический параметр для анализа. Пропуски оставим как есть или исключим их из анализа, если это повлияет на исследование.\n",
    "\n",
    "\n",
    "- В оценках критиков и пользователей — значительные пропуски, что может повлиять на анализ. Пропуски в этих столбцах сложно заполнить корректно. Их можно оставить без изменений и учитывать при анализе, либо использовать медианные значения для категорий игр (например, по жанру или платформе) — если этого требует анализ.\n",
    "\n",
    "\n",
    "- В рейтингах ESRB пропущено более 40% данных, что также требует внимания.Пропуски оставим без изменений. Возрастной рейтинг критичен для некоторых исследований, но не для всех, поэтому его отсутствие не стоит заполнять искусственно.\n",
    "\n",
    "5. Дубликатов в данных нет, что упрощает дальнейшую обработку.\n",
    "\n",
    "\n",
    "6. Обнаружены неявные дубликаты. Строки удалены.\n",
    "\n",
    "Причины пропусков:\n",
    "- Отсутствие рецензий критиков или пользователей.\n",
    "- Игра не была оценена по возрастным критериям.\n",
    "- Пропуски могут быть связаны с отсутствием данных в момент составления набора или с отсутствием данных для определенных регионов или платформ.\n"
   ]
  },
  {
   "cell_type": "code",
   "execution_count": 15,
   "metadata": {},
   "outputs": [
    {
     "name": "stdout",
     "output_type": "stream",
     "text": [
      "<class 'pandas.core.frame.DataFrame'>\n",
      "Int64Index: 16713 entries, 0 to 16714\n",
      "Data columns (total 12 columns):\n",
      " #   Column           Non-Null Count  Dtype  \n",
      "---  ------           --------------  -----  \n",
      " 0   name             16712 non-null  object \n",
      " 1   platform         16713 non-null  object \n",
      " 2   year_of_release  16444 non-null  Int64  \n",
      " 3   genre            16712 non-null  object \n",
      " 4   na_sales         16713 non-null  float64\n",
      " 5   eu_sales         16713 non-null  float64\n",
      " 6   jp_sales         16713 non-null  float64\n",
      " 7   other_sales      16713 non-null  float64\n",
      " 8   critic_score     8136 non-null   float64\n",
      " 9   user_score       7589 non-null   float64\n",
      " 10  rating           9948 non-null   object \n",
      " 11  total_sales      16713 non-null  float64\n",
      "dtypes: Int64(1), float64(7), object(4)\n",
      "memory usage: 1.7+ MB\n",
      "None\n",
      "-------------------------\n",
      "name [' Beyblade Burst' ' Fire Emblem Fates' \" Frozen: Olaf's Quest\" ...\n",
      " 'wwe Smackdown vs. Raw 2006' '¡Shin Chan Flipa en colores!' nan]\n",
      "name : кол-во NaN 1 , процент NaN 0.01 %\n",
      "-------------------------\n",
      "platform ['2600' '3DO' '3DS' 'DC' 'DS' 'GB' 'GBA' 'GC' 'GEN' 'GG' 'N64' 'NES' 'NG'\n",
      " 'PC' 'PCFX' 'PS' 'PS2' 'PS3' 'PS4' 'PSP' 'PSV' 'SAT' 'SCD' 'SNES' 'TG16'\n",
      " 'WS' 'Wii' 'WiiU' 'X360' 'XB' 'XOne']\n",
      "platform : кол-во NaN 0 , процент NaN 0.0 %\n",
      "-------------------------\n",
      "year_of_release <IntegerArray>\n",
      "[1980, 1981, 1982, 1983, 1984, 1985, 1986, 1987, 1988, 1989, 1990, 1991, 1992,\n",
      " 1993, 1994, 1995, 1996, 1997, 1998, 1999, 2000, 2001, 2002, 2003, 2004, 2005,\n",
      " 2006, 2007, 2008, 2009, 2010, 2011, 2012, 2013, 2014, 2015, 2016, <NA>]\n",
      "Length: 38, dtype: Int64\n",
      "year_of_release : кол-во NaN 269 , процент NaN 1.61 %\n",
      "-------------------------\n",
      "genre ['Action' 'Adventure' 'Fighting' 'Misc' 'Platform' 'Puzzle' 'Racing'\n",
      " 'Role-Playing' 'Shooter' 'Simulation' 'Sports' 'Strategy' nan]\n",
      "genre : кол-во NaN 1 , процент NaN 0.01 %\n",
      "-------------------------\n",
      "critic_score [13. 17. 19. 20. 21. 22. 23. 24. 25. 26. 27. 28. 29. 30. 31. 32. 33. 34.\n",
      " 35. 36. 37. 38. 39. 40. 41. 42. 43. 44. 45. 46. 47. 48. 49. 50. 51. 52.\n",
      " 53. 54. 55. 56. 57. 58. 59. 60. 61. 62. 63. 64. 65. 66. 67. 68. 69. 70.\n",
      " 71. 72. 73. 74. 75. 76. 77. 78. 79. 80. 81. 82. 83. 84. 85. 86. 87. 88.\n",
      " 89. 90. 91. 92. 93. 94. 95. 96. 97. 98. nan]\n",
      "critic_score : кол-во NaN 8577 , процент NaN 51.32 %\n",
      "-------------------------\n",
      "user_score [0.  0.2 0.3 0.5 0.6 0.7 0.9 1.  1.1 1.2 1.3 1.4 1.5 1.6 1.7 1.8 1.9 2.\n",
      " 2.1 2.2 2.3 2.4 2.5 2.6 2.7 2.8 2.9 3.  3.1 3.2 3.3 3.4 3.5 3.6 3.7 3.8\n",
      " 3.9 4.  4.1 4.2 4.3 4.4 4.5 4.6 4.7 4.8 4.9 5.  5.1 5.2 5.3 5.4 5.5 5.6\n",
      " 5.7 5.8 5.9 6.  6.1 6.2 6.3 6.4 6.5 6.6 6.7 6.8 6.9 7.  7.1 7.2 7.3 7.4\n",
      " 7.5 7.6 7.7 7.8 7.9 8.  8.1 8.2 8.3 8.4 8.5 8.6 8.7 8.8 8.9 9.  9.1 9.2\n",
      " 9.3 9.4 9.5 9.6 9.7 nan]\n",
      "user_score : кол-во NaN 9124 , процент NaN 54.59 %\n",
      "-------------------------\n",
      "rating ['AO' 'E' 'E10+' 'EC' 'K-A' 'M' 'RP' 'T' nan]\n",
      "rating : кол-во NaN 6765 , процент NaN 40.48 %\n"
     ]
    }
   ],
   "source": [
    "# Посмотрим, что осталось\n",
    "temp = data_game.copy() \n",
    "list_c = ['name', 'platform', 'year_of_release', 'genre', 'critic_score', 'user_score', 'rating']\n",
    "print(temp.info())\n",
    "for col_l in list_c:\n",
    "  print('-'* 25)\n",
    "  print(col_l, temp[col_l].sort_values().unique())\n",
    "  print(col_l,': кол-во NaN',temp[col_l].isna().sum(),\n",
    "        ', процент NaN', round(temp[col_l].isna().mean()*100,2),'%') "
   ]
  },
  {
   "cell_type": "markdown",
   "metadata": {},
   "source": [
    "**Обработка пропусков**"
   ]
  },
  {
   "cell_type": "code",
   "execution_count": 16,
   "metadata": {},
   "outputs": [
    {
     "data": {
      "text/plain": [
       "name                  1\n",
       "platform              0\n",
       "year_of_release     269\n",
       "genre                 1\n",
       "na_sales              0\n",
       "eu_sales              0\n",
       "jp_sales              0\n",
       "other_sales           0\n",
       "critic_score       8577\n",
       "user_score         9124\n",
       "rating             6765\n",
       "total_sales           0\n",
       "dtype: int64"
      ]
     },
     "execution_count": 16,
     "metadata": {},
     "output_type": "execute_result"
    }
   ],
   "source": [
    "data_game.isna().sum()"
   ]
  },
  {
   "cell_type": "code",
   "execution_count": 17,
   "metadata": {},
   "outputs": [
    {
     "data": {
      "text/plain": [
       "name                  0\n",
       "platform              0\n",
       "year_of_release     269\n",
       "genre                 0\n",
       "na_sales              0\n",
       "eu_sales              0\n",
       "jp_sales              0\n",
       "other_sales           0\n",
       "critic_score       8576\n",
       "user_score         9123\n",
       "rating             6764\n",
       "total_sales           0\n",
       "dtype: int64"
      ]
     },
     "execution_count": 17,
     "metadata": {},
     "output_type": "execute_result"
    }
   ],
   "source": [
    "#Столбец \"Name\"\n",
    "data_game = data_game.dropna(subset=['name']).reset_index(drop=True)\n",
    "data_game.isna().sum()"
   ]
  },
  {
   "cell_type": "code",
   "execution_count": 18,
   "metadata": {},
   "outputs": [
    {
     "data": {
      "text/plain": [
       "name                  0\n",
       "platform              0\n",
       "year_of_release     269\n",
       "genre                 0\n",
       "na_sales              0\n",
       "eu_sales              0\n",
       "jp_sales              0\n",
       "other_sales           0\n",
       "critic_score       8576\n",
       "user_score         9123\n",
       "rating                0\n",
       "total_sales           0\n",
       "dtype: int64"
      ]
     },
     "execution_count": 18,
     "metadata": {},
     "output_type": "execute_result"
    }
   ],
   "source": [
    "#Столбец \"Rating\"\n",
    "data_game['rating'] = data_game['rating'].fillna('unknown')\n",
    "data_game.isna().sum()"
   ]
  },
  {
   "cell_type": "code",
   "execution_count": 19,
   "metadata": {},
   "outputs": [
    {
     "data": {
      "text/plain": [
       "unknown    6764\n",
       "E          3989\n",
       "T          2961\n",
       "M          1563\n",
       "E10+       1420\n",
       "EC            8\n",
       "K-A           3\n",
       "RP            3\n",
       "AO            1\n",
       "Name: rating, dtype: int64"
      ]
     },
     "execution_count": 19,
     "metadata": {},
     "output_type": "execute_result"
    }
   ],
   "source": [
    "data_game.rating.value_counts()"
   ]
  },
  {
   "cell_type": "code",
   "execution_count": 20,
   "metadata": {},
   "outputs": [
    {
     "data": {
      "text/plain": [
       "unknown    6764\n",
       "E          3992\n",
       "T          2961\n",
       "M          1563\n",
       "E10+       1420\n",
       "EC            8\n",
       "RP            3\n",
       "AO            1\n",
       "Name: rating, dtype: int64"
      ]
     },
     "execution_count": 20,
     "metadata": {},
     "output_type": "execute_result"
    }
   ],
   "source": [
    "#Замена рейтинга \"K-a\"\n",
    "data_game.loc[data_game['rating']== \"K-A\",'rating'] = \"E\"\n",
    "data_game.rating.value_counts()"
   ]
  },
  {
   "cell_type": "markdown",
   "metadata": {},
   "source": [
    "### Шаг 3.Исследовательский анализ данных\n"
   ]
  },
  {
   "cell_type": "markdown",
   "metadata": {},
   "source": [
    "**Посмотрите, сколько игр выпускалось в разные годы. Важны ли данные за все периоды?**"
   ]
  },
  {
   "cell_type": "code",
   "execution_count": 21,
   "metadata": {},
   "outputs": [
    {
     "data": {
      "image/png": "[encoded data removed]",
      "text/plain": [
       "<Figure size 1080x720 with 1 Axes>"
      ]
     },
     "metadata": {
      "needs_background": "light"
     },
     "output_type": "display_data"
    }
   ],
   "source": [
    "data_game.pivot_table(index='year_of_release', values='name', aggfunc='count').plot(kind='bar' , grid=False, figsize=(15, 10), ec='black')\n",
    "\n",
    "plt.title('Количество выпуска игр по годам')\n",
    "plt.xlabel('Год')\n",
    "plt.ylabel('Количество игр')\n",
    "plt.show()"
   ]
  },
  {
   "cell_type": "markdown",
   "metadata": {},
   "source": [
    "**Вывод:**\n",
    "    Рост индустрии: В определенные периоды наблюдается активный рост количества выпускаемых игр, особенно в начале 2000-х и в середине 2000-х. Это может быть связано с развитием технологий, увеличением числа платформ и массовым интересом к видеоиграм.\n",
    "\n",
    "Пик выпуска игр: В какой-то момент, вероятно, ближе к 2008-2010 годам, можно наблюдать пик по количеству выпущенных игр. Этот период характеризуется бурным развитием консолей и доступностью игр для более широкой аудитории.\n",
    "\n",
    "Спад к 2016 году: После пикового периода количество игр начало снижаться. Это может быть связано с изменением моделей распространения игр (например, ростом цифровой дистрибуции и инди-игр), развитием мобильных платформ или насыщением рынка.\n"
   ]
  },
  {
   "cell_type": "markdown",
   "metadata": {},
   "source": [
    "**Продажи по платформам**"
   ]
  },
  {
   "cell_type": "code",
   "execution_count": 22,
   "metadata": {},
   "outputs": [
    {
     "data": {
      "image/png": "[encoded data removed]",
      "text/plain": [
       "<Figure size 720x360 with 1 Axes>"
      ]
     },
     "metadata": {
      "needs_background": "light"
     },
     "output_type": "display_data"
    }
   ],
   "source": [
    "(\n",
    "data_game.pivot_table(index='platform', values='total_sales', aggfunc='sum', ).sort_values(by='total_sales', ascending=False)\n",
    "    .plot(kind='bar' , grid=False, figsize=(10, 5),ec='black', color='skyblue')\n",
    ")\n",
    "plt.title('Суммарных продажи в зависимости от платформы')\n",
    "plt.xlabel('Платформа')\n",
    "plt.ylabel('Суммарные продажи')\n",
    "plt.show()"
   ]
  },
  {
   "cell_type": "markdown",
   "metadata": {},
   "source": [
    "**Вывод:**\n",
    "\n",
    "Лидеры по продажам: На графике видны платформы с наибольшими суммарными продажами. Такие популярные платформы, как PlayStation, Xbox и Nintendo. Эти платформы обеспечили основную долю продаж на рынке, что делает их ключевыми для анализа и прогнозирования.\n",
    "\n",
    "Консоли и популярность: Консоли доминируют на рынке по продажам игр. Это указывает на стабильную популярность домашних игровых систем, которая поддерживалась на протяжении многих лет, особенно за счет выпуска успешных игр и франшиз.\n",
    "\n",
    "Меньшие платформы: Платформы с меньшими продажами могут включать устаревшие или менее популярные консоли, а также платформы, которые не имели широкого распространения. Эти платформы могут постепенно исчезать с рынка.\n",
    "\n",
    "Важность выбора платформы: Для прогноза продаж на 2017 год и последующие годы стоит сосредоточиться на платформах с высокими суммарными продажами, так как они, вероятно, будут продолжать приносить прибыль.\n",
    "\n"
   ]
  },
  {
   "cell_type": "code",
   "execution_count": 23,
   "metadata": {},
   "outputs": [
    {
     "data": {
      "text/plain": [
       "['PS2', 'X360', 'PS3', 'Wii', 'DS', 'PS']"
      ]
     },
     "execution_count": 23,
     "metadata": {},
     "output_type": "execute_result"
    }
   ],
   "source": [
    "max_sale = data_game.pivot_table(index='platform', values='total_sales', aggfunc='sum').sort_values(by='total_sales', ascending=False).reset_index().head(6)['platform'].tolist()\n",
    "max_sale"
   ]
  },
  {
   "cell_type": "code",
   "execution_count": 24,
   "metadata": {},
   "outputs": [
    {
     "data": {
      "image/png": "[encoded data removed]",
      "text/plain": [
       "<Figure size 720x360 with 1 Axes>"
      ]
     },
     "metadata": {
      "needs_background": "light"
     },
     "output_type": "display_data"
    }
   ],
   "source": [
    "for b in max_sale:\n",
    "    (\n",
    "    data_game.query('platform == @b')\n",
    "    .pivot_table(index = 'year_of_release', values = 'total_sales', aggfunc = 'sum')\n",
    "    .sort_values('year_of_release', ascending = False,)['total_sales']\n",
    "    .plot(figsize = (10, 5), label=b, style='-o')\n",
    "    )\n",
    "    plt.title('Динамика платформ с максимальными продажами')\n",
    "    plt.xlabel('Год')\n",
    "    plt.ylabel('Суммарные продажи')\n",
    "    plt.legend()"
   ]
  },
  {
   "cell_type": "markdown",
   "metadata": {},
   "source": [
    "Проверим выпущенные игры на платформах по годам"
   ]
  },
  {
   "cell_type": "code",
   "execution_count": 25,
   "metadata": {},
   "outputs": [
    {
     "data": {
      "text/plain": [
       "PS2     2161\n",
       "DS      2151\n",
       "PS3     1330\n",
       "Wii     1320\n",
       "X360    1262\n",
       "PSP     1209\n",
       "PS      1197\n",
       "PC       974\n",
       "XB       824\n",
       "GBA      822\n",
       "GC       556\n",
       "3DS      520\n",
       "PSV      430\n",
       "PS4      392\n",
       "N64      319\n",
       "XOne     247\n",
       "SNES     239\n",
       "SAT      173\n",
       "WiiU     147\n",
       "2600     133\n",
       "GB        98\n",
       "NES       98\n",
       "DC        52\n",
       "GEN       27\n",
       "NG        12\n",
       "WS         6\n",
       "SCD        6\n",
       "3DO        3\n",
       "TG16       2\n",
       "GG         1\n",
       "PCFX       1\n",
       "Name: platform, dtype: int64"
      ]
     },
     "execution_count": 25,
     "metadata": {},
     "output_type": "execute_result"
    }
   ],
   "source": [
    "data_game.platform.value_counts()"
   ]
  },
  {
   "cell_type": "markdown",
   "metadata": {},
   "source": [
    "Топ по выпущенным играм: PS2, Nintendo DS, PS3, Nintendo Wii, Xbox 360"
   ]
  },
  {
   "cell_type": "code",
   "execution_count": 26,
   "metadata": {},
   "outputs": [],
   "source": [
    "#Датафрейм с платформами, на которых чаще всего выходили игры\n",
    "top_platforms = data_game.query('platform == \"PS2\" or platform == \"DS\" or platform == \"PS3\" or platform == \"Wii\" or platform == \"X360\"')"
   ]
  },
  {
   "cell_type": "code",
   "execution_count": 27,
   "metadata": {},
   "outputs": [
    {
     "data": {
      "text/plain": [
       "2008    1249\n",
       "2009    1158\n",
       "2007     988\n",
       "2010     977\n",
       "2011     724\n",
       "2006     624\n",
       "2005     396\n",
       "2012     307\n",
       "2004     282\n",
       "2002     280\n",
       "2003     256\n",
       "2013     221\n",
       "2001     185\n",
       "2014     177\n",
       "2015     112\n",
       "2000      82\n",
       "2016      52\n",
       "1985       1\n",
       "Name: year_of_release, dtype: Int64"
      ]
     },
     "execution_count": 27,
     "metadata": {},
     "output_type": "execute_result"
    }
   ],
   "source": [
    "#Проверим количество выпущенных игр на платформах по годам\n",
    "top_platforms.year_of_release.value_counts()"
   ]
  },
  {
   "cell_type": "markdown",
   "metadata": {},
   "source": [
    "Предположу, что обнаружена аномалия — игра, выпущенная в 1985 году. Все остальные игры выпущены намного позднее"
   ]
  },
  {
   "cell_type": "code",
   "execution_count": 28,
   "metadata": {},
   "outputs": [
    {
     "data": {
      "text/html": [
       "<div>\n",
       "<style scoped>\n",
       "    .dataframe tbody tr th:only-of-type {\n",
       "        vertical-align: middle;\n",
       "    }\n",
       "\n",
       "    .dataframe tbody tr th {\n",
       "        vertical-align: top;\n",
       "    }\n",
       "\n",
       "    .dataframe thead th {\n",
       "        text-align: right;\n",
       "    }\n",
       "</style>\n",
       "<table border=\"1\" class=\"dataframe\">\n",
       "  <thead>\n",
       "    <tr style=\"text-align: right;\">\n",
       "      <th></th>\n",
       "      <th>name</th>\n",
       "      <th>platform</th>\n",
       "      <th>year_of_release</th>\n",
       "      <th>genre</th>\n",
       "      <th>na_sales</th>\n",
       "      <th>eu_sales</th>\n",
       "      <th>jp_sales</th>\n",
       "      <th>other_sales</th>\n",
       "      <th>critic_score</th>\n",
       "      <th>user_score</th>\n",
       "      <th>rating</th>\n",
       "      <th>total_sales</th>\n",
       "    </tr>\n",
       "  </thead>\n",
       "  <tbody>\n",
       "    <tr>\n",
       "      <th>15955</th>\n",
       "      <td>Strongest Tokyo University Shogi DS</td>\n",
       "      <td>DS</td>\n",
       "      <td>1985</td>\n",
       "      <td>Action</td>\n",
       "      <td>0.0</td>\n",
       "      <td>0.0</td>\n",
       "      <td>0.02</td>\n",
       "      <td>0.0</td>\n",
       "      <td>NaN</td>\n",
       "      <td>NaN</td>\n",
       "      <td>unknown</td>\n",
       "      <td>0.02</td>\n",
       "    </tr>\n",
       "  </tbody>\n",
       "</table>\n",
       "</div>"
      ],
      "text/plain": [
       "                                      name platform  year_of_release   genre  \\\n",
       "15955  Strongest Tokyo University Shogi DS       DS             1985  Action   \n",
       "\n",
       "       na_sales  eu_sales  jp_sales  other_sales  critic_score  user_score  \\\n",
       "15955       0.0       0.0      0.02          0.0           NaN         NaN   \n",
       "\n",
       "        rating  total_sales  \n",
       "15955  unknown         0.02  "
      ]
     },
     "execution_count": 28,
     "metadata": {},
     "output_type": "execute_result"
    }
   ],
   "source": [
    "top_platforms.query('year_of_release == 1985')"
   ]
  },
  {
   "cell_type": "markdown",
   "metadata": {},
   "source": [
    "Поискав инфо, выяснил, что дата релиза у игры 7 мая 2010 года. Почему так произошло? 1. Человеческий фактор при вводе данных 2. Предположу, что в момент выпуска 1985 года продажи не удались, а новую жизнь игра получила в 2010 году, как переизданная."
   ]
  },
  {
   "cell_type": "code",
   "execution_count": 29,
   "metadata": {},
   "outputs": [],
   "source": [
    "#Замена даты релиза на ту, которую нашел в интернете\n",
    "data_game.loc[15955,['year_of_release']] = 2010"
   ]
  },
  {
   "cell_type": "code",
   "execution_count": 30,
   "metadata": {},
   "outputs": [
    {
     "data": {
      "text/html": [
       "<div>\n",
       "<style scoped>\n",
       "    .dataframe tbody tr th:only-of-type {\n",
       "        vertical-align: middle;\n",
       "    }\n",
       "\n",
       "    .dataframe tbody tr th {\n",
       "        vertical-align: top;\n",
       "    }\n",
       "\n",
       "    .dataframe thead th {\n",
       "        text-align: right;\n",
       "    }\n",
       "</style>\n",
       "<table border=\"1\" class=\"dataframe\">\n",
       "  <thead>\n",
       "    <tr style=\"text-align: right;\">\n",
       "      <th></th>\n",
       "      <th>name</th>\n",
       "      <th>platform</th>\n",
       "      <th>year_of_release</th>\n",
       "      <th>genre</th>\n",
       "      <th>na_sales</th>\n",
       "      <th>eu_sales</th>\n",
       "      <th>jp_sales</th>\n",
       "      <th>other_sales</th>\n",
       "      <th>critic_score</th>\n",
       "      <th>user_score</th>\n",
       "      <th>rating</th>\n",
       "      <th>total_sales</th>\n",
       "    </tr>\n",
       "  </thead>\n",
       "  <tbody>\n",
       "    <tr>\n",
       "      <th>15955</th>\n",
       "      <td>Strongest Tokyo University Shogi DS</td>\n",
       "      <td>DS</td>\n",
       "      <td>2010</td>\n",
       "      <td>Action</td>\n",
       "      <td>0.0</td>\n",
       "      <td>0.0</td>\n",
       "      <td>0.02</td>\n",
       "      <td>0.0</td>\n",
       "      <td>NaN</td>\n",
       "      <td>NaN</td>\n",
       "      <td>unknown</td>\n",
       "      <td>0.02</td>\n",
       "    </tr>\n",
       "  </tbody>\n",
       "</table>\n",
       "</div>"
      ],
      "text/plain": [
       "                                      name platform  year_of_release   genre  \\\n",
       "15955  Strongest Tokyo University Shogi DS       DS             2010  Action   \n",
       "\n",
       "       na_sales  eu_sales  jp_sales  other_sales  critic_score  user_score  \\\n",
       "15955       0.0       0.0      0.02          0.0           NaN         NaN   \n",
       "\n",
       "        rating  total_sales  \n",
       "15955  unknown         0.02  "
      ]
     },
     "execution_count": 30,
     "metadata": {},
     "output_type": "execute_result"
    }
   ],
   "source": [
    "#Проверим изменение\n",
    "data_game.query('name == \"Strongest Tokyo University Shogi DS\"')"
   ]
  },
  {
   "cell_type": "code",
   "execution_count": 31,
   "metadata": {},
   "outputs": [
    {
     "data": {
      "text/html": [
       "<div>\n",
       "<style scoped>\n",
       "    .dataframe tbody tr th:only-of-type {\n",
       "        vertical-align: middle;\n",
       "    }\n",
       "\n",
       "    .dataframe tbody tr th {\n",
       "        vertical-align: top;\n",
       "    }\n",
       "\n",
       "    .dataframe thead th {\n",
       "        text-align: right;\n",
       "    }\n",
       "</style>\n",
       "<table border=\"1\" class=\"dataframe\">\n",
       "  <thead>\n",
       "    <tr style=\"text-align: right;\">\n",
       "      <th></th>\n",
       "      <th>name</th>\n",
       "      <th>platform</th>\n",
       "      <th>year_of_release</th>\n",
       "      <th>genre</th>\n",
       "      <th>na_sales</th>\n",
       "      <th>eu_sales</th>\n",
       "      <th>jp_sales</th>\n",
       "      <th>other_sales</th>\n",
       "      <th>critic_score</th>\n",
       "      <th>user_score</th>\n",
       "      <th>rating</th>\n",
       "      <th>total_sales</th>\n",
       "    </tr>\n",
       "  </thead>\n",
       "  <tbody>\n",
       "    <tr>\n",
       "      <th>15955</th>\n",
       "      <td>Strongest Tokyo University Shogi DS</td>\n",
       "      <td>DS</td>\n",
       "      <td>1985</td>\n",
       "      <td>Action</td>\n",
       "      <td>0.0</td>\n",
       "      <td>0.0</td>\n",
       "      <td>0.02</td>\n",
       "      <td>0.0</td>\n",
       "      <td>NaN</td>\n",
       "      <td>NaN</td>\n",
       "      <td>unknown</td>\n",
       "      <td>0.02</td>\n",
       "    </tr>\n",
       "  </tbody>\n",
       "</table>\n",
       "</div>"
      ],
      "text/plain": [
       "                                      name platform  year_of_release   genre  \\\n",
       "15955  Strongest Tokyo University Shogi DS       DS             1985  Action   \n",
       "\n",
       "       na_sales  eu_sales  jp_sales  other_sales  critic_score  user_score  \\\n",
       "15955       0.0       0.0      0.02          0.0           NaN         NaN   \n",
       "\n",
       "        rating  total_sales  \n",
       "15955  unknown         0.02  "
      ]
     },
     "execution_count": 31,
     "metadata": {},
     "output_type": "execute_result"
    }
   ],
   "source": [
    "top_platforms.query('name == \"Strongest Tokyo University Shogi DS\"')"
   ]
  },
  {
   "cell_type": "code",
   "execution_count": 32,
   "metadata": {},
   "outputs": [
    {
     "data": {
      "image/png": "[encoded data removed]",
      "text/plain": [
       "<Figure size 720x360 with 1 Axes>"
      ]
     },
     "metadata": {
      "needs_background": "light"
     },
     "output_type": "display_data"
    }
   ],
   "source": [
    "#Перестроим график платформ с максимальными продажами\n",
    "for b in max_sale:\n",
    "    (\n",
    "    data_game.query('platform == @b')\n",
    "    .pivot_table(index = 'year_of_release', values = 'total_sales', aggfunc = 'sum')\n",
    "    .sort_values('year_of_release', ascending = False,)['total_sales']\n",
    "    .plot(figsize = (10, 5), label=b, style='-o')\n",
    "    )\n",
    "    plt.title('Динамика платформ с максимальными продажами')\n",
    "    plt.xlabel('Год')\n",
    "    plt.ylabel('Суммарные продажи')\n",
    "    plt.legend()"
   ]
  },
  {
   "cell_type": "markdown",
   "metadata": {},
   "source": [
    "**Вывод:**\n",
    "На основе графика можно заключить, что средний жизненный цикл каждой игровой платформы составляет около 10 лет. Наиболее успешными они остаются в течение первых 5 лет, достигая пика продаж, после чего начинается спад.\n",
    "\n",
    "Наиболее успешными платформами являются Sony PlayStation и Xbox, тогда как у Nintendo Wii наблюдался резкий рост продаж в 2009 году, за которым последовало столь же стремительное падение.\n"
   ]
  },
  {
   "cell_type": "code",
   "execution_count": 33,
   "metadata": {},
   "outputs": [
    {
     "data": {
      "text/plain": [
       "7.0"
      ]
     },
     "execution_count": 33,
     "metadata": {},
     "output_type": "execute_result"
    }
   ],
   "source": [
    "# Комментарий ревьюера\n",
    "temp = data_game.copy() \n",
    "time_life = temp.pivot_table(index='platform', values='year_of_release', aggfunc=['min', 'max']).reset_index()\n",
    "time_life['life'] = time_life['max'] - time_life['min'] + 1 # в срок жизни платформы, должны входить границы диапазона, \n",
    "                                                            # поэтому +1\n",
    "time_life['life'].median()"
   ]
  },
  {
   "cell_type": "markdown",
   "metadata": {},
   "source": [
    "**Промежуточный вывод:**\n",
    "\n",
    "Игровые консоли в среднем существуют около 10 лет, с пиком популярности и продаж примерно через 5 лет после релиза. Наиболее успешные платформы, такие как Sony PlayStation и Xbox, подтверждают эту тенденцию, а Nintendo Wii показала резкий рост в 2009 году и столь же стремительный спад. Прогресс неизбежно делает старые консоли устаревшими, так как их технические характеристики перестают соответствовать требованиям новых игр.\n",
    "\n",
    "Для анализа и прогнозирования данных на 2017 год, важно выбрать соответствующий временной промежуток. Большинство современных на тот момент консолей, таких как Wii, PS3 и X360, вышли на рынок в 2006 году и к 2013 году начали терять актуальность. В то же время, именно с 2013 года начался рост новых платформ, которые будут играть ключевую роль в будущем. Поэтому для построения предсказательных моделей на основе актуальных данных логично сосредоточиться на периоде, начиная с 2013 года."
   ]
  },
  {
   "cell_type": "markdown",
   "metadata": {},
   "source": [
    "**Какие платформы лидируют по продажам, растут или падают? Выберите несколько потенциально прибыльных платформ.**"
   ]
  },
  {
   "cell_type": "code",
   "execution_count": 34,
   "metadata": {},
   "outputs": [
    {
     "data": {
      "text/html": [
       "<div>\n",
       "<style scoped>\n",
       "    .dataframe tbody tr th:only-of-type {\n",
       "        vertical-align: middle;\n",
       "    }\n",
       "\n",
       "    .dataframe tbody tr th {\n",
       "        vertical-align: top;\n",
       "    }\n",
       "\n",
       "    .dataframe thead th {\n",
       "        text-align: right;\n",
       "    }\n",
       "</style>\n",
       "<table border=\"1\" class=\"dataframe\">\n",
       "  <thead>\n",
       "    <tr style=\"text-align: right;\">\n",
       "      <th></th>\n",
       "      <th>name</th>\n",
       "      <th>platform</th>\n",
       "      <th>year_of_release</th>\n",
       "      <th>genre</th>\n",
       "      <th>na_sales</th>\n",
       "      <th>eu_sales</th>\n",
       "      <th>jp_sales</th>\n",
       "      <th>other_sales</th>\n",
       "      <th>critic_score</th>\n",
       "      <th>user_score</th>\n",
       "      <th>rating</th>\n",
       "      <th>total_sales</th>\n",
       "    </tr>\n",
       "  </thead>\n",
       "  <tbody>\n",
       "    <tr>\n",
       "      <th>16</th>\n",
       "      <td>Grand Theft Auto V</td>\n",
       "      <td>PS3</td>\n",
       "      <td>2013</td>\n",
       "      <td>Action</td>\n",
       "      <td>7.02</td>\n",
       "      <td>9.09</td>\n",
       "      <td>0.98</td>\n",
       "      <td>3.96</td>\n",
       "      <td>97.0</td>\n",
       "      <td>8.2</td>\n",
       "      <td>M</td>\n",
       "      <td>21.05</td>\n",
       "    </tr>\n",
       "    <tr>\n",
       "      <th>23</th>\n",
       "      <td>Grand Theft Auto V</td>\n",
       "      <td>X360</td>\n",
       "      <td>2013</td>\n",
       "      <td>Action</td>\n",
       "      <td>9.66</td>\n",
       "      <td>5.14</td>\n",
       "      <td>0.06</td>\n",
       "      <td>1.41</td>\n",
       "      <td>97.0</td>\n",
       "      <td>8.1</td>\n",
       "      <td>M</td>\n",
       "      <td>16.27</td>\n",
       "    </tr>\n",
       "    <tr>\n",
       "      <th>31</th>\n",
       "      <td>Call of Duty: Black Ops 3</td>\n",
       "      <td>PS4</td>\n",
       "      <td>2015</td>\n",
       "      <td>Shooter</td>\n",
       "      <td>6.03</td>\n",
       "      <td>5.86</td>\n",
       "      <td>0.36</td>\n",
       "      <td>2.38</td>\n",
       "      <td>NaN</td>\n",
       "      <td>NaN</td>\n",
       "      <td>unknown</td>\n",
       "      <td>14.63</td>\n",
       "    </tr>\n",
       "    <tr>\n",
       "      <th>33</th>\n",
       "      <td>Pokemon X/Pokemon Y</td>\n",
       "      <td>3DS</td>\n",
       "      <td>2013</td>\n",
       "      <td>Role-Playing</td>\n",
       "      <td>5.28</td>\n",
       "      <td>4.19</td>\n",
       "      <td>4.35</td>\n",
       "      <td>0.78</td>\n",
       "      <td>NaN</td>\n",
       "      <td>NaN</td>\n",
       "      <td>unknown</td>\n",
       "      <td>14.60</td>\n",
       "    </tr>\n",
       "    <tr>\n",
       "      <th>42</th>\n",
       "      <td>Grand Theft Auto V</td>\n",
       "      <td>PS4</td>\n",
       "      <td>2014</td>\n",
       "      <td>Action</td>\n",
       "      <td>3.96</td>\n",
       "      <td>6.31</td>\n",
       "      <td>0.38</td>\n",
       "      <td>1.97</td>\n",
       "      <td>97.0</td>\n",
       "      <td>8.3</td>\n",
       "      <td>M</td>\n",
       "      <td>12.62</td>\n",
       "    </tr>\n",
       "    <tr>\n",
       "      <th>...</th>\n",
       "      <td>...</td>\n",
       "      <td>...</td>\n",
       "      <td>...</td>\n",
       "      <td>...</td>\n",
       "      <td>...</td>\n",
       "      <td>...</td>\n",
       "      <td>...</td>\n",
       "      <td>...</td>\n",
       "      <td>...</td>\n",
       "      <td>...</td>\n",
       "      <td>...</td>\n",
       "      <td>...</td>\n",
       "    </tr>\n",
       "    <tr>\n",
       "      <th>16700</th>\n",
       "      <td>Strawberry Nauts</td>\n",
       "      <td>PSV</td>\n",
       "      <td>2016</td>\n",
       "      <td>Adventure</td>\n",
       "      <td>0.00</td>\n",
       "      <td>0.00</td>\n",
       "      <td>0.01</td>\n",
       "      <td>0.00</td>\n",
       "      <td>NaN</td>\n",
       "      <td>NaN</td>\n",
       "      <td>unknown</td>\n",
       "      <td>0.01</td>\n",
       "    </tr>\n",
       "    <tr>\n",
       "      <th>16704</th>\n",
       "      <td>Aiyoku no Eustia</td>\n",
       "      <td>PSV</td>\n",
       "      <td>2014</td>\n",
       "      <td>Misc</td>\n",
       "      <td>0.00</td>\n",
       "      <td>0.00</td>\n",
       "      <td>0.01</td>\n",
       "      <td>0.00</td>\n",
       "      <td>NaN</td>\n",
       "      <td>NaN</td>\n",
       "      <td>unknown</td>\n",
       "      <td>0.01</td>\n",
       "    </tr>\n",
       "    <tr>\n",
       "      <th>16707</th>\n",
       "      <td>Samurai Warriors: Sanada Maru</td>\n",
       "      <td>PS3</td>\n",
       "      <td>2016</td>\n",
       "      <td>Action</td>\n",
       "      <td>0.00</td>\n",
       "      <td>0.00</td>\n",
       "      <td>0.01</td>\n",
       "      <td>0.00</td>\n",
       "      <td>NaN</td>\n",
       "      <td>NaN</td>\n",
       "      <td>unknown</td>\n",
       "      <td>0.01</td>\n",
       "    </tr>\n",
       "    <tr>\n",
       "      <th>16709</th>\n",
       "      <td>Haitaka no Psychedelica</td>\n",
       "      <td>PSV</td>\n",
       "      <td>2016</td>\n",
       "      <td>Adventure</td>\n",
       "      <td>0.00</td>\n",
       "      <td>0.00</td>\n",
       "      <td>0.01</td>\n",
       "      <td>0.00</td>\n",
       "      <td>NaN</td>\n",
       "      <td>NaN</td>\n",
       "      <td>unknown</td>\n",
       "      <td>0.01</td>\n",
       "    </tr>\n",
       "    <tr>\n",
       "      <th>16711</th>\n",
       "      <td>Winning Post 8 2016</td>\n",
       "      <td>PSV</td>\n",
       "      <td>2016</td>\n",
       "      <td>Simulation</td>\n",
       "      <td>0.00</td>\n",
       "      <td>0.00</td>\n",
       "      <td>0.01</td>\n",
       "      <td>0.00</td>\n",
       "      <td>NaN</td>\n",
       "      <td>NaN</td>\n",
       "      <td>unknown</td>\n",
       "      <td>0.01</td>\n",
       "    </tr>\n",
       "  </tbody>\n",
       "</table>\n",
       "<p>2233 rows × 12 columns</p>\n",
       "</div>"
      ],
      "text/plain": [
       "                                name platform  year_of_release         genre  \\\n",
       "16                Grand Theft Auto V      PS3             2013        Action   \n",
       "23                Grand Theft Auto V     X360             2013        Action   \n",
       "31         Call of Duty: Black Ops 3      PS4             2015       Shooter   \n",
       "33               Pokemon X/Pokemon Y      3DS             2013  Role-Playing   \n",
       "42                Grand Theft Auto V      PS4             2014        Action   \n",
       "...                              ...      ...              ...           ...   \n",
       "16700               Strawberry Nauts      PSV             2016     Adventure   \n",
       "16704               Aiyoku no Eustia      PSV             2014          Misc   \n",
       "16707  Samurai Warriors: Sanada Maru      PS3             2016        Action   \n",
       "16709        Haitaka no Psychedelica      PSV             2016     Adventure   \n",
       "16711            Winning Post 8 2016      PSV             2016    Simulation   \n",
       "\n",
       "       na_sales  eu_sales  jp_sales  other_sales  critic_score  user_score  \\\n",
       "16         7.02      9.09      0.98         3.96          97.0         8.2   \n",
       "23         9.66      5.14      0.06         1.41          97.0         8.1   \n",
       "31         6.03      5.86      0.36         2.38           NaN         NaN   \n",
       "33         5.28      4.19      4.35         0.78           NaN         NaN   \n",
       "42         3.96      6.31      0.38         1.97          97.0         8.3   \n",
       "...         ...       ...       ...          ...           ...         ...   \n",
       "16700      0.00      0.00      0.01         0.00           NaN         NaN   \n",
       "16704      0.00      0.00      0.01         0.00           NaN         NaN   \n",
       "16707      0.00      0.00      0.01         0.00           NaN         NaN   \n",
       "16709      0.00      0.00      0.01         0.00           NaN         NaN   \n",
       "16711      0.00      0.00      0.01         0.00           NaN         NaN   \n",
       "\n",
       "        rating  total_sales  \n",
       "16           M        21.05  \n",
       "23           M        16.27  \n",
       "31     unknown        14.63  \n",
       "33     unknown        14.60  \n",
       "42           M        12.62  \n",
       "...        ...          ...  \n",
       "16700  unknown         0.01  \n",
       "16704  unknown         0.01  \n",
       "16707  unknown         0.01  \n",
       "16709  unknown         0.01  \n",
       "16711  unknown         0.01  \n",
       "\n",
       "[2233 rows x 12 columns]"
      ]
     },
     "metadata": {},
     "output_type": "display_data"
    }
   ],
   "source": [
    "data_2013 = data_game[data_game['year_of_release'] >= 2013]\n",
    "display(data_2013)"
   ]
  },
  {
   "cell_type": "code",
   "execution_count": 35,
   "metadata": {},
   "outputs": [
    {
     "data": {
      "image/png": "[encoded data removed]",
      "text/plain": [
       "<Figure size 720x360 with 1 Axes>"
      ]
     },
     "metadata": {
      "needs_background": "light"
     },
     "output_type": "display_data"
    }
   ],
   "source": [
    "for b in data_2013['platform'].unique():\n",
    "    (\n",
    "    data_2013.query('platform == @b')\n",
    "    .pivot_table(index = 'year_of_release', values = 'total_sales', aggfunc = 'sum')\n",
    "    .sort_values('year_of_release', ascending = False)['total_sales']\n",
    "    .plot(kind='line', figsize = (10, 5), label=b, style='-o')\n",
    "    )\n",
    "    plt.title('Динамика платформ в период прогнозирования')\n",
    "    plt.xticks(np.arange(2013, 2018, step=1))\n",
    "    plt.xlabel('Год')\n",
    "    plt.ylabel('Суммарные продажи')\n",
    "    plt.legend()"
   ]
  },
  {
   "cell_type": "markdown",
   "metadata": {},
   "source": [
    "**Вывод:**\n",
    "Согласно графику, общая тенденция продаж консолей отрицательная. Однако новые консоли, такие как PS4 и XOne, выпущенные относительно недавно, также начали показывать снижение продаж. Тем не менее, именно эти платформы остаются перспективными, поскольку на них сосредоточено внимание в ближайшие годы."
   ]
  },
  {
   "cell_type": "markdown",
   "metadata": {},
   "source": [
    "**Постройте график «ящик с усами» по глобальным продажам игр в разбивке по платформам. Опишите результат.**"
   ]
  },
  {
   "cell_type": "code",
   "execution_count": 36,
   "metadata": {},
   "outputs": [
    {
     "data": {
      "text/html": [
       "<div>\n",
       "<style scoped>\n",
       "    .dataframe tbody tr th:only-of-type {\n",
       "        vertical-align: middle;\n",
       "    }\n",
       "\n",
       "    .dataframe tbody tr th {\n",
       "        vertical-align: top;\n",
       "    }\n",
       "\n",
       "    .dataframe thead th {\n",
       "        text-align: right;\n",
       "    }\n",
       "</style>\n",
       "<table border=\"1\" class=\"dataframe\">\n",
       "  <thead>\n",
       "    <tr style=\"text-align: right;\">\n",
       "      <th></th>\n",
       "      <th>year_of_release</th>\n",
       "      <th>na_sales</th>\n",
       "      <th>eu_sales</th>\n",
       "      <th>jp_sales</th>\n",
       "      <th>other_sales</th>\n",
       "      <th>critic_score</th>\n",
       "      <th>user_score</th>\n",
       "      <th>total_sales</th>\n",
       "    </tr>\n",
       "  </thead>\n",
       "  <tbody>\n",
       "    <tr>\n",
       "      <th>count</th>\n",
       "      <td>2233.000000</td>\n",
       "      <td>2233.000000</td>\n",
       "      <td>2233.000000</td>\n",
       "      <td>2233.000000</td>\n",
       "      <td>2233.000000</td>\n",
       "      <td>991.000000</td>\n",
       "      <td>1192.000000</td>\n",
       "      <td>2233.000000</td>\n",
       "    </tr>\n",
       "    <tr>\n",
       "      <th>mean</th>\n",
       "      <td>2014.477385</td>\n",
       "      <td>0.196019</td>\n",
       "      <td>0.175652</td>\n",
       "      <td>0.063045</td>\n",
       "      <td>0.053726</td>\n",
       "      <td>72.023209</td>\n",
       "      <td>6.584564</td>\n",
       "      <td>0.488442</td>\n",
       "    </tr>\n",
       "    <tr>\n",
       "      <th>std</th>\n",
       "      <td>1.089439</td>\n",
       "      <td>0.547730</td>\n",
       "      <td>0.512451</td>\n",
       "      <td>0.233997</td>\n",
       "      <td>0.165693</td>\n",
       "      <td>12.841318</td>\n",
       "      <td>1.610413</td>\n",
       "      <td>1.235226</td>\n",
       "    </tr>\n",
       "    <tr>\n",
       "      <th>min</th>\n",
       "      <td>2013.000000</td>\n",
       "      <td>0.000000</td>\n",
       "      <td>0.000000</td>\n",
       "      <td>0.000000</td>\n",
       "      <td>0.000000</td>\n",
       "      <td>13.000000</td>\n",
       "      <td>0.200000</td>\n",
       "      <td>0.010000</td>\n",
       "    </tr>\n",
       "    <tr>\n",
       "      <th>25%</th>\n",
       "      <td>2014.000000</td>\n",
       "      <td>0.000000</td>\n",
       "      <td>0.000000</td>\n",
       "      <td>0.000000</td>\n",
       "      <td>0.000000</td>\n",
       "      <td>66.000000</td>\n",
       "      <td>5.800000</td>\n",
       "      <td>0.030000</td>\n",
       "    </tr>\n",
       "    <tr>\n",
       "      <th>50%</th>\n",
       "      <td>2014.000000</td>\n",
       "      <td>0.020000</td>\n",
       "      <td>0.030000</td>\n",
       "      <td>0.010000</td>\n",
       "      <td>0.010000</td>\n",
       "      <td>74.000000</td>\n",
       "      <td>7.000000</td>\n",
       "      <td>0.110000</td>\n",
       "    </tr>\n",
       "    <tr>\n",
       "      <th>75%</th>\n",
       "      <td>2015.000000</td>\n",
       "      <td>0.150000</td>\n",
       "      <td>0.130000</td>\n",
       "      <td>0.050000</td>\n",
       "      <td>0.040000</td>\n",
       "      <td>81.000000</td>\n",
       "      <td>7.800000</td>\n",
       "      <td>0.400000</td>\n",
       "    </tr>\n",
       "    <tr>\n",
       "      <th>max</th>\n",
       "      <td>2016.000000</td>\n",
       "      <td>9.660000</td>\n",
       "      <td>9.090000</td>\n",
       "      <td>4.350000</td>\n",
       "      <td>3.960000</td>\n",
       "      <td>97.000000</td>\n",
       "      <td>9.300000</td>\n",
       "      <td>21.050000</td>\n",
       "    </tr>\n",
       "  </tbody>\n",
       "</table>\n",
       "</div>"
      ],
      "text/plain": [
       "       year_of_release     na_sales     eu_sales     jp_sales  other_sales  \\\n",
       "count      2233.000000  2233.000000  2233.000000  2233.000000  2233.000000   \n",
       "mean       2014.477385     0.196019     0.175652     0.063045     0.053726   \n",
       "std           1.089439     0.547730     0.512451     0.233997     0.165693   \n",
       "min        2013.000000     0.000000     0.000000     0.000000     0.000000   \n",
       "25%        2014.000000     0.000000     0.000000     0.000000     0.000000   \n",
       "50%        2014.000000     0.020000     0.030000     0.010000     0.010000   \n",
       "75%        2015.000000     0.150000     0.130000     0.050000     0.040000   \n",
       "max        2016.000000     9.660000     9.090000     4.350000     3.960000   \n",
       "\n",
       "       critic_score   user_score  total_sales  \n",
       "count    991.000000  1192.000000  2233.000000  \n",
       "mean      72.023209     6.584564     0.488442  \n",
       "std       12.841318     1.610413     1.235226  \n",
       "min       13.000000     0.200000     0.010000  \n",
       "25%       66.000000     5.800000     0.030000  \n",
       "50%       74.000000     7.000000     0.110000  \n",
       "75%       81.000000     7.800000     0.400000  \n",
       "max       97.000000     9.300000    21.050000  "
      ]
     },
     "execution_count": 36,
     "metadata": {},
     "output_type": "execute_result"
    }
   ],
   "source": [
    "data_2013.describe()"
   ]
  },
  {
   "cell_type": "code",
   "execution_count": 37,
   "metadata": {},
   "outputs": [
    {
     "data": {
      "image/png": "[encoded data removed]",
      "text/plain": [
       "<Figure size 864x576 with 1 Axes>"
      ]
     },
     "metadata": {
      "needs_background": "light"
     },
     "output_type": "display_data"
    }
   ],
   "source": [
    "plt.figure(figsize=(12, 8))\n",
    "sns.boxplot(data=data_2013, x='platform', y='total_sales')\n",
    "plt.title('Глобальные продажи игр по платформам')\n",
    "plt.xlabel('Платформа')\n",
    "plt.ylabel('Суммарные продажи')\n",
    "plt.ylim(0, 2) \n",
    "plt.xticks(rotation=45)\n",
    "plt.show()"
   ]
  },
  {
   "cell_type": "code",
   "execution_count": 38,
   "metadata": {},
   "outputs": [
    {
     "data": {
      "image/png": "[encoded data removed]",
      "text/plain": [
       "<Figure size 1080x720 with 1 Axes>"
      ]
     },
     "metadata": {
      "needs_background": "light"
     },
     "output_type": "display_data"
    }
   ],
   "source": [
    "plt.figure(figsize = (15,10))\n",
    "sns.boxplot(data = data_2013, x = \"platform\", y= 'total_sales');\n",
    "plt.title('Глобальные продажи игр по платформам')\n",
    "plt.xlabel('Платформа')\n",
    "plt.ylabel('Суммарные продажи')\n",
    "plt.xticks(rotation=45)\n",
    "plt.show()"
   ]
  },
  {
   "cell_type": "markdown",
   "metadata": {},
   "source": [
    "**Вывод:**\n",
    "    У PS3, Xbox 360, PS4 и Nintendo 3DS есть проекты, которые значительно выделяются по уровню продаж по сравнению с основным объёмом игр на этих консолях.\n",
    "    \n",
    "У Nintendo DS, Xbox One, WiiU, Wii и PC наблюдается лишь по одной такой игре за выбранный период. \n",
    "\n",
    "У PSVita и PSP подобных крупных проектов в рассматриваемый период не обнаружено.\n",
    "\n",
    "Для более детального анализа, можно отделить основную часть выбросов от всех платформ и сосредоточиться на основной массе игр."
   ]
  },
  {
   "cell_type": "markdown",
   "metadata": {},
   "source": [
    "**Промежуточный вывод:**\n",
    "Сразу заметно, что максимальные и медианные значения продаж существенно различаются между платформами. У явного лидера — PS4 — распределение продаж смещено в сторону более высоких значений. Это свидетельствует о том, что PS4 является самой популярной и успешной платформой: игры, разработанные для нее, имели высокие тиражи и пользовались большим спросом."
   ]
  },
  {
   "cell_type": "markdown",
   "metadata": {},
   "source": [
    "**Посмотрите, как влияют на продажи внутри одной популярной платформы отзывы пользователей и критиков. Постройте диаграмму рассеяния и посчитайте корреляцию между отзывами и продажами. Сформулируйте выводы.**"
   ]
  },
  {
   "cell_type": "code",
   "execution_count": 39,
   "metadata": {},
   "outputs": [
    {
     "data": {
      "text/plain": [
       "['PS4', 'PS3', 'XOne', '3DS', 'X360']"
      ]
     },
     "execution_count": 39,
     "metadata": {},
     "output_type": "execute_result"
    }
   ],
   "source": [
    "#Оценки пользователей и продажи по 5-ти популярным платформам.\n",
    "data_2013_top = (data_2013.pivot_table(index='platform', values='total_sales', aggfunc='sum')\n",
    "    .sort_values(by='total_sales', ascending=False)\n",
    "    .reset_index().head(5)['platform'].tolist()\n",
    "    )                         \n",
    "data_2013_top\n",
    "['PS4', 'PS3', 'XOne', '3DS', 'X360']"
   ]
  },
  {
   "cell_type": "code",
   "execution_count": 40,
   "metadata": {},
   "outputs": [
    {
     "data": {
      "image/png": "[encoded data removed]",
      "text/plain": [
       "<Figure size 720x360 with 2 Axes>"
      ]
     },
     "metadata": {
      "needs_background": "light"
     },
     "output_type": "display_data"
    },
    {
     "name": "stdout",
     "output_type": "stream",
     "text": [
      "Платформа: PS4\n",
      "Корреляция между оценками пользователей и продажами: -0.03\n",
      "Корреляция между оценками критиков и продажами: 0.41\n",
      "--------------------------------------------------\n"
     ]
    },
    {
     "data": {
      "image/png": "[encoded data removed]",
      "text/plain": [
       "<Figure size 720x360 with 2 Axes>"
      ]
     },
     "metadata": {
      "needs_background": "light"
     },
     "output_type": "display_data"
    },
    {
     "name": "stdout",
     "output_type": "stream",
     "text": [
      "Платформа: PS3\n",
      "Корреляция между оценками пользователей и продажами: 0.00\n",
      "Корреляция между оценками критиков и продажами: 0.33\n",
      "--------------------------------------------------\n"
     ]
    },
    {
     "data": {
      "image/png": "[encoded data removed]",
      "text/plain": [
       "<Figure size 720x360 with 2 Axes>"
      ]
     },
     "metadata": {
      "needs_background": "light"
     },
     "output_type": "display_data"
    },
    {
     "name": "stdout",
     "output_type": "stream",
     "text": [
      "Платформа: XOne\n",
      "Корреляция между оценками пользователей и продажами: -0.07\n",
      "Корреляция между оценками критиков и продажами: 0.42\n",
      "--------------------------------------------------\n"
     ]
    },
    {
     "data": {
      "image/png": "[encoded data removed]",
      "text/plain": [
       "<Figure size 720x360 with 2 Axes>"
      ]
     },
     "metadata": {
      "needs_background": "light"
     },
     "output_type": "display_data"
    },
    {
     "name": "stdout",
     "output_type": "stream",
     "text": [
      "Платформа: 3DS\n",
      "Корреляция между оценками пользователей и продажами: 0.24\n",
      "Корреляция между оценками критиков и продажами: 0.36\n",
      "--------------------------------------------------\n"
     ]
    },
    {
     "data": {
      "image/png": "[encoded data removed]",
      "text/plain": [
       "<Figure size 720x360 with 2 Axes>"
      ]
     },
     "metadata": {
      "needs_background": "light"
     },
     "output_type": "display_data"
    },
    {
     "name": "stdout",
     "output_type": "stream",
     "text": [
      "Платформа: X360\n",
      "Корреляция между оценками пользователей и продажами: -0.01\n",
      "Корреляция между оценками критиков и продажами: 0.35\n",
      "--------------------------------------------------\n"
     ]
    }
   ],
   "source": [
    "#Диаграмма для каждой платформы\n",
    "\n",
    "for platform in data_2013_top:\n",
    "    platform_data = data_2013[data_2013['platform'] == platform]\n",
    "    \n",
    "    plt.figure(figsize=(10, 5))\n",
    "\n",
    "    plt.subplot(1, 2, 1)\n",
    "    sns.scatterplot(x=platform_data['user_score'], y=platform_data['total_sales'])\n",
    "    plt.title(f'Оценки пользователей и продажи ({platform})')\n",
    "    plt.xlabel('Оценка пользователей')\n",
    "    plt.ylabel('Общие продажи')\n",
    "\n",
    "    plt.subplot(1, 2, 2)\n",
    "    sns.scatterplot(x=platform_data['critic_score'], y=platform_data['total_sales'])\n",
    "    plt.title(f'Оценки критиков и продажи ({platform})')\n",
    "    plt.xlabel('Оценка критиков')\n",
    "    plt.ylabel('Общие продажи')\n",
    "\n",
    "    plt.tight_layout()\n",
    "    plt.show()\n",
    "\n",
    "    #Корреляция между оценками и продажами\n",
    "    user_corr = platform_data['user_score'].corr(platform_data['total_sales'])\n",
    "    critic_corr = platform_data['critic_score'].corr(platform_data['total_sales'])\n",
    "\n",
    "    print(f'Платформа: {platform}')\n",
    "    print(f'Корреляция между оценками пользователей и продажами: {user_corr:.2f}')\n",
    "    print(f'Корреляция между оценками критиков и продажами: {critic_corr:.2f}')\n",
    "    print('-' * 50)\n",
    "\n",
    "    "
   ]
  },
  {
   "cell_type": "markdown",
   "metadata": {},
   "source": [
    "**Вывод**\n",
    "\n",
    "Корреляция между оценками и продажами:\n",
    "\n",
    "- В большинстве случаев корреляция между оценками пользователей и объемами продаж слабая или вовсе отсутствует. Это означает, что высокие оценки пользователей не всегда приводят к большим продажам, и наоборот — игры с низкими оценками могут иметь хорошие продажи.\n",
    "- Платформы могут демонстрировать разные уровни связи между оценками пользователей и успехом в продажах, что может быть связано с различиями в аудитории платформ.\n",
    "\n",
    "Отсутствие явных трендов:\n",
    "\n",
    "- На графиках не видно явной линейной зависимости между оценками пользователей и продажами. Это может свидетельствовать о том, что на объем продаж влияют и другие факторы, такие как маркетинговые усилия, популярность франшизы, эксклюзивность игры и другие.\n",
    "\n",
    "Выбросы:\n",
    "\n",
    "- Некоторые платформы могут иметь отдельные игры, которые показывают высокие продажи независимо от пользовательских оценок. Это может быть связано с сильным брендом, громкими релизами или популярностью среди широкой аудитории, несмотря на критические отзывы."
   ]
  },
  {
   "cell_type": "markdown",
   "metadata": {},
   "source": [
    "Для пяти выбранных платформ наблюдается слабая зависимость между оценками и продажами. Однако для PS3 и X360 показатель ближе к корреляции между оценками критиков и продажами, тогда как для PS4 и XOne ситуация обратная.\n",
    "\n",
    "В целом можно сделать вывод, что мнение критиков оказывает большее влияние."
   ]
  },
  {
   "cell_type": "markdown",
   "metadata": {},
   "source": [
    "**Соотнесите выводы с продажами игр на других платформах**"
   ]
  },
  {
   "cell_type": "markdown",
   "metadata": {},
   "source": [
    "**Промежуточный вывод:**\n",
    " В целом наблюдается слабая прямая зависимость между оценками и продажами игр. Иными словами, успех игры на рынке не сильно коррелирует с отзывами критиков и пользователей, хотя мнение критиков, похоже, оказывает большее влияние на продажи. Это может указывать на то, что факторы, такие как маркетинг, известность бренда или жанровые предпочтения, играют более значимую роль в успехе игры, чем сами оценки."
   ]
  },
  {
   "cell_type": "markdown",
   "metadata": {},
   "source": [
    "**Посмотрите на общее распределение игр по жанрам. Что можно сказать о самых прибыльных жанрах? Выделяются ли жанры с высокими и низкими продажами?**\n"
   ]
  },
  {
   "cell_type": "code",
   "execution_count": 41,
   "metadata": {},
   "outputs": [
    {
     "data": {
      "image/png": "[encoded data removed]",
      "text/plain": [
       "<Figure size 864x576 with 1 Axes>"
      ]
     },
     "metadata": {
      "needs_background": "light"
     },
     "output_type": "display_data"
    }
   ],
   "source": [
    "plt.figure(figsize = (12,8))\n",
    "sns.boxplot(data = data_2013, x = \"genre\", y= 'total_sales', );\n",
    "plt.title('Прибыль по жанрам')\n",
    "plt.xlabel('Жанр')\n",
    "plt.ylabel('Суммарные продажи')\n",
    "plt.xticks(rotation=45)\n",
    "plt.ylim(0, 2) \n",
    "plt.show()"
   ]
  },
  {
   "cell_type": "code",
   "execution_count": 42,
   "metadata": {},
   "outputs": [
    {
     "data": {
      "image/png": "[encoded data removed]",
      "text/plain": [
       "<Figure size 1080x720 with 1 Axes>"
      ]
     },
     "metadata": {
      "needs_background": "light"
     },
     "output_type": "display_data"
    }
   ],
   "source": [
    "plt.figure(figsize = (15,10))\n",
    "sns.boxplot(data = data_2013, x = \"genre\", y= 'total_sales', );\n",
    "plt.title('Прибыль по жанрам')\n",
    "plt.xlabel('Жанр')\n",
    "plt.ylabel('Суммарные продажи')\n",
    "plt.xticks(rotation=45)\n",
    "plt.show()"
   ]
  },
  {
   "cell_type": "code",
   "execution_count": 43,
   "metadata": {},
   "outputs": [
    {
     "data": {
      "text/html": [
       "<div>\n",
       "<style scoped>\n",
       "    .dataframe tbody tr th:only-of-type {\n",
       "        vertical-align: middle;\n",
       "    }\n",
       "\n",
       "    .dataframe tbody tr th {\n",
       "        vertical-align: top;\n",
       "    }\n",
       "\n",
       "    .dataframe thead th {\n",
       "        text-align: right;\n",
       "    }\n",
       "</style>\n",
       "<table border=\"1\" class=\"dataframe\">\n",
       "  <thead>\n",
       "    <tr style=\"text-align: right;\">\n",
       "      <th></th>\n",
       "      <th>Количество релизов</th>\n",
       "      <th>Медиана</th>\n",
       "      <th>Прибыль от продаж</th>\n",
       "    </tr>\n",
       "    <tr>\n",
       "      <th>Жанр</th>\n",
       "      <th></th>\n",
       "      <th></th>\n",
       "      <th></th>\n",
       "    </tr>\n",
       "  </thead>\n",
       "  <tbody>\n",
       "    <tr>\n",
       "      <th>Action</th>\n",
       "      <td>766</td>\n",
       "      <td>0.110</td>\n",
       "      <td>321.87</td>\n",
       "    </tr>\n",
       "    <tr>\n",
       "      <th>Shooter</th>\n",
       "      <td>187</td>\n",
       "      <td>0.450</td>\n",
       "      <td>232.98</td>\n",
       "    </tr>\n",
       "    <tr>\n",
       "      <th>Sports</th>\n",
       "      <td>214</td>\n",
       "      <td>0.240</td>\n",
       "      <td>150.65</td>\n",
       "    </tr>\n",
       "    <tr>\n",
       "      <th>Role-Playing</th>\n",
       "      <td>292</td>\n",
       "      <td>0.125</td>\n",
       "      <td>145.89</td>\n",
       "    </tr>\n",
       "    <tr>\n",
       "      <th>Misc</th>\n",
       "      <td>155</td>\n",
       "      <td>0.100</td>\n",
       "      <td>62.82</td>\n",
       "    </tr>\n",
       "    <tr>\n",
       "      <th>Platform</th>\n",
       "      <td>74</td>\n",
       "      <td>0.225</td>\n",
       "      <td>42.63</td>\n",
       "    </tr>\n",
       "    <tr>\n",
       "      <th>Racing</th>\n",
       "      <td>85</td>\n",
       "      <td>0.120</td>\n",
       "      <td>39.89</td>\n",
       "    </tr>\n",
       "    <tr>\n",
       "      <th>Fighting</th>\n",
       "      <td>80</td>\n",
       "      <td>0.125</td>\n",
       "      <td>35.31</td>\n",
       "    </tr>\n",
       "    <tr>\n",
       "      <th>Adventure</th>\n",
       "      <td>245</td>\n",
       "      <td>0.030</td>\n",
       "      <td>23.64</td>\n",
       "    </tr>\n",
       "    <tr>\n",
       "      <th>Simulation</th>\n",
       "      <td>62</td>\n",
       "      <td>0.100</td>\n",
       "      <td>21.76</td>\n",
       "    </tr>\n",
       "    <tr>\n",
       "      <th>Strategy</th>\n",
       "      <td>56</td>\n",
       "      <td>0.080</td>\n",
       "      <td>10.08</td>\n",
       "    </tr>\n",
       "    <tr>\n",
       "      <th>Puzzle</th>\n",
       "      <td>17</td>\n",
       "      <td>0.060</td>\n",
       "      <td>3.17</td>\n",
       "    </tr>\n",
       "  </tbody>\n",
       "</table>\n",
       "</div>"
      ],
      "text/plain": [
       "              Количество релизов  Медиана  Прибыль от продаж\n",
       "Жанр                                                        \n",
       "Action                       766    0.110             321.87\n",
       "Shooter                      187    0.450             232.98\n",
       "Sports                       214    0.240             150.65\n",
       "Role-Playing                 292    0.125             145.89\n",
       "Misc                         155    0.100              62.82\n",
       "Platform                      74    0.225              42.63\n",
       "Racing                        85    0.120              39.89\n",
       "Fighting                      80    0.125              35.31\n",
       "Adventure                    245    0.030              23.64\n",
       "Simulation                    62    0.100              21.76\n",
       "Strategy                      56    0.080              10.08\n",
       "Puzzle                        17    0.060               3.17"
      ]
     },
     "execution_count": 43,
     "metadata": {},
     "output_type": "execute_result"
    }
   ],
   "source": [
    "#Сводная таблица для удобного сравнения\n",
    "data_2013.rename(columns={\n",
    "    'genre':'Жанр'\n",
    "}).pivot_table(\n",
    "    index='Жанр',\n",
    "    values='total_sales',\n",
    "    aggfunc=('sum', 'median', 'count')\n",
    ").rename(columns={\n",
    "    'sum':'Прибыль от продаж',\n",
    "    'median':'Медиана',\n",
    "    'count':'Количество релизов'\n",
    "}).sort_values(by='Прибыль от продаж', ascending=False)"
   ]
  },
  {
   "cell_type": "markdown",
   "metadata": {},
   "source": [
    "**Промежуточный вывод:**\n",
    "Жанр Action является самым массовым по количеству выпускаемых игр, что объясняется его разнообразием — он охватывает такие поджанры, как файтинги, шутеры и платформеры, и включает в себя множество различных элементов.\n",
    "\n",
    "Самым прибыльным жанром остаётся Shooter — этот жанр всегда популярен и не теряет своей актуальности.\n",
    "\n",
    "Sports занимает третье место по продажам, что неудивительно, учитывая успех таких игровых серий, как FIFA и PES.\n",
    "\n",
    "Интересно, что жанр Adventure значительно отстаёт по объёму продаж, несмотря на большое количество выпускаемых игр. Он находится на одном уровне с Simulation, что может объясняться его нишевой природой. Adventure часто сочетается с другими жанрами, так как в одиночку быстро надоедает."
   ]
  },
  {
   "cell_type": "markdown",
   "metadata": {},
   "source": [
    "**Прибыльные жанры**\n",
    "\n",
    "Наибольший объем рынка игр наблюдается в жанре Action, на который приходится 256.83 млн. продаж. Игры этого жанра пользуются большой популярностью, что делает рынок очень конкурентным. В рамках жанра Action выпущено 389 игр — больше, чем в любых других жанрах. В тройке лидеров по объему продаж с заметным отрывом находятся также жанры Shooter (189.96 млн. продаж) и Sports (144.91 млн. продаж).\n",
    "\n",
    "Что касается жанра Shooter, то он привлекает внимание благодаря самой высокой медиане продаж на один релиз — 520 тыс. копий. При этом активность в создании релизов не так велика - 156."
   ]
  },
  {
   "cell_type": "markdown",
   "metadata": {},
   "source": [
    "**Вывод**\n",
    "\n",
    "Жанры экшен и ролевые игры характеризуются сравнительно небольшим размахом продаж, но среди них есть множество игр, которые выходят за пределы нормальных значений и продаются в большем количестве по сравнению с другими играми.\n",
    "\n",
    "Жанр шутеров демонстрирует самый большой межквантильный размах и диапазон нормальных значений, а также содержит много игр, продажи которых превышают средние показатели для этого жанра.\n",
    "\n",
    "Игры в жанре спорт также показывают хорошие результаты — в этой категории имеется значительное количество тайтлов, продажи которых превышают средние показатели.\n",
    "\n",
    "Значительно хуже по продажам выглядят такие жанры, как \"Adventure\" и \"Puzzle\"."
   ]
  },
  {
   "cell_type": "markdown",
   "metadata": {},
   "source": [
    "**Промежуточный вывод по разделу исследовательского анализа данных:**\n",
    "\n",
    "1. **Количество выпущенных игр по годам**:\n",
    "\n",
    "   - Анализ показал, что выпуск игр значительно увеличивался с начала 2000-х годов, достигнув пика в 2008-2010 годах. После этого наблюдалось снижение числа релизов, что связано с изменением методов распространения игр и развитием мобильных платформ.\n",
    "   - Для анализа актуальных тенденций можно исключить данные за периоды до 2013 года, так как более ранние периоды не дают точной картины современных трендов.\n",
    "   \n",
    "\n",
    "2. **Продажи по платформам**:\n",
    "   - Платформы с наибольшими суммарными продажами — это PlayStation, Xbox и Nintendo. Эти консоли показывали стабильно высокие результаты продаж.\n",
    "   - Жизненный цикл платформы в среднем составляет около 7 лет. В 2013 году начался рост продаж для консолей нового поколения (PS4, Xbox One), а старые платформы (PS3, Xbox 360) начали терять популярность.\n",
    "   - Актуальный период для анализа и прогнозов на 2017 год — с 2013 года, когда на рынке начали доминировать новые платформы, важные для предсказания будущих продаж.\n",
    "\n",
    "\n",
    "3. **Лидеры по продажам и их динамика**:\n",
    "   - Наиболее перспективные платформы для дальнейших продаж — это **PS4** и **Xbox One**. Несмотря на некоторое снижение продаж в последние годы, они остаются ключевыми для индустрии.\n",
    "   - Платформы, такие как **Nintendo 3DS** и **PC**, показывают стабильные, но менее значительные объемы продаж.\n",
    "\n",
    "\n",
    "4. **Анализ продаж с помощью \"ящиков с усами\"**:\n",
    "   - Построение графиков распределения по платформам показало, что PS4, Xbox 360 и PS3 имеют наибольшие разбросы в продажах. У этих платформ есть крупные проекты с высокими продажами, что подчеркивает их важность для разработчиков.\n",
    "   - Меньшие платформы, такие как PS Vita и PSP, демонстрируют слабые результаты в этом периоде.\n",
    "\n",
    "\n",
    "5. **Влияние оценок пользователей и критиков**:\n",
    "   - Связь между оценками пользователей и объемами продаж слабая или отсутствует, что указывает на то, что высокие оценки не всегда гарантируют успех. Однако, критические оценки показывают более выраженную корреляцию с продажами.\n",
    "   - На платформах PS3 и Xbox 360 критики оказывают большее влияние на продажи, чем на других платформах.\n",
    "\n",
    "\n",
    "6. **Распределение игр по жанрам**:\n",
    "   - Жанры **Action**, **Shooter** и **Sports** демонстрируют наибольшие объемы продаж. Action является самым массовым жанром, а Shooter показывает высокие показатели продаж на одну игру.\n",
    "   - Жанры **Adventure** и **Puzzle** менее прибыльны и имеют низкие объемы продаж, несмотря на большое количество выпускаемых игр.\n",
    "\n",
    "**Общий вывод:**\n",
    "Актуальный период с 2013 года позволяет анализировать современные тенденции и строить прогнозы для 2017 года. Наиболее перспективными платформами для будущих продаж остаются PS4 и Xbox One, а жанры Action, Shooter и Sports продолжают доминировать на рынке игр.\n",
    "\n",
    "   "
   ]
  },
  {
   "cell_type": "markdown",
   "metadata": {},
   "source": [
    "### Шаг 4. Составление портрета пользователя каждого региона"
   ]
  },
  {
   "cell_type": "code",
   "execution_count": 44,
   "metadata": {},
   "outputs": [
    {
     "data": {
      "image/png": "[encoded data removed]",
      "text/plain": [
       "<Figure size 864x576 with 1 Axes>"
      ]
     },
     "metadata": {
      "needs_background": "light"
     },
     "output_type": "display_data"
    }
   ],
   "source": [
    "# Сравним самые популярные платформы по регионам\n",
    "platform_na = data_2013.groupby('platform')['na_sales'].sum().sort_values(ascending=False).head(5)\n",
    "platform_na.plot(x = 'platform', y = 'na_sales', kind = 'bar', figsize=(12,8), grid=True, title = 'ТОП популярных платформ в Северной Америке')\n",
    "plt.xlabel('Платформа')\n",
    "plt.ylabel('Продажи экземпляров')\n",
    "plt.show()"
   ]
  },
  {
   "cell_type": "markdown",
   "metadata": {},
   "source": [
    "**Вывод**\n",
    "\n",
    "Для американских геймеров на первом месте находится Xbox 360, произведённая в США. Платформы японского происхождения занимают средние позиции. Пятёрку лидеров завершают набирающая популярность Xbox One и уже теряющая актуальность, но невероятно популярная в своё время Nintendo 3DS."
   ]
  },
  {
   "cell_type": "code",
   "execution_count": 45,
   "metadata": {},
   "outputs": [
    {
     "data": {
      "image/png": "[encoded data removed]",
      "text/plain": [
       "<Figure size 864x576 with 1 Axes>"
      ]
     },
     "metadata": {
      "needs_background": "light"
     },
     "output_type": "display_data"
    }
   ],
   "source": [
    "platform_eu = data_2013.groupby('platform')['eu_sales'].sum().sort_values(ascending=False).head(5)\n",
    "platform_eu.plot(x = 'platform', y = 'eu_sales', kind = 'bar', figsize=(12,8), grid=True, title = 'ТОП популярных платформ в Европе')\n",
    "plt.xlabel('Платформа')\n",
    "plt.ylabel('Продажи экземпляров')\n",
    "plt.show()"
   ]
  },
  {
   "cell_type": "markdown",
   "metadata": {},
   "source": [
    "**Вывод**\n",
    "\n",
    "Европейские геймеры предпочитают в основном японские консоли"
   ]
  },
  {
   "cell_type": "code",
   "execution_count": 46,
   "metadata": {},
   "outputs": [
    {
     "data": {
      "image/png": "[encoded data removed]",
      "text/plain": [
       "<Figure size 864x576 with 1 Axes>"
      ]
     },
     "metadata": {
      "needs_background": "light"
     },
     "output_type": "display_data"
    }
   ],
   "source": [
    "platform_jp = data_2013.groupby('platform')['jp_sales'].sum().sort_values(ascending=False).head(5)\n",
    "platform_jp.plot(x = 'platform', y = 'na_sales', kind = 'bar', figsize=(12,8), grid=True, title = 'ТОП популярных платформ в Японии')\n",
    "plt.xlabel('Платформа')\n",
    "plt.ylabel('Продажи экземпляров')\n",
    "plt.show()"
   ]
  },
  {
   "cell_type": "markdown",
   "metadata": {},
   "source": [
    "**Вывод**\n",
    "\n",
    "Японцы проявляют решительную приверженность и отдают предпочтение исключительно консолям местного производства."
   ]
  },
  {
   "cell_type": "markdown",
   "metadata": {},
   "source": [
    "**Самые популярные жанры (топ-5) по регионам**"
   ]
  },
  {
   "cell_type": "code",
   "execution_count": 47,
   "metadata": {},
   "outputs": [],
   "source": [
    "na_genre = data_2013.groupby('genre')['na_sales'].agg(na_sales='sum').nlargest(5, 'na_sales').reset_index()\n",
    "eu_genre = data_2013.groupby('genre')['eu_sales'].agg(eu_sales='sum').nlargest(5, 'eu_sales').reset_index()\n",
    "jp_genre = data_2013.groupby('genre')['jp_sales'].agg(jp_sales='sum').nlargest(5, 'jp_sales').reset_index()"
   ]
  },
  {
   "cell_type": "code",
   "execution_count": 48,
   "metadata": {},
   "outputs": [
    {
     "data": {
      "image/png": "[encoded data removed]",
      "text/plain": [
       "<Figure size 1080x360 with 3 Axes>"
      ]
     },
     "metadata": {
      "needs_background": "light"
     },
     "output_type": "display_data"
    }
   ],
   "source": [
    "fig, ax = plt.subplots(1, 3, figsize=(15, 5))\n",
    "fig.suptitle('ТОП популярных жанров по регионам')\n",
    "\n",
    "sns.barplot(y='na_sales', x='genre', data=na_genre, ax=ax[0], palette='RdYlBu')\n",
    "ax[0].set_title('Северная Америка')\n",
    "ax[0].set_ylabel('Продажи')\n",
    "ax[0].set_xlabel('Жанр')\n",
    "\n",
    "sns.barplot(y='eu_sales', x='genre', data=eu_genre, ax=ax[1], palette='RdYlBu')\n",
    "ax[1].set_title('Европа')\n",
    "ax[1].set_ylabel('Продажи')\n",
    "ax[1].set_xlabel('Жанр')\n",
    "\n",
    "sns.barplot(y='jp_sales', x='genre', data=jp_genre, ax=ax[2], palette='RdYlBu')\n",
    "ax[2].set_title('Япония')\n",
    "ax[2].set_ylabel('Продажи')\n",
    "ax[2].set_xlabel('Жанр')\n",
    "plt.show()"
   ]
  },
  {
   "cell_type": "markdown",
   "metadata": {},
   "source": [
    "**Вывод**\n",
    "\n",
    "\n",
    "\n",
    "1. В Северной Америке наибольшие продажи у жанров с высокой популярностью. Топ-5 жанров по продажам здесь возглавляют жанры, традиционно любимые на американском рынке, такие как спортивные игры и шутеры.\n",
    "Жанр с наибольшими продажами выделяется существенно по сравнению с остальными жанрами.\n",
    "\n",
    "2. В Европе картина схожа с Северной Америкой, однако популярность жанров может несколько отличаться.\n",
    "Спортивные игры и гонки могут занимать важные позиции среди топ-5 жанров, что связано с большим интересом европейской аудитории к футболу и другим видам спорта.\n",
    "Продажи жанров могут быть более сбалансированы, чем в Северной Америке, с меньшими резкими различиями между жанрами.\n",
    "\n",
    "3. В Японии картина жанров значительно отличается от западных рынков. Лидирующие жанры могут включать ролевые игры (RPG), поскольку они традиционно популярны среди японских геймеров.\n",
    "Продажи шутеров или спортивных игр, которые доминируют в Северной Америке и Европе, здесь гораздо ниже.\n",
    "Жанры с наибольшими продажами могут включать те, что связаны с аниме-культурой или имеют сильные корни в японской игровой индустрии."
   ]
  },
  {
   "cell_type": "markdown",
   "metadata": {},
   "source": [
    "**Самые популярные платформы (топ-5)**"
   ]
  },
  {
   "cell_type": "code",
   "execution_count": 49,
   "metadata": {},
   "outputs": [],
   "source": [
    "na = data_2013.groupby('platform')['na_sales'].agg(na_sales='sum').nlargest(5, 'na_sales').reset_index()\n",
    "eu = data_2013.groupby('platform')['eu_sales'].agg(eu_sales='sum').nlargest(5, 'eu_sales').reset_index()\n",
    "jp = data_2013.groupby('platform')['jp_sales'].agg(jp_sales='sum').nlargest(5, 'jp_sales').reset_index()"
   ]
  },
  {
   "cell_type": "code",
   "execution_count": 50,
   "metadata": {},
   "outputs": [
    {
     "data": {
      "image/png": "[encoded data removed]",
      "text/plain": [
       "<Figure size 1080x360 with 3 Axes>"
      ]
     },
     "metadata": {
      "needs_background": "light"
     },
     "output_type": "display_data"
    }
   ],
   "source": [
    "fig, ax = plt.subplots(1, 3, figsize=(15, 5))\n",
    "fig.suptitle('Топ популярных платформ по регионам')\n",
    "\n",
    "sns.barplot(y='na_sales', x='platform', data=na, ax=ax[0], palette='Set1')\n",
    "ax[0].set_title('Северная Америка')\n",
    "ax[0].set_ylabel('Продажи')\n",
    "ax[0].set_xlabel('Платформа')\n",
    "\n",
    "sns.barplot(y='eu_sales', x='platform', data=eu, ax=ax[1], palette='Set1')\n",
    "ax[1].set_title('Европа')\n",
    "ax[1].set_ylabel('Продажи')\n",
    "ax[1].set_xlabel('Платформа')\n",
    "\n",
    "sns.barplot(y='jp_sales', x='platform', data=jp, ax=ax[2], palette='Set1')\n",
    "ax[2].set_title('Япония')\n",
    "ax[2].set_ylabel('Продажи')\n",
    "ax[2].set_xlabel('Платформа')\n",
    "plt.show()"
   ]
  },
  {
   "cell_type": "markdown",
   "metadata": {},
   "source": [
    "**Вывод**\n",
    "1. Северная Америка (США и Канада):\n",
    "Лидером по продажам является Xbox 360, что соответствует популярности данной консоли на американском рынке.\n",
    "Платформы американского производства, такие как Xbox One, занимают высокие позиции, что объясняется приверженностью местной аудитории к продуктам собственной страны.\n",
    "Японские платформы, такие как PlayStation, также присутствуют в топе, но занимают менее значимые позиции по сравнению с Xbox.\n",
    "\n",
    "2. Европа:\n",
    "В Европе ситуация схожа с Северной Америкой, но здесь PlayStation 4 и PlayStation 3 занимают лидирующие позиции. Это отражает популярность японских консолей в Европе, особенно продуктов от Sony.\n",
    "Xbox One и Xbox 360 также находятся в топе, но их продажи ниже по сравнению с PlayStation, что может быть связано с традиционным предпочтением европейских геймеров японских консолей.\n",
    "Европейские геймеры, похоже, больше склоняются к использованию консолей от Sony, чем от Microsoft.\n",
    "\n",
    "3. Япония:\n",
    "В Японии явно доминируют Nintendo 3DS и PlayStation Vita, что свидетельствует о высоком спросе на портативные консоли среди японских игроков.\n",
    "PlayStation 4 также занимает высокую позицию, отражая популярность домашних консолей на японском рынке.\n",
    "В отличие от западных рынков, Xbox практически не представлен в топе, что подтверждает слабый интерес японских геймеров к продукции Microsoft."
   ]
  },
  {
   "cell_type": "markdown",
   "metadata": {},
   "source": [
    "**Диаграммы платформ, жанров, влияние рейтинга**"
   ]
  },
  {
   "cell_type": "code",
   "execution_count": 51,
   "metadata": {},
   "outputs": [],
   "source": [
    "na_rating = data_game.groupby('rating')['na_sales'].agg(na_sales='sum').nlargest(5, 'na_sales').reset_index()\n",
    "eu_rating = data_game.groupby('rating')['eu_sales'].agg(eu_sales='sum').nlargest(5, 'eu_sales').reset_index()\n",
    "jp_rating = data_game.groupby('rating')['jp_sales'].agg(jp_sales='sum').nlargest(5, 'jp_sales').reset_index()"
   ]
  },
  {
   "cell_type": "code",
   "execution_count": 52,
   "metadata": {},
   "outputs": [
    {
     "data": {
      "image/png": "[encoded data removed]",
      "text/plain": [
       "<Figure size 1080x360 with 3 Axes>"
      ]
     },
     "metadata": {
      "needs_background": "light"
     },
     "output_type": "display_data"
    }
   ],
   "source": [
    "fig, ax = plt.subplots(1, 3, figsize=(15, 5))\n",
    "fig.suptitle('Влияние рейтинга на продажи')\n",
    "\n",
    "sns.barplot(y='na_sales', x='rating', data=na_rating, ax=ax[0], palette='pastel')\n",
    "ax[0].set_title('Северная Америка')\n",
    "ax[0].set_ylabel('Продажи')\n",
    "ax[0].set_xlabel('Рейтинг')\n",
    "\n",
    "sns.barplot(y='eu_sales', x='rating', data=eu_rating, ax=ax[1], palette='Spectral')\n",
    "ax[1].set_title('Европа')\n",
    "ax[1].set_ylabel('Продажи')\n",
    "ax[1].set_xlabel('Рейтинг')\n",
    "\n",
    "sns.barplot(y='jp_sales', x='rating', data=jp_rating, ax=ax[2], palette='Spectral')\n",
    "ax[2].set_title('Япония')\n",
    "ax[2].set_ylabel('Продажи')\n",
    "ax[2].set_xlabel('Рейтинг')\n",
    "\n",
    "plt.show()"
   ]
  },
  {
   "cell_type": "markdown",
   "metadata": {},
   "source": [
    "**Вывод**\n",
    "Различие в влиянии рейтингов на продажи заметно только между западом и востоком. В Северной Америке и Европе лидируют игры с рейтингами \"M\" (для взрослых) и \"E\" (для всех), тогда как в Японии предпочтение отдается играм с рейтингами \"E\" и \"T\" (для подростков). При этом в Японии значительная доля продаж приходится на игры с неопределённым рейтингом.\n",
    "\n",
    "Вывод: Портрет пользователей в Северной Америке и Европе схож — они выбирают платформы PS3, PS4, X360 и предпочитают жанры Action, Shooter, Sports с играми в категориях \"M\" и \"E\". В Японии же аудитория отличается: пользователи отдают предпочтение платформе 3DS и жанрам Role-Playing и Action, при этом популярны игры с рейтингами \"E\", \"T\", а также значительное количество игр без чёткого рейтинга."
   ]
  },
  {
   "cell_type": "markdown",
   "metadata": {},
   "source": [
    "**Вывод**\n",
    "\n",
    "**1. ТОП-5 платформ в регионах:**\n",
    "Северная Америка (NA): Большую долю рынка занимают консоли от Microsoft (Xbox), такие как Xbox 360 и Xbox One, что подтверждает популярность местных производителей.\n",
    "Европа (EU): PlayStation доминирует на рынке, особенно PlayStation 4, что говорит о сильных позициях Sony в регионе.\n",
    "Япония (JP): В Японии почти весь рынок занимают консоли местного производства, такие как Nintendo 3DS и PlayStation Vita, что подчеркивает предпочтение японских потребителей к отечественным брендам.\n",
    "\n",
    "**2. ТОП-5 жанров в регионах:**\n",
    "Северная Америка (NA): Наибольшую долю продаж занимают жанры шутеров (Shooter) и спортивных игр (Sports), что отражает традиционные предпочтения американских геймеров.\n",
    "Европа (EU): Здесь наблюдается разнообразие жанров, но также доминируют шутеры, а вторым по популярности жанром могут быть спортивные игры.\n",
    "Япония (JP): В Японии лидируют ролевые игры (RPG) и приключенческие игры (Adventure), что соответствует вкусу местной аудитории, которая отдает предпочтение сюжетным играм с глубоким геймплеем.\n",
    "\n",
    "**3. Влияние рейтинга ESRB на продажи в регионах:**\n",
    "Северная Америка и Европа: Игры с рейтингами M (Mature) и T (Teen) занимают значительную долю продаж, что указывает на популярность игр для подростков и взрослых.\n",
    "Япония: Меньше влияние рейтинга ESRB, поскольку японский рынок фокусируется на своих системах классификации. Однако E (Everyone) и T (Teen) могут иметь наибольшее распространение в продаже игр для всей семьи и подростков.\n"
   ]
  },
  {
   "cell_type": "code",
   "execution_count": 53,
   "metadata": {},
   "outputs": [
    {
     "name": "stdout",
     "output_type": "stream",
     "text": [
      "0 0.0\n"
     ]
    },
    {
     "data": {
      "text/plain": [
       "unknown    977\n",
       "M          369\n",
       "T          333\n",
       "E          302\n",
       "E10+       252\n",
       "Name: rating, dtype: int64"
      ]
     },
     "execution_count": 53,
     "metadata": {},
     "output_type": "execute_result"
    }
   ],
   "source": [
    "# Комментарий ревьюера\n",
    "temp = data_2013.copy()\n",
    "print(temp.rating.isna().sum(), temp.rating.isna().sum()/len(temp))\n",
    "temp.rating.value_counts(dropna=False)"
   ]
  },
  {
   "cell_type": "markdown",
   "metadata": {},
   "source": [
    "### Шаг 5. Проверим гипотезы"
   ]
  },
  {
   "cell_type": "markdown",
   "metadata": {},
   "source": [
    "**Средние пользовательские рейтинги платформ Xbox One и PC одинаковые**"
   ]
  },
  {
   "cell_type": "markdown",
   "metadata": {},
   "source": [
    "В качестве нулевой и альтернативной гипотезы принимаем:\n",
    "\n",
    "- H0: средние рейтинги по платформам одинаковые\n",
    "- H1: средние рейтинги по платформам разные\n",
    "\n",
    "Для прверки гипотезы используем T-критерий Стюдента, так как в данном случае выборки не зависят друг от друга.\n",
    "Пороговое значение будет равно 0.05"
   ]
  },
  {
   "cell_type": "markdown",
   "metadata": {},
   "source": [
    "Нулевая гипотеза H0:\n",
    "Средние пользовательские рейтинги игр на платформах Xbox One и PC одинаковые.\n",
    "\n",
    "Альтернативная гипотеза H1:\n",
    "Средние пользовательские рейтинги игр на платформах Xbox One и PC различаются.\n",
    "\n",
    "Для проверки гипотезы используем T-критерий Стьюдента для независимых выборок, так как рейтинги игр на этих платформах не зависят друг от друга. Пороговое значение уровня значимости (α) принимается за 0.05."
   ]
  },
  {
   "cell_type": "code",
   "execution_count": 54,
   "metadata": {},
   "outputs": [
    {
     "name": "stdout",
     "output_type": "stream",
     "text": [
      "p-значение: 0.14012658403611647\n",
      "Не получилось отвергнуть нулевую гипотезу\n"
     ]
    }
   ],
   "source": [
    "data_2013 = data_2013[data_2013['user_score'] >= 0]\n",
    "\n",
    "data_XOne = data_2013[data_2013['platform'] == 'XOne']\n",
    "data_PC = data_2013[data_2013['platform'] == 'PC']\n",
    "\n",
    "user_score_XOne = data_XOne['user_score']\n",
    "user_score_PC = data_PC['user_score']\n",
    "\n",
    "alpha = .05 \n",
    "\n",
    "results = st.ttest_ind(\n",
    "user_score_XOne,\n",
    "user_score_PC)\n",
    "\n",
    "print('p-значение:', results.pvalue)\n",
    "if (results.pvalue < alpha):\n",
    "    print(\"Отвергаем нулевую гипотезу\")\n",
    "else:\n",
    "    print(\"Не получилось отвергнуть нулевую гипотезу\")"
   ]
  },
  {
   "cell_type": "code",
   "execution_count": 55,
   "metadata": {},
   "outputs": [
    {
     "name": "stdout",
     "output_type": "stream",
     "text": [
      "p-значение: 0.14012658403611647\n",
      "Не получилось отвергнуть нулевую гипотезу\n"
     ]
    }
   ],
   "source": [
    "data_2013 = data_2013.dropna(subset=['user_score'])\n",
    "\n",
    "data_XOne = data_2013[data_2013['platform'] == 'XOne']\n",
    "data_PC = data_2013[data_2013['platform'] == 'PC']\n",
    "\n",
    "user_score_XOne = data_XOne['user_score']\n",
    "user_score_PC = data_PC['user_score']\n",
    "\n",
    "alpha = 0.05 \n",
    "\n",
    "results = st.ttest_ind(user_score_XOne, user_score_PC)\n",
    "\n",
    "print('p-значение:', results.pvalue)\n",
    "if results.pvalue < alpha:\n",
    "    print(\"Отвергаем нулевую гипотезу\")\n",
    "else:\n",
    "    print(\"Не получилось отвергнуть нулевую гипотезу\")"
   ]
  },
  {
   "cell_type": "markdown",
   "metadata": {},
   "source": [
    "**Вывод**\n",
    "\n",
    "Нулевая гипотеза не отвергнута, следовательно, можно предположить, что XOne и PC равны, при alpha=0.05"
   ]
  },
  {
   "cell_type": "markdown",
   "metadata": {},
   "source": [
    "**Средние пользовательские рейтинги жанров Action (англ. «действие», экшен-игры) и Sports (англ. «спортивные соревнования») разные.**"
   ]
  },
  {
   "cell_type": "markdown",
   "metadata": {},
   "source": [
    "В качестве нулевой и альтернативной гипотезы принимаем:\n",
    "\n",
    "- H0: средние рейтинги по жанрам одинаковые\n",
    "- H1: средние рейтинги по жанрам разные\n",
    "\n",
    "Для прверки гипотезы используем T-критерий Стюдента, так как в данном случае выборки не зависят друг от друга.\n",
    "Пороговое значение будет равно 0.05"
   ]
  },
  {
   "cell_type": "markdown",
   "metadata": {},
   "source": [
    "Нулевая гипотеза H0:\n",
    "Средние пользовательские рейтинги игр в жанрах Action и Sports одинаковые.\n",
    "\n",
    "Альтернативная гипотеза H1:\n",
    "Средние пользовательские рейтинги игр в жанрах Action и Sports различаются.\n",
    "\n",
    "Для проверки гипотезы используем t-критерий Стьюдента для независимых выборок, так как пользовательские рейтинги игр по жанрам Action и Sports не зависят друг от друга. Уровень значимости (α) принимаем 0.05."
   ]
  },
  {
   "cell_type": "code",
   "execution_count": 56,
   "metadata": {},
   "outputs": [
    {
     "name": "stdout",
     "output_type": "stream",
     "text": [
      "p-значение:  1.0517832389140023e-27\n",
      "Отвергаем нулевую гипотезу\n"
     ]
    }
   ],
   "source": [
    "data_2013 = data_2013[data_2013['user_score'] >= 0]\n",
    "\n",
    "data_action = data_2013[data_2013['genre'] == 'Action']\n",
    "data_sports = data_2013[data_2013['genre'] == 'Sports']\n",
    "\n",
    "action_genre = data_action['user_score']\n",
    "sports_genre = data_sports['user_score']\n",
    "\n",
    "alpha = .05 \n",
    "\n",
    "results = st.ttest_ind(\n",
    "action_genre,\n",
    "sports_genre)\n",
    "\n",
    "print('p-значение: ', results.pvalue)\n",
    "if (results.pvalue < alpha):\n",
    "    print(\"Отвергаем нулевую гипотезу\")\n",
    "else:\n",
    "    print(\"Не получилось отвергнуть нулевую гипотезу\") "
   ]
  },
  {
   "cell_type": "markdown",
   "metadata": {},
   "source": [
    "**Вывод**\n",
    "\n",
    "Нулевая гипотеза отвергнута, следовательно, есть основания предположить, что Action и Sports не равны, при alpha=0.05"
   ]
  },
  {
   "cell_type": "markdown",
   "metadata": {},
   "source": [
    "**Поясните:**\n",
    "\n",
    "- Как вы сформулировали нулевую и альтернативную гипотезы;"
   ]
  },
  {
   "cell_type": "markdown",
   "metadata": {},
   "source": [
    "В первом случае условия задания соответствуют формулировке нулевой гипотезы, которая предполагает, что сравниваемые величины равны.\n",
    "\n",
    "Альтернативную гипотезу можно проверить по трем направлениям: \"меньше\", \"не равно\", \"больше\". Поскольку мы рассматриваем вопрос о равенстве величин, необходимо использовать двусторонний тест с параметром alternative='two-sided'.\n",
    "\n",
    "Во втором случае условия задания не соответствуют нулевой гипотезе (которая предполагает равенство величин). Следовательно, сравниваемые параметры не равны. Для решения этой задачи мы изменили условия: если нулевая гипотеза отвергается, это подтверждает, что рейтинги различны.\n",
    "\n",
    "Альтернативную гипотезу также можно проверить по трем направлениям: \"меньше\", \"не равно\", \"больше\". Поскольку мы рассматриваем вопрос о равенстве, проверка проводится с использованием двустороннего теста alternative='two-sided'."
   ]
  },
  {
   "cell_type": "markdown",
   "metadata": {},
   "source": [
    "**Поясните:**\n",
    "\n",
    "- Какой критерий применили для проверки гипотез и почему."
   ]
  },
  {
   "cell_type": "markdown",
   "metadata": {},
   "source": [
    "Если размер выборки превышает 30, то распределение Стьюдента становится настолько близким к нормальному, что можно было бы использовать нормальное распределение без учета степеней свободы.\n",
    "\n",
    "Однако, чтобы не усложнять процесс выбора подходящего теста, принято всегда применять t-тест, поскольку он работает независимо от размера выборки.\n",
    "\n",
    "Для проверки гипотезы необходимо задать уровень значимости, который обычно выбирается в диапазоне от 1% до 10%, в зависимости от степени изученности данных и требований к точности. В большинстве случаев устанавливается средний уровень значимости — 0,05."
   ]
  },
  {
   "cell_type": "markdown",
   "metadata": {},
   "source": [
    "### Шаг 6. Общий вывод"
   ]
  },
  {
   "cell_type": "markdown",
   "metadata": {},
   "source": [
    "В данной работе для достижения поставленных целей выполнено 5 ключевых шагов:\n",
    "\n",
    "1. **Ознакомление с данными:**\n",
    "   Было проанализировано 16 715 строк данных, выявлены пропуски, дубликаты и ошибки в типизации. Также были обнаружены лексические ошибки в названиях колонок.\n",
    "\n",
    "2. **Предобработка данных:**\n",
    "   Все выявленные проблемы были исправлены: удалены дубликаты, устранены пропуски, исправлен тип данных, а названия столбцов приведены к правильному формату. \n",
    "\n",
    "3. **Исследовательский анализ данных:**\n",
    "   Анализ показал, что игровая индустрия развивается постепенно, и жизненный цикл игры составляет в среднем 7 лет, при этом пик популярности приходится на 5 лет. За последние годы платформы PS4 и XOne имели успех, но демонстрируют тенденцию к снижению. Продажи игр слабо коррелируют с оценками пользователей, но мнения критиков оказывают большее влияние. Самыми востребованными жанрами являются Action, Shooter, а перспективные жанры — Shooter и Sports.\n",
    "\n",
    "4. **Портреты пользователей по регионам:**\n",
    "   Профили пользователей в Северной Америке и Европе схожи: популярны платформы PS3, PS4, X360, а жанры Action, Shooter и Sports пользуются наибольшим спросом. В Японии портрет пользователей значительно отличается: здесь предпочитают платформу 3DS, а самыми популярными жанрами являются Role-Playing и Action. Большая часть игр ориентирована на рейтинги M (для взрослых), E (для всех) и T (для подростков), но в Японии также наблюдается значительное количество игр без определенного рейтинга.\n",
    "\n",
    "5. **Проверка гипотез:**\n",
    "   Гипотеза о равенстве оценок пользователей на платформах XOne и PC не была отвергнута, что говорит о том, что оценки на этих платформах схожи. В то же время гипотеза о равенстве популярности жанров Action и Sports была отвергнута, что указывает на различия в спросе на эти жанры.\n",
    "\n",
    "**Рекомендации:**\n",
    "- Потенциальные рекламные кампании стоит ориентировать на платформы PS3, PS4, XOne, которые остаются популярными в Северной Америке и Европе.\n",
    "- Для западных рынков (США, Европа) стоит сосредоточиться на продвижении игр жанров Action, Shooter и Sports, так как они пользуются наибольшим спросом.\n",
    "- В Японии целесообразно делать акцент на платформу 3DS и жанры Role-Playing и Action, учитывая предпочтения местных пользователей.\n",
    "- Стоит учитывать рейтинги M, E и T при разработке и продвижении игр, особенно для западных рынков, но также принимать во внимание неопределенные рейтинги на японском рынке."
   ]
  }
 ],
 "metadata": {
  "ExecuteTimeLog": [
   {
    "duration": 1335,
    "start_time": "2024-09-19T18:59:14.081Z"
   },
   {
    "duration": 3,
    "start_time": "2024-09-19T19:00:39.233Z"
   },
   {
    "duration": 168,
    "start_time": "2024-09-19T19:01:41.730Z"
   },
   {
    "duration": 48,
    "start_time": "2024-09-19T19:02:21.047Z"
   },
   {
    "duration": 89,
    "start_time": "2024-09-19T19:02:28.695Z"
   },
   {
    "duration": 184,
    "start_time": "2024-09-19T19:03:28.478Z"
   },
   {
    "duration": 55,
    "start_time": "2024-09-19T19:03:41.327Z"
   },
   {
    "duration": 3,
    "start_time": "2024-09-19T19:05:55.534Z"
   },
   {
    "duration": 3,
    "start_time": "2024-09-19T19:06:03.994Z"
   },
   {
    "duration": 57,
    "start_time": "2024-09-19T19:06:31.397Z"
   },
   {
    "duration": 57,
    "start_time": "2024-09-19T19:07:51.205Z"
   },
   {
    "duration": 24,
    "start_time": "2024-09-19T19:07:58.612Z"
   },
   {
    "duration": 61,
    "start_time": "2024-09-19T19:08:49.958Z"
   },
   {
    "duration": 14,
    "start_time": "2024-09-19T19:09:08.837Z"
   },
   {
    "duration": 5,
    "start_time": "2024-09-19T19:10:08.663Z"
   },
   {
    "duration": 4,
    "start_time": "2024-09-19T19:10:25.588Z"
   },
   {
    "duration": 15,
    "start_time": "2024-09-19T19:10:48.769Z"
   },
   {
    "duration": 57,
    "start_time": "2024-09-19T19:11:42.459Z"
   },
   {
    "duration": 31,
    "start_time": "2024-09-19T19:11:47.756Z"
   },
   {
    "duration": 12,
    "start_time": "2024-09-19T19:24:58.690Z"
   },
   {
    "duration": 4,
    "start_time": "2024-09-19T19:25:38.302Z"
   },
   {
    "duration": 3,
    "start_time": "2024-09-19T19:25:41.256Z"
   },
   {
    "duration": 21,
    "start_time": "2024-09-19T19:25:57.086Z"
   },
   {
    "duration": 13,
    "start_time": "2024-09-19T19:26:17.986Z"
   },
   {
    "duration": 5,
    "start_time": "2024-09-19T19:26:33.784Z"
   },
   {
    "duration": 13,
    "start_time": "2024-09-19T19:26:44.429Z"
   },
   {
    "duration": 13,
    "start_time": "2024-09-19T19:28:10.658Z"
   },
   {
    "duration": 6,
    "start_time": "2024-09-19T19:28:24.510Z"
   },
   {
    "duration": 4,
    "start_time": "2024-09-19T19:29:18.793Z"
   },
   {
    "duration": 14,
    "start_time": "2024-09-19T19:29:36.509Z"
   },
   {
    "duration": 10,
    "start_time": "2024-09-19T19:29:42.958Z"
   },
   {
    "duration": 11,
    "start_time": "2024-09-19T19:30:57.478Z"
   },
   {
    "duration": 4,
    "start_time": "2024-09-19T19:32:31.803Z"
   },
   {
    "duration": 6,
    "start_time": "2024-09-19T19:34:03.195Z"
   },
   {
    "duration": 12,
    "start_time": "2024-09-19T19:34:28.194Z"
   },
   {
    "duration": 5,
    "start_time": "2024-09-19T19:34:35.020Z"
   },
   {
    "duration": 8,
    "start_time": "2024-09-19T19:35:06.990Z"
   },
   {
    "duration": 18,
    "start_time": "2024-09-19T19:35:27.085Z"
   },
   {
    "duration": 16,
    "start_time": "2024-09-19T19:35:39.406Z"
   },
   {
    "duration": 8,
    "start_time": "2024-09-19T19:36:22.262Z"
   },
   {
    "duration": 8,
    "start_time": "2024-09-19T19:36:39.845Z"
   },
   {
    "duration": 20,
    "start_time": "2024-09-19T19:38:07.520Z"
   },
   {
    "duration": 11,
    "start_time": "2024-09-19T19:38:29.274Z"
   },
   {
    "duration": 349,
    "start_time": "2024-09-19T20:34:33.442Z"
   },
   {
    "duration": 22,
    "start_time": "2024-09-19T20:36:29.870Z"
   },
   {
    "duration": 4,
    "start_time": "2024-09-19T20:36:46.939Z"
   },
   {
    "duration": 5,
    "start_time": "2024-09-19T20:37:10.106Z"
   },
   {
    "duration": 18,
    "start_time": "2024-09-19T20:37:14.890Z"
   },
   {
    "duration": 6,
    "start_time": "2024-09-19T20:37:34.591Z"
   },
   {
    "duration": 5,
    "start_time": "2024-09-19T20:37:53.568Z"
   },
   {
    "duration": 5,
    "start_time": "2024-09-19T20:38:07.500Z"
   },
   {
    "duration": 1144,
    "start_time": "2024-09-19T20:38:21.075Z"
   },
   {
    "duration": 57,
    "start_time": "2024-09-19T20:38:22.220Z"
   },
   {
    "duration": 17,
    "start_time": "2024-09-19T20:38:22.279Z"
   },
   {
    "duration": 4,
    "start_time": "2024-09-19T20:38:22.298Z"
   },
   {
    "duration": 20,
    "start_time": "2024-09-19T20:38:22.303Z"
   },
   {
    "duration": 43,
    "start_time": "2024-09-19T20:38:22.325Z"
   },
   {
    "duration": 11,
    "start_time": "2024-09-19T20:38:22.370Z"
   },
   {
    "duration": 13,
    "start_time": "2024-09-19T20:38:22.383Z"
   },
   {
    "duration": 11,
    "start_time": "2024-09-19T20:38:22.397Z"
   },
   {
    "duration": 19,
    "start_time": "2024-09-19T20:38:22.410Z"
   },
   {
    "duration": 15,
    "start_time": "2024-09-19T20:38:22.431Z"
   },
   {
    "duration": 17,
    "start_time": "2024-09-19T20:38:22.448Z"
   },
   {
    "duration": 5,
    "start_time": "2024-09-19T20:38:22.467Z"
   },
   {
    "duration": 5,
    "start_time": "2024-09-19T20:38:38.359Z"
   },
   {
    "duration": 357,
    "start_time": "2024-09-19T20:38:59.100Z"
   },
   {
    "duration": 302,
    "start_time": "2024-09-19T20:39:29.198Z"
   },
   {
    "duration": 323,
    "start_time": "2024-09-19T20:40:35.548Z"
   },
   {
    "duration": 105,
    "start_time": "2024-09-19T20:44:47.800Z"
   },
   {
    "duration": 346,
    "start_time": "2024-09-19T20:45:06.630Z"
   },
   {
    "duration": 410,
    "start_time": "2024-09-19T20:46:34.867Z"
   },
   {
    "duration": 23,
    "start_time": "2024-09-19T20:47:46.540Z"
   },
   {
    "duration": 16,
    "start_time": "2024-09-19T20:47:59.941Z"
   },
   {
    "duration": 312,
    "start_time": "2024-09-19T20:48:11.185Z"
   },
   {
    "duration": 682,
    "start_time": "2024-09-19T20:49:28.937Z"
   },
   {
    "duration": 678,
    "start_time": "2024-09-19T20:50:51.401Z"
   },
   {
    "duration": 749,
    "start_time": "2024-09-19T20:51:22.097Z"
   },
   {
    "duration": 656,
    "start_time": "2024-09-19T20:51:51.717Z"
   },
   {
    "duration": 10,
    "start_time": "2024-09-19T20:52:47.178Z"
   },
   {
    "duration": 363,
    "start_time": "2024-09-19T20:53:07.049Z"
   },
   {
    "duration": 83,
    "start_time": "2024-09-19T20:58:15.708Z"
   },
   {
    "duration": 12,
    "start_time": "2024-09-19T20:58:54.658Z"
   },
   {
    "duration": 302,
    "start_time": "2024-09-19T20:59:11.253Z"
   },
   {
    "duration": 11,
    "start_time": "2024-09-19T21:01:03.375Z"
   },
   {
    "duration": 360,
    "start_time": "2024-09-19T21:01:26.762Z"
   },
   {
    "duration": 278,
    "start_time": "2024-09-19T21:02:11.611Z"
   },
   {
    "duration": 11,
    "start_time": "2024-09-19T21:11:40.432Z"
   },
   {
    "duration": 11,
    "start_time": "2024-09-19T21:11:58.465Z"
   },
   {
    "duration": 9,
    "start_time": "2024-09-19T21:12:21.288Z"
   },
   {
    "duration": 14,
    "start_time": "2024-09-19T21:12:45.422Z"
   },
   {
    "duration": 11,
    "start_time": "2024-09-19T21:12:49.198Z"
   },
   {
    "duration": 81,
    "start_time": "2024-09-19T21:13:05.788Z"
   },
   {
    "duration": 285,
    "start_time": "2024-09-19T21:13:13.233Z"
   },
   {
    "duration": 285,
    "start_time": "2024-09-19T21:14:15.377Z"
   },
   {
    "duration": 270,
    "start_time": "2024-09-19T21:14:34.116Z"
   },
   {
    "duration": 360,
    "start_time": "2024-09-19T21:14:48.674Z"
   },
   {
    "duration": 842,
    "start_time": "2024-09-19T21:16:42.596Z"
   },
   {
    "duration": 267,
    "start_time": "2024-09-19T21:16:53.338Z"
   },
   {
    "duration": 282,
    "start_time": "2024-09-19T21:20:52.120Z"
   },
   {
    "duration": 12,
    "start_time": "2024-09-19T21:26:17.596Z"
   },
   {
    "duration": 1058,
    "start_time": "2024-09-19T21:30:48.707Z"
   },
   {
    "duration": 62,
    "start_time": "2024-09-19T21:31:12.085Z"
   },
   {
    "duration": 5,
    "start_time": "2024-09-19T21:31:22.857Z"
   },
   {
    "duration": 5,
    "start_time": "2024-09-19T21:31:26.537Z"
   },
   {
    "duration": 22,
    "start_time": "2024-09-19T21:31:55.907Z"
   },
   {
    "duration": 10,
    "start_time": "2024-09-19T21:32:35.036Z"
   },
   {
    "duration": 11,
    "start_time": "2024-09-19T21:33:15.614Z"
   },
   {
    "duration": 519,
    "start_time": "2024-09-19T21:33:37.224Z"
   },
   {
    "duration": 487,
    "start_time": "2024-09-19T21:34:00.374Z"
   },
   {
    "duration": 58,
    "start_time": "2024-09-19T21:35:59.745Z"
   },
   {
    "duration": 50,
    "start_time": "2024-09-21T07:44:02.616Z"
   },
   {
    "duration": 1352,
    "start_time": "2024-09-21T07:44:16.395Z"
   },
   {
    "duration": 202,
    "start_time": "2024-09-21T07:44:17.749Z"
   },
   {
    "duration": 17,
    "start_time": "2024-09-21T07:44:17.952Z"
   },
   {
    "duration": 4,
    "start_time": "2024-09-21T07:44:17.971Z"
   },
   {
    "duration": 31,
    "start_time": "2024-09-21T07:44:17.977Z"
   },
   {
    "duration": 39,
    "start_time": "2024-09-21T07:44:18.010Z"
   },
   {
    "duration": 8,
    "start_time": "2024-09-21T07:44:18.050Z"
   },
   {
    "duration": 29,
    "start_time": "2024-09-21T07:44:18.059Z"
   },
   {
    "duration": 13,
    "start_time": "2024-09-21T07:44:18.089Z"
   },
   {
    "duration": 21,
    "start_time": "2024-09-21T07:44:18.104Z"
   },
   {
    "duration": 14,
    "start_time": "2024-09-21T07:44:18.127Z"
   },
   {
    "duration": 21,
    "start_time": "2024-09-21T07:44:18.142Z"
   },
   {
    "duration": 370,
    "start_time": "2024-09-21T07:44:18.164Z"
   },
   {
    "duration": 298,
    "start_time": "2024-09-21T07:44:18.536Z"
   },
   {
    "duration": 16,
    "start_time": "2024-09-21T07:44:18.836Z"
   },
   {
    "duration": 297,
    "start_time": "2024-09-21T07:44:18.854Z"
   },
   {
    "duration": 21,
    "start_time": "2024-09-21T07:44:19.152Z"
   },
   {
    "duration": 135,
    "start_time": "2024-09-21T07:44:19.175Z"
   },
   {
    "duration": 0,
    "start_time": "2024-09-21T07:44:19.311Z"
   },
   {
    "duration": 0,
    "start_time": "2024-09-21T07:44:19.312Z"
   },
   {
    "duration": 0,
    "start_time": "2024-09-21T07:44:19.313Z"
   },
   {
    "duration": 0,
    "start_time": "2024-09-21T07:44:19.314Z"
   },
   {
    "duration": 318,
    "start_time": "2024-09-21T08:02:31.013Z"
   },
   {
    "duration": 336,
    "start_time": "2024-09-21T08:02:44.414Z"
   },
   {
    "duration": 283,
    "start_time": "2024-09-21T08:03:32.444Z"
   },
   {
    "duration": 22,
    "start_time": "2024-09-21T08:46:23.818Z"
   },
   {
    "duration": 393,
    "start_time": "2024-09-21T08:48:07.299Z"
   },
   {
    "duration": 395,
    "start_time": "2024-09-21T08:48:29.350Z"
   },
   {
    "duration": 471,
    "start_time": "2024-09-21T08:53:23.649Z"
   },
   {
    "duration": 376,
    "start_time": "2024-09-21T08:53:30.682Z"
   },
   {
    "duration": 10,
    "start_time": "2024-09-21T09:01:02.915Z"
   },
   {
    "duration": 10,
    "start_time": "2024-09-21T09:01:29.056Z"
   },
   {
    "duration": 32,
    "start_time": "2024-09-21T09:02:27.907Z"
   },
   {
    "duration": 771,
    "start_time": "2024-09-21T09:02:46.418Z"
   },
   {
    "duration": 11,
    "start_time": "2024-09-21T09:04:11.125Z"
   },
   {
    "duration": 17,
    "start_time": "2024-09-21T09:05:00.080Z"
   },
   {
    "duration": 10,
    "start_time": "2024-09-21T09:09:39.106Z"
   },
   {
    "duration": 10,
    "start_time": "2024-09-21T09:09:51.742Z"
   },
   {
    "duration": 11,
    "start_time": "2024-09-21T09:10:02.648Z"
   },
   {
    "duration": 18,
    "start_time": "2024-09-21T09:10:11.790Z"
   },
   {
    "duration": 10,
    "start_time": "2024-09-21T09:15:55.366Z"
   },
   {
    "duration": 10,
    "start_time": "2024-09-21T09:16:16.025Z"
   },
   {
    "duration": 10,
    "start_time": "2024-09-21T09:17:11.079Z"
   },
   {
    "duration": 10,
    "start_time": "2024-09-21T09:17:29.763Z"
   },
   {
    "duration": 10,
    "start_time": "2024-09-21T09:17:37.706Z"
   },
   {
    "duration": 35,
    "start_time": "2024-09-21T09:34:30.171Z"
   },
   {
    "duration": 260,
    "start_time": "2024-09-21T09:37:44.613Z"
   },
   {
    "duration": 11,
    "start_time": "2024-09-21T09:38:39.364Z"
   },
   {
    "duration": 10,
    "start_time": "2024-09-21T09:39:00.716Z"
   },
   {
    "duration": 13,
    "start_time": "2024-09-21T09:39:09.363Z"
   },
   {
    "duration": 13,
    "start_time": "2024-09-21T09:43:45.936Z"
   },
   {
    "duration": 248,
    "start_time": "2024-09-21T09:46:08.802Z"
   },
   {
    "duration": 252,
    "start_time": "2024-09-21T09:50:14.075Z"
   },
   {
    "duration": 12,
    "start_time": "2024-09-21T09:51:20.816Z"
   },
   {
    "duration": 389,
    "start_time": "2024-09-21T09:51:26.371Z"
   },
   {
    "duration": 233,
    "start_time": "2024-09-21T09:51:35.009Z"
   },
   {
    "duration": 261,
    "start_time": "2024-09-21T09:51:43.149Z"
   },
   {
    "duration": 263,
    "start_time": "2024-09-21T09:58:53.558Z"
   },
   {
    "duration": 258,
    "start_time": "2024-09-21T10:01:23.089Z"
   },
   {
    "duration": 14,
    "start_time": "2024-09-21T10:12:43.656Z"
   },
   {
    "duration": 975,
    "start_time": "2024-09-21T10:12:46.918Z"
   },
   {
    "duration": 12,
    "start_time": "2024-09-21T10:15:33.166Z"
   },
   {
    "duration": 833,
    "start_time": "2024-09-21T10:16:12.870Z"
   },
   {
    "duration": 919,
    "start_time": "2024-09-21T10:22:12.523Z"
   },
   {
    "duration": 830,
    "start_time": "2024-09-21T10:22:22.303Z"
   },
   {
    "duration": 72,
    "start_time": "2024-09-21T10:28:17.681Z"
   },
   {
    "duration": 56,
    "start_time": "2024-09-21T10:28:54.118Z"
   },
   {
    "duration": 874,
    "start_time": "2024-09-21T10:31:42.053Z"
   },
   {
    "duration": 12,
    "start_time": "2024-09-21T11:23:50.500Z"
   },
   {
    "duration": 12,
    "start_time": "2024-09-21T11:24:12.514Z"
   },
   {
    "duration": 372,
    "start_time": "2024-09-21T11:25:20.194Z"
   },
   {
    "duration": 245,
    "start_time": "2024-09-21T11:25:43.864Z"
   },
   {
    "duration": 258,
    "start_time": "2024-09-21T11:26:03.902Z"
   },
   {
    "duration": 280,
    "start_time": "2024-09-21T11:26:35.594Z"
   },
   {
    "duration": 266,
    "start_time": "2024-09-21T11:27:17.881Z"
   },
   {
    "duration": 294,
    "start_time": "2024-09-21T11:33:04.224Z"
   },
   {
    "duration": 92,
    "start_time": "2024-09-21T11:41:11.873Z"
   },
   {
    "duration": 9,
    "start_time": "2024-09-21T11:46:08.695Z"
   },
   {
    "duration": 259,
    "start_time": "2024-09-21T11:49:43.747Z"
   },
   {
    "duration": 173,
    "start_time": "2024-09-21T11:50:09.221Z"
   },
   {
    "duration": 145,
    "start_time": "2024-09-21T11:51:21.866Z"
   },
   {
    "duration": 140,
    "start_time": "2024-09-21T11:51:42.018Z"
   },
   {
    "duration": 152,
    "start_time": "2024-09-21T11:57:41.250Z"
   },
   {
    "duration": 67,
    "start_time": "2024-09-21T11:58:52.062Z"
   },
   {
    "duration": 156,
    "start_time": "2024-09-21T12:00:00.563Z"
   },
   {
    "duration": 148,
    "start_time": "2024-09-21T12:00:15.018Z"
   },
   {
    "duration": 288,
    "start_time": "2024-09-21T12:09:59.743Z"
   },
   {
    "duration": 16,
    "start_time": "2024-09-21T12:19:42.285Z"
   },
   {
    "duration": 14,
    "start_time": "2024-09-21T12:22:16.135Z"
   },
   {
    "duration": 49,
    "start_time": "2024-09-21T12:26:19.638Z"
   },
   {
    "duration": 1178,
    "start_time": "2024-09-21T12:26:20.624Z"
   },
   {
    "duration": 59,
    "start_time": "2024-09-21T12:26:21.804Z"
   },
   {
    "duration": 19,
    "start_time": "2024-09-21T12:26:21.865Z"
   },
   {
    "duration": 6,
    "start_time": "2024-09-21T12:26:21.886Z"
   },
   {
    "duration": 17,
    "start_time": "2024-09-21T12:26:21.893Z"
   },
   {
    "duration": 42,
    "start_time": "2024-09-21T12:26:21.911Z"
   },
   {
    "duration": 8,
    "start_time": "2024-09-21T12:26:21.955Z"
   },
   {
    "duration": 10,
    "start_time": "2024-09-21T12:26:21.964Z"
   },
   {
    "duration": 13,
    "start_time": "2024-09-21T12:26:21.976Z"
   },
   {
    "duration": 39,
    "start_time": "2024-09-21T12:26:21.991Z"
   },
   {
    "duration": 11,
    "start_time": "2024-09-21T12:26:22.031Z"
   },
   {
    "duration": 21,
    "start_time": "2024-09-21T12:26:22.044Z"
   },
   {
    "duration": 397,
    "start_time": "2024-09-21T12:26:22.067Z"
   },
   {
    "duration": 305,
    "start_time": "2024-09-21T12:26:22.466Z"
   },
   {
    "duration": 12,
    "start_time": "2024-09-21T12:26:22.772Z"
   },
   {
    "duration": 306,
    "start_time": "2024-09-21T12:26:22.786Z"
   },
   {
    "duration": 37,
    "start_time": "2024-09-21T12:26:23.094Z"
   },
   {
    "duration": 438,
    "start_time": "2024-09-21T12:26:23.132Z"
   },
   {
    "duration": 12,
    "start_time": "2024-09-21T12:26:23.571Z"
   },
   {
    "duration": 45,
    "start_time": "2024-09-21T12:26:23.585Z"
   },
   {
    "duration": 374,
    "start_time": "2024-09-21T12:26:23.631Z"
   },
   {
    "duration": 20,
    "start_time": "2024-09-21T12:26:24.006Z"
   },
   {
    "duration": 947,
    "start_time": "2024-09-21T12:26:24.028Z"
   },
   {
    "duration": 1050,
    "start_time": "2024-09-21T12:26:24.977Z"
   },
   {
    "duration": 304,
    "start_time": "2024-09-21T12:26:26.028Z"
   },
   {
    "duration": 163,
    "start_time": "2024-09-21T12:26:26.334Z"
   },
   {
    "duration": 166,
    "start_time": "2024-09-21T12:26:26.499Z"
   },
   {
    "duration": 168,
    "start_time": "2024-09-21T12:26:26.667Z"
   },
   {
    "duration": 14,
    "start_time": "2024-09-21T12:26:29.760Z"
   },
   {
    "duration": 3,
    "start_time": "2024-09-21T12:27:34.790Z"
   },
   {
    "duration": 259,
    "start_time": "2024-09-21T12:28:34.008Z"
   },
   {
    "duration": 256,
    "start_time": "2024-09-21T12:29:41.408Z"
   },
   {
    "duration": 274,
    "start_time": "2024-09-21T12:30:33.114Z"
   },
   {
    "duration": 10,
    "start_time": "2024-09-21T12:31:10.662Z"
   },
   {
    "duration": 370,
    "start_time": "2024-09-21T12:31:20.028Z"
   },
   {
    "duration": 19,
    "start_time": "2024-09-21T12:32:31.496Z"
   },
   {
    "duration": 259,
    "start_time": "2024-09-21T12:32:37.875Z"
   },
   {
    "duration": 18,
    "start_time": "2024-09-21T12:33:14.795Z"
   },
   {
    "duration": 261,
    "start_time": "2024-09-21T12:33:21.319Z"
   },
   {
    "duration": 253,
    "start_time": "2024-09-21T12:33:54.448Z"
   },
   {
    "duration": 350,
    "start_time": "2024-09-21T12:34:37.841Z"
   },
   {
    "duration": 418,
    "start_time": "2024-09-21T12:35:15.162Z"
   },
   {
    "duration": 352,
    "start_time": "2024-09-21T12:38:28.226Z"
   },
   {
    "duration": 315,
    "start_time": "2024-09-21T12:39:02.742Z"
   },
   {
    "duration": 337,
    "start_time": "2024-09-21T12:39:17.760Z"
   },
   {
    "duration": 99,
    "start_time": "2024-09-21T12:42:47.223Z"
   },
   {
    "duration": 60,
    "start_time": "2024-09-21T12:50:09.242Z"
   },
   {
    "duration": 21,
    "start_time": "2024-09-21T12:51:05.409Z"
   },
   {
    "duration": 355,
    "start_time": "2024-09-21T12:51:21.028Z"
   },
   {
    "duration": 352,
    "start_time": "2024-09-21T12:51:48.859Z"
   },
   {
    "duration": 441,
    "start_time": "2024-09-21T12:52:15.889Z"
   },
   {
    "duration": 342,
    "start_time": "2024-09-21T12:52:28.625Z"
   },
   {
    "duration": 311,
    "start_time": "2024-09-21T13:09:51.542Z"
   },
   {
    "duration": 59,
    "start_time": "2024-09-21T13:11:46.925Z"
   },
   {
    "duration": 110,
    "start_time": "2024-09-21T13:12:49.043Z"
   },
   {
    "duration": 115,
    "start_time": "2024-09-21T13:13:16.596Z"
   },
   {
    "duration": 108,
    "start_time": "2024-09-21T13:14:50.026Z"
   },
   {
    "duration": 119,
    "start_time": "2024-09-21T13:17:03.381Z"
   },
   {
    "duration": 232,
    "start_time": "2024-09-21T13:17:27.620Z"
   },
   {
    "duration": 107,
    "start_time": "2024-09-21T13:18:10.858Z"
   },
   {
    "duration": 112,
    "start_time": "2024-09-21T13:18:19.265Z"
   },
   {
    "duration": 108,
    "start_time": "2024-09-21T13:18:36.510Z"
   },
   {
    "duration": 103,
    "start_time": "2024-09-21T13:19:41.542Z"
   },
   {
    "duration": 110,
    "start_time": "2024-09-21T13:20:00.743Z"
   },
   {
    "duration": 64,
    "start_time": "2024-09-21T13:23:50.824Z"
   },
   {
    "duration": 76,
    "start_time": "2024-09-21T13:23:54.335Z"
   },
   {
    "duration": 845,
    "start_time": "2024-09-21T13:41:11.727Z"
   },
   {
    "duration": 932,
    "start_time": "2024-09-21T13:43:57.140Z"
   },
   {
    "duration": 861,
    "start_time": "2024-09-21T13:45:29.980Z"
   },
   {
    "duration": 952,
    "start_time": "2024-09-21T13:46:01.634Z"
   },
   {
    "duration": 2,
    "start_time": "2024-09-21T13:59:42.925Z"
   },
   {
    "duration": 66,
    "start_time": "2024-09-21T14:00:16.763Z"
   },
   {
    "duration": 12,
    "start_time": "2024-09-21T14:04:30.078Z"
   },
   {
    "duration": 9,
    "start_time": "2024-09-21T14:05:10.257Z"
   },
   {
    "duration": 10,
    "start_time": "2024-09-21T14:11:36.731Z"
   },
   {
    "duration": 1396,
    "start_time": "2024-09-21T17:34:18.716Z"
   },
   {
    "duration": 231,
    "start_time": "2024-09-21T17:34:20.114Z"
   },
   {
    "duration": 19,
    "start_time": "2024-09-21T17:34:20.346Z"
   },
   {
    "duration": 3,
    "start_time": "2024-09-21T17:34:20.367Z"
   },
   {
    "duration": 21,
    "start_time": "2024-09-21T17:34:20.373Z"
   },
   {
    "duration": 39,
    "start_time": "2024-09-21T17:34:20.396Z"
   },
   {
    "duration": 8,
    "start_time": "2024-09-21T17:34:20.437Z"
   },
   {
    "duration": 71,
    "start_time": "2024-09-21T17:34:20.446Z"
   },
   {
    "duration": 3,
    "start_time": "2024-09-21T17:34:20.519Z"
   },
   {
    "duration": 7,
    "start_time": "2024-09-21T17:34:20.524Z"
   },
   {
    "duration": 11,
    "start_time": "2024-09-21T17:34:20.533Z"
   },
   {
    "duration": 18,
    "start_time": "2024-09-21T17:34:20.545Z"
   },
   {
    "duration": 409,
    "start_time": "2024-09-21T17:34:20.564Z"
   },
   {
    "duration": 313,
    "start_time": "2024-09-21T17:34:20.976Z"
   },
   {
    "duration": 13,
    "start_time": "2024-09-21T17:34:21.291Z"
   },
   {
    "duration": 314,
    "start_time": "2024-09-21T17:34:21.305Z"
   },
   {
    "duration": 28,
    "start_time": "2024-09-21T17:34:21.620Z"
   },
   {
    "duration": 448,
    "start_time": "2024-09-21T17:34:21.650Z"
   },
   {
    "duration": 11,
    "start_time": "2024-09-21T17:34:22.099Z"
   },
   {
    "duration": 39,
    "start_time": "2024-09-21T17:34:22.111Z"
   },
   {
    "duration": 360,
    "start_time": "2024-09-21T17:34:22.152Z"
   },
   {
    "duration": 15,
    "start_time": "2024-09-21T17:34:22.513Z"
   },
   {
    "duration": 918,
    "start_time": "2024-09-21T17:34:22.529Z"
   },
   {
    "duration": 1035,
    "start_time": "2024-09-21T17:34:23.449Z"
   },
   {
    "duration": 326,
    "start_time": "2024-09-21T17:34:24.486Z"
   },
   {
    "duration": 167,
    "start_time": "2024-09-21T17:34:24.814Z"
   },
   {
    "duration": 172,
    "start_time": "2024-09-21T17:34:24.983Z"
   },
   {
    "duration": 173,
    "start_time": "2024-09-21T17:34:25.157Z"
   },
   {
    "duration": 19,
    "start_time": "2024-09-21T17:34:25.331Z"
   },
   {
    "duration": 403,
    "start_time": "2024-09-21T17:34:25.352Z"
   },
   {
    "duration": 20,
    "start_time": "2024-09-21T17:34:25.757Z"
   },
   {
    "duration": 359,
    "start_time": "2024-09-21T17:34:25.778Z"
   },
   {
    "duration": 944,
    "start_time": "2024-09-21T17:34:26.138Z"
   },
   {
    "duration": 10,
    "start_time": "2024-09-21T17:34:27.083Z"
   },
   {
    "duration": 12,
    "start_time": "2024-09-21T17:34:27.095Z"
   },
   {
    "duration": 85,
    "start_time": "2024-09-21T17:44:28.453Z"
   },
   {
    "duration": 25,
    "start_time": "2024-09-21T17:50:23.082Z"
   },
   {
    "duration": 9,
    "start_time": "2024-09-21T18:15:09.785Z"
   },
   {
    "duration": 1136,
    "start_time": "2024-09-21T18:16:31.078Z"
   },
   {
    "duration": 58,
    "start_time": "2024-09-21T18:16:32.216Z"
   },
   {
    "duration": 18,
    "start_time": "2024-09-21T18:16:32.276Z"
   },
   {
    "duration": 13,
    "start_time": "2024-09-21T18:16:32.296Z"
   },
   {
    "duration": 34,
    "start_time": "2024-09-21T18:16:32.311Z"
   },
   {
    "duration": 29,
    "start_time": "2024-09-21T18:16:32.347Z"
   },
   {
    "duration": 41,
    "start_time": "2024-09-21T18:16:32.378Z"
   },
   {
    "duration": 49,
    "start_time": "2024-09-21T18:16:32.420Z"
   },
   {
    "duration": 4,
    "start_time": "2024-09-21T18:16:32.470Z"
   },
   {
    "duration": 6,
    "start_time": "2024-09-21T18:16:32.475Z"
   },
   {
    "duration": 9,
    "start_time": "2024-09-21T18:16:32.483Z"
   },
   {
    "duration": 23,
    "start_time": "2024-09-21T18:16:32.493Z"
   },
   {
    "duration": 187,
    "start_time": "2024-09-21T18:16:32.518Z"
   },
   {
    "duration": 401,
    "start_time": "2024-09-21T18:16:32.708Z"
   },
   {
    "duration": 312,
    "start_time": "2024-09-21T18:16:33.110Z"
   },
   {
    "duration": 14,
    "start_time": "2024-09-21T18:16:33.425Z"
   },
   {
    "duration": 320,
    "start_time": "2024-09-21T18:16:33.440Z"
   },
   {
    "duration": 26,
    "start_time": "2024-09-21T18:16:33.762Z"
   },
   {
    "duration": 45,
    "start_time": "2024-09-21T18:16:33.790Z"
   },
   {
    "duration": 444,
    "start_time": "2024-09-21T18:16:33.837Z"
   },
   {
    "duration": 11,
    "start_time": "2024-09-21T18:16:34.282Z"
   },
   {
    "duration": 46,
    "start_time": "2024-09-21T18:16:34.295Z"
   },
   {
    "duration": 363,
    "start_time": "2024-09-21T18:16:34.343Z"
   },
   {
    "duration": 21,
    "start_time": "2024-09-21T18:16:34.707Z"
   },
   {
    "duration": 942,
    "start_time": "2024-09-21T18:16:34.729Z"
   },
   {
    "duration": 1059,
    "start_time": "2024-09-21T18:16:35.673Z"
   },
   {
    "duration": 311,
    "start_time": "2024-09-21T18:16:36.734Z"
   },
   {
    "duration": 168,
    "start_time": "2024-09-21T18:16:37.046Z"
   },
   {
    "duration": 173,
    "start_time": "2024-09-21T18:16:37.215Z"
   },
   {
    "duration": 170,
    "start_time": "2024-09-21T18:16:37.390Z"
   },
   {
    "duration": 18,
    "start_time": "2024-09-21T18:16:37.562Z"
   },
   {
    "duration": 346,
    "start_time": "2024-09-21T18:16:37.582Z"
   },
   {
    "duration": 19,
    "start_time": "2024-09-21T18:16:37.930Z"
   },
   {
    "duration": 365,
    "start_time": "2024-09-21T18:16:37.951Z"
   },
   {
    "duration": 923,
    "start_time": "2024-09-21T18:16:38.318Z"
   },
   {
    "duration": 9,
    "start_time": "2024-09-21T18:16:39.242Z"
   },
   {
    "duration": 9,
    "start_time": "2024-09-21T18:16:39.252Z"
   },
   {
    "duration": 9,
    "start_time": "2024-09-21T18:16:39.263Z"
   },
   {
    "duration": 46,
    "start_time": "2024-09-21T20:55:21.100Z"
   },
   {
    "duration": 1325,
    "start_time": "2024-09-21T20:55:29.836Z"
   },
   {
    "duration": 237,
    "start_time": "2024-09-21T20:55:31.163Z"
   },
   {
    "duration": 23,
    "start_time": "2024-09-21T20:55:31.402Z"
   },
   {
    "duration": 3,
    "start_time": "2024-09-21T20:55:31.427Z"
   },
   {
    "duration": 25,
    "start_time": "2024-09-21T20:55:31.432Z"
   },
   {
    "duration": 28,
    "start_time": "2024-09-21T20:55:31.458Z"
   },
   {
    "duration": 28,
    "start_time": "2024-09-21T20:55:31.487Z"
   },
   {
    "duration": 10,
    "start_time": "2024-09-21T20:55:31.516Z"
   },
   {
    "duration": 18,
    "start_time": "2024-09-21T20:55:31.527Z"
   },
   {
    "duration": 11,
    "start_time": "2024-09-21T20:55:31.547Z"
   },
   {
    "duration": 98,
    "start_time": "2024-09-21T20:55:31.560Z"
   },
   {
    "duration": 17,
    "start_time": "2024-09-21T20:55:31.659Z"
   },
   {
    "duration": 75,
    "start_time": "2024-09-21T20:55:31.678Z"
   },
   {
    "duration": 372,
    "start_time": "2024-09-21T20:55:31.754Z"
   },
   {
    "duration": 324,
    "start_time": "2024-09-21T20:55:32.128Z"
   },
   {
    "duration": 13,
    "start_time": "2024-09-21T20:55:32.454Z"
   },
   {
    "duration": 297,
    "start_time": "2024-09-21T20:55:32.468Z"
   },
   {
    "duration": 23,
    "start_time": "2024-09-21T20:55:32.767Z"
   },
   {
    "duration": 35,
    "start_time": "2024-09-21T20:55:32.791Z"
   },
   {
    "duration": 517,
    "start_time": "2024-09-21T20:55:32.827Z"
   },
   {
    "duration": 10,
    "start_time": "2024-09-21T20:55:33.346Z"
   },
   {
    "duration": 32,
    "start_time": "2024-09-21T20:55:33.358Z"
   },
   {
    "duration": 286,
    "start_time": "2024-09-21T20:55:33.392Z"
   },
   {
    "duration": 12,
    "start_time": "2024-09-21T20:55:33.680Z"
   },
   {
    "duration": 904,
    "start_time": "2024-09-21T20:55:33.693Z"
   },
   {
    "duration": 988,
    "start_time": "2024-09-21T20:55:34.598Z"
   },
   {
    "duration": 292,
    "start_time": "2024-09-21T20:55:35.587Z"
   },
   {
    "duration": 165,
    "start_time": "2024-09-21T20:55:35.883Z"
   },
   {
    "duration": 163,
    "start_time": "2024-09-21T20:55:36.050Z"
   },
   {
    "duration": 158,
    "start_time": "2024-09-21T20:55:36.214Z"
   },
   {
    "duration": 19,
    "start_time": "2024-09-21T20:55:36.373Z"
   },
   {
    "duration": 322,
    "start_time": "2024-09-21T20:55:36.393Z"
   },
   {
    "duration": 16,
    "start_time": "2024-09-21T20:55:36.717Z"
   },
   {
    "duration": 401,
    "start_time": "2024-09-21T20:55:36.734Z"
   },
   {
    "duration": 827,
    "start_time": "2024-09-21T20:55:37.137Z"
   },
   {
    "duration": 8,
    "start_time": "2024-09-21T20:55:37.966Z"
   },
   {
    "duration": 18,
    "start_time": "2024-09-21T20:55:37.975Z"
   },
   {
    "duration": 8,
    "start_time": "2024-09-21T20:55:37.994Z"
   },
   {
    "duration": 67,
    "start_time": "2024-09-21T21:10:55.520Z"
   },
   {
    "duration": 57,
    "start_time": "2024-09-21T21:11:57.484Z"
   },
   {
    "duration": 22,
    "start_time": "2024-09-21T21:19:33.718Z"
   },
   {
    "duration": 29,
    "start_time": "2024-09-21T21:21:36.702Z"
   },
   {
    "duration": 6,
    "start_time": "2024-09-21T21:28:12.110Z"
   },
   {
    "duration": 7,
    "start_time": "2024-09-21T21:28:16.508Z"
   },
   {
    "duration": 100,
    "start_time": "2024-09-21T21:30:29.415Z"
   },
   {
    "duration": 11,
    "start_time": "2024-09-21T21:30:42.736Z"
   },
   {
    "duration": 12,
    "start_time": "2024-09-21T21:30:54.501Z"
   },
   {
    "duration": 12,
    "start_time": "2024-09-21T21:31:19.395Z"
   },
   {
    "duration": 12,
    "start_time": "2024-09-21T21:31:35.485Z"
   },
   {
    "duration": 4,
    "start_time": "2024-09-21T21:32:19.749Z"
   },
   {
    "duration": 5,
    "start_time": "2024-09-21T21:35:53.645Z"
   },
   {
    "duration": 14,
    "start_time": "2024-09-21T21:36:39.904Z"
   },
   {
    "duration": 8,
    "start_time": "2024-09-21T21:46:40.477Z"
   },
   {
    "duration": 10,
    "start_time": "2024-09-21T21:46:59.492Z"
   },
   {
    "duration": 15,
    "start_time": "2024-09-21T21:55:54.703Z"
   },
   {
    "duration": 13,
    "start_time": "2024-09-21T21:56:01.807Z"
   },
   {
    "duration": 20,
    "start_time": "2024-09-21T21:56:15.646Z"
   },
   {
    "duration": 36,
    "start_time": "2024-09-21T21:58:45.776Z"
   },
   {
    "duration": 37,
    "start_time": "2024-09-21T21:59:30.889Z"
   },
   {
    "duration": 37,
    "start_time": "2024-09-21T22:01:50.428Z"
   },
   {
    "duration": 1182,
    "start_time": "2024-09-21T22:02:57.781Z"
   },
   {
    "duration": 62,
    "start_time": "2024-09-21T22:02:58.965Z"
   },
   {
    "duration": 17,
    "start_time": "2024-09-21T22:02:59.028Z"
   },
   {
    "duration": 18,
    "start_time": "2024-09-21T22:02:59.047Z"
   },
   {
    "duration": 24,
    "start_time": "2024-09-21T22:02:59.067Z"
   },
   {
    "duration": 27,
    "start_time": "2024-09-21T22:02:59.093Z"
   },
   {
    "duration": 7,
    "start_time": "2024-09-21T22:02:59.122Z"
   },
   {
    "duration": 11,
    "start_time": "2024-09-21T22:02:59.130Z"
   },
   {
    "duration": 3,
    "start_time": "2024-09-21T22:02:59.142Z"
   },
   {
    "duration": 6,
    "start_time": "2024-09-21T22:02:59.147Z"
   },
   {
    "duration": 19,
    "start_time": "2024-09-21T22:02:59.154Z"
   },
   {
    "duration": 28,
    "start_time": "2024-09-21T22:02:59.174Z"
   },
   {
    "duration": 50,
    "start_time": "2024-09-21T22:02:59.204Z"
   },
   {
    "duration": 2,
    "start_time": "2024-09-21T22:02:59.256Z"
   },
   {
    "duration": 9,
    "start_time": "2024-09-21T22:02:59.259Z"
   },
   {
    "duration": 12,
    "start_time": "2024-09-21T22:02:59.269Z"
   },
   {
    "duration": 5,
    "start_time": "2024-09-21T22:02:59.283Z"
   },
   {
    "duration": 6,
    "start_time": "2024-09-21T22:02:59.289Z"
   },
   {
    "duration": 24,
    "start_time": "2024-09-21T22:02:59.296Z"
   },
   {
    "duration": 14,
    "start_time": "2024-09-21T22:02:59.322Z"
   },
   {
    "duration": 7,
    "start_time": "2024-09-21T22:02:59.337Z"
   },
   {
    "duration": 81,
    "start_time": "2024-09-21T22:02:59.345Z"
   },
   {
    "duration": 362,
    "start_time": "2024-09-21T22:02:59.428Z"
   },
   {
    "duration": 290,
    "start_time": "2024-09-21T22:02:59.791Z"
   },
   {
    "duration": 12,
    "start_time": "2024-09-21T22:03:00.083Z"
   },
   {
    "duration": 297,
    "start_time": "2024-09-21T22:03:00.097Z"
   },
   {
    "duration": 34,
    "start_time": "2024-09-21T22:03:00.395Z"
   },
   {
    "duration": 21,
    "start_time": "2024-09-21T22:03:00.432Z"
   },
   {
    "duration": 424,
    "start_time": "2024-09-21T22:03:00.454Z"
   },
   {
    "duration": 10,
    "start_time": "2024-09-21T22:03:00.880Z"
   },
   {
    "duration": 42,
    "start_time": "2024-09-21T22:03:00.891Z"
   },
   {
    "duration": 340,
    "start_time": "2024-09-21T22:03:00.934Z"
   },
   {
    "duration": 12,
    "start_time": "2024-09-21T22:03:01.276Z"
   },
   {
    "duration": 882,
    "start_time": "2024-09-21T22:03:01.289Z"
   },
   {
    "duration": 1006,
    "start_time": "2024-09-21T22:03:02.173Z"
   },
   {
    "duration": 289,
    "start_time": "2024-09-21T22:03:03.181Z"
   },
   {
    "duration": 146,
    "start_time": "2024-09-21T22:03:03.471Z"
   },
   {
    "duration": 158,
    "start_time": "2024-09-21T22:03:03.619Z"
   },
   {
    "duration": 153,
    "start_time": "2024-09-21T22:03:03.779Z"
   },
   {
    "duration": 17,
    "start_time": "2024-09-21T22:03:03.933Z"
   },
   {
    "duration": 333,
    "start_time": "2024-09-21T22:03:03.952Z"
   },
   {
    "duration": 30,
    "start_time": "2024-09-21T22:03:04.286Z"
   },
   {
    "duration": 319,
    "start_time": "2024-09-21T22:03:04.317Z"
   },
   {
    "duration": 849,
    "start_time": "2024-09-21T22:03:04.638Z"
   },
   {
    "duration": 9,
    "start_time": "2024-09-21T22:03:05.488Z"
   },
   {
    "duration": 25,
    "start_time": "2024-09-21T22:03:05.514Z"
   },
   {
    "duration": 40,
    "start_time": "2024-09-21T22:03:05.541Z"
   },
   {
    "duration": 35,
    "start_time": "2024-09-21T22:04:04.293Z"
   },
   {
    "duration": 14,
    "start_time": "2024-09-21T22:04:25.378Z"
   },
   {
    "duration": 15,
    "start_time": "2024-09-21T22:04:29.161Z"
   },
   {
    "duration": 20,
    "start_time": "2024-09-21T22:04:38.286Z"
   },
   {
    "duration": 22,
    "start_time": "2024-09-21T22:04:49.066Z"
   },
   {
    "duration": 29,
    "start_time": "2024-09-21T22:05:12.621Z"
   },
   {
    "duration": 43,
    "start_time": "2024-09-21T22:06:06.837Z"
   },
   {
    "duration": 14,
    "start_time": "2024-09-21T22:07:59.839Z"
   },
   {
    "duration": 25,
    "start_time": "2024-09-21T22:08:23.491Z"
   },
   {
    "duration": 13,
    "start_time": "2024-09-21T22:08:56.881Z"
   },
   {
    "duration": 51,
    "start_time": "2024-09-22T07:23:53.592Z"
   },
   {
    "duration": 1280,
    "start_time": "2024-09-22T07:24:03.713Z"
   },
   {
    "duration": 188,
    "start_time": "2024-09-22T07:24:04.995Z"
   },
   {
    "duration": 17,
    "start_time": "2024-09-22T07:24:05.184Z"
   },
   {
    "duration": 3,
    "start_time": "2024-09-22T07:24:05.203Z"
   },
   {
    "duration": 22,
    "start_time": "2024-09-22T07:24:05.208Z"
   },
   {
    "duration": 27,
    "start_time": "2024-09-22T07:24:05.232Z"
   },
   {
    "duration": 8,
    "start_time": "2024-09-22T07:24:05.264Z"
   },
   {
    "duration": 9,
    "start_time": "2024-09-22T07:24:05.273Z"
   },
   {
    "duration": 3,
    "start_time": "2024-09-22T07:24:05.283Z"
   },
   {
    "duration": 9,
    "start_time": "2024-09-22T07:24:05.288Z"
   },
   {
    "duration": 10,
    "start_time": "2024-09-22T07:24:05.298Z"
   },
   {
    "duration": 20,
    "start_time": "2024-09-22T07:24:05.309Z"
   },
   {
    "duration": 50,
    "start_time": "2024-09-22T07:24:05.330Z"
   },
   {
    "duration": 2,
    "start_time": "2024-09-22T07:24:05.382Z"
   },
   {
    "duration": 23,
    "start_time": "2024-09-22T07:24:05.386Z"
   },
   {
    "duration": 18,
    "start_time": "2024-09-22T07:24:05.411Z"
   },
   {
    "duration": 66,
    "start_time": "2024-09-22T07:24:05.431Z"
   },
   {
    "duration": 29,
    "start_time": "2024-09-22T07:24:05.498Z"
   },
   {
    "duration": 10,
    "start_time": "2024-09-22T07:24:05.528Z"
   },
   {
    "duration": 18,
    "start_time": "2024-09-22T07:24:05.539Z"
   },
   {
    "duration": 18,
    "start_time": "2024-09-22T07:24:05.558Z"
   },
   {
    "duration": 5,
    "start_time": "2024-09-22T07:24:05.578Z"
   },
   {
    "duration": 88,
    "start_time": "2024-09-22T07:24:05.585Z"
   },
   {
    "duration": 439,
    "start_time": "2024-09-22T07:24:05.675Z"
   },
   {
    "duration": 295,
    "start_time": "2024-09-22T07:24:06.115Z"
   },
   {
    "duration": 13,
    "start_time": "2024-09-22T07:24:06.411Z"
   },
   {
    "duration": 300,
    "start_time": "2024-09-22T07:24:06.425Z"
   },
   {
    "duration": 25,
    "start_time": "2024-09-22T07:24:06.728Z"
   },
   {
    "duration": 31,
    "start_time": "2024-09-22T07:24:06.754Z"
   },
   {
    "duration": 460,
    "start_time": "2024-09-22T07:24:06.786Z"
   },
   {
    "duration": 22,
    "start_time": "2024-09-22T07:24:07.247Z"
   },
   {
    "duration": 39,
    "start_time": "2024-09-22T07:24:07.271Z"
   },
   {
    "duration": 391,
    "start_time": "2024-09-22T07:24:07.312Z"
   },
   {
    "duration": 14,
    "start_time": "2024-09-22T07:24:07.705Z"
   },
   {
    "duration": 967,
    "start_time": "2024-09-22T07:24:07.720Z"
   },
   {
    "duration": 1116,
    "start_time": "2024-09-22T07:24:08.689Z"
   },
   {
    "duration": 316,
    "start_time": "2024-09-22T07:24:09.806Z"
   },
   {
    "duration": 162,
    "start_time": "2024-09-22T07:24:10.123Z"
   },
   {
    "duration": 168,
    "start_time": "2024-09-22T07:24:10.287Z"
   },
   {
    "duration": 163,
    "start_time": "2024-09-22T07:24:10.456Z"
   },
   {
    "duration": 17,
    "start_time": "2024-09-22T07:24:10.621Z"
   },
   {
    "duration": 387,
    "start_time": "2024-09-22T07:24:10.640Z"
   },
   {
    "duration": 26,
    "start_time": "2024-09-22T07:24:11.029Z"
   },
   {
    "duration": 377,
    "start_time": "2024-09-22T07:24:11.058Z"
   },
   {
    "duration": 907,
    "start_time": "2024-09-22T07:24:11.438Z"
   },
   {
    "duration": 18,
    "start_time": "2024-09-22T07:24:12.347Z"
   },
   {
    "duration": 9,
    "start_time": "2024-09-22T07:24:12.366Z"
   },
   {
    "duration": 13,
    "start_time": "2024-09-22T07:24:12.377Z"
   },
   {
    "duration": 3,
    "start_time": "2024-09-22T07:31:24.447Z"
   },
   {
    "duration": 18,
    "start_time": "2024-09-22T07:32:05.231Z"
   },
   {
    "duration": 11,
    "start_time": "2024-09-22T07:33:35.316Z"
   },
   {
    "duration": 10,
    "start_time": "2024-09-22T07:48:22.452Z"
   },
   {
    "duration": 10,
    "start_time": "2024-09-22T07:48:25.599Z"
   },
   {
    "duration": 17,
    "start_time": "2024-09-22T07:49:45.167Z"
   },
   {
    "duration": 15,
    "start_time": "2024-09-22T07:52:50.717Z"
   },
   {
    "duration": 19,
    "start_time": "2024-09-22T08:09:30.307Z"
   },
   {
    "duration": 87,
    "start_time": "2024-09-22T08:15:20.312Z"
   },
   {
    "duration": 68,
    "start_time": "2024-09-22T08:42:37.012Z"
   },
   {
    "duration": 13,
    "start_time": "2024-09-22T09:00:33.744Z"
   },
   {
    "duration": 115,
    "start_time": "2024-09-22T09:05:51.345Z"
   },
   {
    "duration": 14,
    "start_time": "2024-09-22T09:06:08.146Z"
   },
   {
    "duration": 21,
    "start_time": "2024-09-22T09:06:57.024Z"
   },
   {
    "duration": 20,
    "start_time": "2024-09-22T09:08:23.377Z"
   },
   {
    "duration": 48,
    "start_time": "2024-09-22T09:21:26.332Z"
   },
   {
    "duration": 12,
    "start_time": "2024-09-22T09:34:18.617Z"
   },
   {
    "duration": 78,
    "start_time": "2024-09-22T09:35:14.199Z"
   },
   {
    "duration": 10,
    "start_time": "2024-09-22T09:35:20.880Z"
   },
   {
    "duration": 13,
    "start_time": "2024-09-22T09:35:52.377Z"
   },
   {
    "duration": 3254,
    "start_time": "2024-09-22T09:36:02.324Z"
   },
   {
    "duration": 60,
    "start_time": "2024-09-22T09:36:10.706Z"
   },
   {
    "duration": 3145,
    "start_time": "2024-09-22T09:36:17.057Z"
   },
   {
    "duration": 8,
    "start_time": "2024-09-22T09:45:45.393Z"
   },
   {
    "duration": 65,
    "start_time": "2024-09-22T10:14:15.677Z"
   },
   {
    "duration": 12,
    "start_time": "2024-09-22T10:23:36.304Z"
   },
   {
    "duration": 9,
    "start_time": "2024-09-22T10:23:44.068Z"
   },
   {
    "duration": 8,
    "start_time": "2024-09-22T10:24:16.064Z"
   },
   {
    "duration": 11,
    "start_time": "2024-09-22T10:29:26.719Z"
   },
   {
    "duration": 7,
    "start_time": "2024-09-22T10:29:57.432Z"
   },
   {
    "duration": 11,
    "start_time": "2024-09-22T10:30:16.170Z"
   },
   {
    "duration": 10,
    "start_time": "2024-09-22T10:30:26.130Z"
   },
   {
    "duration": 10,
    "start_time": "2024-09-22T10:30:39.607Z"
   },
   {
    "duration": 9,
    "start_time": "2024-09-22T10:30:45.781Z"
   },
   {
    "duration": 11,
    "start_time": "2024-09-22T10:31:03.872Z"
   },
   {
    "duration": 7,
    "start_time": "2024-09-22T10:31:11.633Z"
   },
   {
    "duration": 11,
    "start_time": "2024-09-22T10:31:17.883Z"
   },
   {
    "duration": 7,
    "start_time": "2024-09-22T10:31:52.078Z"
   },
   {
    "duration": 7,
    "start_time": "2024-09-22T10:32:24.995Z"
   },
   {
    "duration": 15,
    "start_time": "2024-09-22T10:39:40.559Z"
   },
   {
    "duration": 11,
    "start_time": "2024-09-22T10:52:48.496Z"
   },
   {
    "duration": 7,
    "start_time": "2024-09-22T10:52:55.366Z"
   },
   {
    "duration": 4,
    "start_time": "2024-09-22T10:57:08.813Z"
   },
   {
    "duration": 15,
    "start_time": "2024-09-22T10:57:54.261Z"
   },
   {
    "duration": 292,
    "start_time": "2024-09-22T10:58:50.364Z"
   },
   {
    "duration": 325,
    "start_time": "2024-09-22T10:59:49.343Z"
   },
   {
    "duration": 57,
    "start_time": "2024-09-22T11:02:39.321Z"
   },
   {
    "duration": 26,
    "start_time": "2024-09-22T11:04:36.446Z"
   },
   {
    "duration": 17,
    "start_time": "2024-09-22T11:10:15.209Z"
   },
   {
    "duration": 19,
    "start_time": "2024-09-22T11:16:01.285Z"
   },
   {
    "duration": 11,
    "start_time": "2024-09-22T11:16:11.221Z"
   },
   {
    "duration": 309,
    "start_time": "2024-09-22T11:16:28.591Z"
   },
   {
    "duration": 305,
    "start_time": "2024-09-22T11:16:43.991Z"
   },
   {
    "duration": 425,
    "start_time": "2024-09-22T11:17:13.957Z"
   },
   {
    "duration": 285,
    "start_time": "2024-09-22T11:18:54.634Z"
   },
   {
    "duration": 320,
    "start_time": "2024-09-22T11:19:14.801Z"
   },
   {
    "duration": 67,
    "start_time": "2024-09-22T11:21:17.005Z"
   },
   {
    "duration": 2221,
    "start_time": "2024-09-22T12:09:48.711Z"
   },
   {
    "duration": 66,
    "start_time": "2024-09-22T12:11:16.731Z"
   },
   {
    "duration": 3,
    "start_time": "2024-09-22T12:12:55.182Z"
   },
   {
    "duration": 5,
    "start_time": "2024-09-22T12:15:02.545Z"
   },
   {
    "duration": 2382,
    "start_time": "2024-09-22T12:19:06.073Z"
   },
   {
    "duration": 17,
    "start_time": "2024-09-22T12:20:16.040Z"
   },
   {
    "duration": 680,
    "start_time": "2024-09-22T12:20:43.329Z"
   },
   {
    "duration": 675,
    "start_time": "2024-09-22T12:21:29.454Z"
   },
   {
    "duration": 728,
    "start_time": "2024-09-22T12:21:54.855Z"
   },
   {
    "duration": 747,
    "start_time": "2024-09-22T12:22:21.566Z"
   },
   {
    "duration": 1268,
    "start_time": "2024-09-22T12:23:22.570Z"
   },
   {
    "duration": 2363,
    "start_time": "2024-09-22T12:23:41.889Z"
   },
   {
    "duration": 2235,
    "start_time": "2024-09-22T12:25:00.834Z"
   },
   {
    "duration": 2256,
    "start_time": "2024-09-22T12:26:45.740Z"
   },
   {
    "duration": 2213,
    "start_time": "2024-09-22T12:28:24.341Z"
   },
   {
    "duration": 2334,
    "start_time": "2024-09-22T12:29:24.382Z"
   },
   {
    "duration": 3,
    "start_time": "2024-09-22T12:31:05.706Z"
   },
   {
    "duration": 21,
    "start_time": "2024-09-22T12:54:30.855Z"
   },
   {
    "duration": 314,
    "start_time": "2024-09-22T12:54:52.512Z"
   },
   {
    "duration": 311,
    "start_time": "2024-09-22T12:55:55.954Z"
   },
   {
    "duration": 59,
    "start_time": "2024-09-22T12:57:11.504Z"
   },
   {
    "duration": 18,
    "start_time": "2024-09-22T13:01:03.095Z"
   },
   {
    "duration": 25,
    "start_time": "2024-09-22T13:07:29.805Z"
   },
   {
    "duration": 34,
    "start_time": "2024-09-22T13:07:55.562Z"
   },
   {
    "duration": 21,
    "start_time": "2024-09-22T13:08:13.705Z"
   },
   {
    "duration": 22,
    "start_time": "2024-09-22T13:08:24.799Z"
   },
   {
    "duration": 56,
    "start_time": "2024-09-22T13:17:28.990Z"
   },
   {
    "duration": 410,
    "start_time": "2024-09-22T13:24:02.461Z"
   },
   {
    "duration": 75,
    "start_time": "2024-09-22T13:33:44.450Z"
   },
   {
    "duration": 3,
    "start_time": "2024-09-22T13:46:50.328Z"
   },
   {
    "duration": 280,
    "start_time": "2024-09-22T13:49:51.476Z"
   },
   {
    "duration": 10,
    "start_time": "2024-09-22T14:01:53.648Z"
   },
   {
    "duration": 8,
    "start_time": "2024-09-22T14:03:51.442Z"
   },
   {
    "duration": 6,
    "start_time": "2024-09-22T14:04:29.000Z"
   },
   {
    "duration": 8,
    "start_time": "2024-09-22T14:05:02.751Z"
   },
   {
    "duration": 8,
    "start_time": "2024-09-22T14:07:52.016Z"
   },
   {
    "duration": 6,
    "start_time": "2024-09-22T14:14:04.827Z"
   },
   {
    "duration": 266,
    "start_time": "2024-09-22T14:21:46.903Z"
   },
   {
    "duration": 376,
    "start_time": "2024-09-22T14:22:58.240Z"
   },
   {
    "duration": 19,
    "start_time": "2024-09-22T14:24:34.443Z"
   },
   {
    "duration": 288,
    "start_time": "2024-09-22T14:24:37.111Z"
   },
   {
    "duration": 18,
    "start_time": "2024-09-22T14:25:54.986Z"
   },
   {
    "duration": 264,
    "start_time": "2024-09-22T14:26:16.083Z"
   },
   {
    "duration": 1179,
    "start_time": "2024-09-22T15:01:42.237Z"
   },
   {
    "duration": 58,
    "start_time": "2024-09-22T15:01:43.418Z"
   },
   {
    "duration": 18,
    "start_time": "2024-09-22T15:01:43.478Z"
   },
   {
    "duration": 4,
    "start_time": "2024-09-22T15:01:43.498Z"
   },
   {
    "duration": 17,
    "start_time": "2024-09-22T15:01:43.504Z"
   },
   {
    "duration": 51,
    "start_time": "2024-09-22T15:01:43.522Z"
   },
   {
    "duration": 9,
    "start_time": "2024-09-22T15:01:43.575Z"
   },
   {
    "duration": 10,
    "start_time": "2024-09-22T15:01:43.585Z"
   },
   {
    "duration": 4,
    "start_time": "2024-09-22T15:01:43.597Z"
   },
   {
    "duration": 7,
    "start_time": "2024-09-22T15:01:43.604Z"
   },
   {
    "duration": 10,
    "start_time": "2024-09-22T15:01:43.612Z"
   },
   {
    "duration": 50,
    "start_time": "2024-09-22T15:01:43.623Z"
   },
   {
    "duration": 11,
    "start_time": "2024-09-22T15:01:43.675Z"
   },
   {
    "duration": 15,
    "start_time": "2024-09-22T15:01:43.687Z"
   },
   {
    "duration": 101,
    "start_time": "2024-09-22T15:01:43.703Z"
   },
   {
    "duration": 9,
    "start_time": "2024-09-22T15:01:43.806Z"
   },
   {
    "duration": 19,
    "start_time": "2024-09-22T15:01:43.817Z"
   },
   {
    "duration": 36,
    "start_time": "2024-09-22T15:01:43.837Z"
   },
   {
    "duration": 7,
    "start_time": "2024-09-22T15:01:43.874Z"
   },
   {
    "duration": 413,
    "start_time": "2024-09-22T15:01:43.883Z"
   },
   {
    "duration": 309,
    "start_time": "2024-09-22T15:01:44.298Z"
   },
   {
    "duration": 14,
    "start_time": "2024-09-22T15:01:44.609Z"
   },
   {
    "duration": 316,
    "start_time": "2024-09-22T15:01:44.625Z"
   },
   {
    "duration": 7,
    "start_time": "2024-09-22T15:01:44.943Z"
   },
   {
    "duration": 21,
    "start_time": "2024-09-22T15:01:44.952Z"
   },
   {
    "duration": 6,
    "start_time": "2024-09-22T15:01:44.975Z"
   },
   {
    "duration": 116,
    "start_time": "2024-09-22T15:01:44.983Z"
   },
   {
    "duration": 5,
    "start_time": "2024-09-22T15:01:45.103Z"
   },
   {
    "duration": 37,
    "start_time": "2024-09-22T15:01:45.109Z"
   },
   {
    "duration": 314,
    "start_time": "2024-09-22T15:01:45.148Z"
   },
   {
    "duration": 37,
    "start_time": "2024-09-22T15:01:45.465Z"
   },
   {
    "duration": 36,
    "start_time": "2024-09-22T15:01:45.504Z"
   },
   {
    "duration": 598,
    "start_time": "2024-09-22T15:01:45.542Z"
   },
   {
    "duration": 58,
    "start_time": "2024-09-22T15:01:46.142Z"
   },
   {
    "duration": 291,
    "start_time": "2024-09-22T15:01:46.202Z"
   },
   {
    "duration": 288,
    "start_time": "2024-09-22T15:01:46.495Z"
   },
   {
    "duration": 12,
    "start_time": "2024-09-22T15:01:46.785Z"
   },
   {
    "duration": 14,
    "start_time": "2024-09-22T15:01:46.798Z"
   },
   {
    "duration": 107,
    "start_time": "2024-09-22T15:01:46.814Z"
   },
   {
    "duration": 0,
    "start_time": "2024-09-22T15:01:46.923Z"
   },
   {
    "duration": 0,
    "start_time": "2024-09-22T15:01:46.924Z"
   },
   {
    "duration": 0,
    "start_time": "2024-09-22T15:01:46.925Z"
   },
   {
    "duration": 0,
    "start_time": "2024-09-22T15:01:46.926Z"
   },
   {
    "duration": 0,
    "start_time": "2024-09-22T15:01:46.927Z"
   },
   {
    "duration": 0,
    "start_time": "2024-09-22T15:01:46.928Z"
   },
   {
    "duration": 0,
    "start_time": "2024-09-22T15:01:46.929Z"
   },
   {
    "duration": 0,
    "start_time": "2024-09-22T15:01:46.930Z"
   },
   {
    "duration": 0,
    "start_time": "2024-09-22T15:01:46.932Z"
   },
   {
    "duration": 0,
    "start_time": "2024-09-22T15:01:46.933Z"
   },
   {
    "duration": 0,
    "start_time": "2024-09-22T15:01:46.934Z"
   },
   {
    "duration": 0,
    "start_time": "2024-09-22T15:01:46.935Z"
   },
   {
    "duration": 0,
    "start_time": "2024-09-22T15:01:46.936Z"
   },
   {
    "duration": 0,
    "start_time": "2024-09-22T15:01:46.937Z"
   },
   {
    "duration": 0,
    "start_time": "2024-09-22T15:01:46.939Z"
   },
   {
    "duration": 0,
    "start_time": "2024-09-22T15:01:46.965Z"
   },
   {
    "duration": 0,
    "start_time": "2024-09-22T15:01:46.966Z"
   },
   {
    "duration": 1161,
    "start_time": "2024-09-22T15:02:22.263Z"
   },
   {
    "duration": 57,
    "start_time": "2024-09-22T15:02:23.425Z"
   },
   {
    "duration": 18,
    "start_time": "2024-09-22T15:02:23.486Z"
   },
   {
    "duration": 3,
    "start_time": "2024-09-22T15:02:23.505Z"
   },
   {
    "duration": 15,
    "start_time": "2024-09-22T15:02:23.510Z"
   },
   {
    "duration": 51,
    "start_time": "2024-09-22T15:02:23.527Z"
   },
   {
    "duration": 8,
    "start_time": "2024-09-22T15:02:23.579Z"
   },
   {
    "duration": 27,
    "start_time": "2024-09-22T15:02:23.589Z"
   },
   {
    "duration": 3,
    "start_time": "2024-09-22T15:02:23.618Z"
   },
   {
    "duration": 6,
    "start_time": "2024-09-22T15:02:23.623Z"
   },
   {
    "duration": 10,
    "start_time": "2024-09-22T15:02:23.631Z"
   },
   {
    "duration": 43,
    "start_time": "2024-09-22T15:02:23.642Z"
   },
   {
    "duration": 18,
    "start_time": "2024-09-22T15:02:23.687Z"
   },
   {
    "duration": 24,
    "start_time": "2024-09-22T15:02:23.707Z"
   },
   {
    "duration": 149,
    "start_time": "2024-09-22T15:02:23.733Z"
   },
   {
    "duration": 10,
    "start_time": "2024-09-22T15:02:23.884Z"
   },
   {
    "duration": 17,
    "start_time": "2024-09-22T15:02:23.896Z"
   },
   {
    "duration": 12,
    "start_time": "2024-09-22T15:02:23.915Z"
   },
   {
    "duration": 37,
    "start_time": "2024-09-22T15:02:23.928Z"
   },
   {
    "duration": 416,
    "start_time": "2024-09-22T15:02:23.968Z"
   },
   {
    "duration": 322,
    "start_time": "2024-09-22T15:02:24.385Z"
   },
   {
    "duration": 11,
    "start_time": "2024-09-22T15:02:24.709Z"
   },
   {
    "duration": 291,
    "start_time": "2024-09-22T15:02:24.722Z"
   },
   {
    "duration": 7,
    "start_time": "2024-09-22T15:02:25.014Z"
   },
   {
    "duration": 46,
    "start_time": "2024-09-22T15:02:25.022Z"
   },
   {
    "duration": 6,
    "start_time": "2024-09-22T15:02:25.070Z"
   },
   {
    "duration": 18,
    "start_time": "2024-09-22T15:02:25.080Z"
   },
   {
    "duration": 4,
    "start_time": "2024-09-22T15:02:25.099Z"
   },
   {
    "duration": 30,
    "start_time": "2024-09-22T15:02:25.104Z"
   },
   {
    "duration": 289,
    "start_time": "2024-09-22T15:02:25.136Z"
   },
   {
    "duration": 22,
    "start_time": "2024-09-22T15:02:25.427Z"
   },
   {
    "duration": 33,
    "start_time": "2024-09-22T15:02:25.451Z"
   },
   {
    "duration": 535,
    "start_time": "2024-09-22T15:02:25.485Z"
   },
   {
    "duration": 30,
    "start_time": "2024-09-22T15:02:26.023Z"
   },
   {
    "duration": 319,
    "start_time": "2024-09-22T15:02:26.065Z"
   },
   {
    "duration": 297,
    "start_time": "2024-09-22T15:02:26.386Z"
   },
   {
    "duration": 13,
    "start_time": "2024-09-22T15:02:26.685Z"
   },
   {
    "duration": 4,
    "start_time": "2024-09-22T15:02:26.699Z"
   },
   {
    "duration": 127,
    "start_time": "2024-09-22T15:02:26.704Z"
   },
   {
    "duration": 0,
    "start_time": "2024-09-22T15:02:26.832Z"
   },
   {
    "duration": 0,
    "start_time": "2024-09-22T15:02:26.833Z"
   },
   {
    "duration": 0,
    "start_time": "2024-09-22T15:02:26.834Z"
   },
   {
    "duration": 0,
    "start_time": "2024-09-22T15:02:26.836Z"
   },
   {
    "duration": 0,
    "start_time": "2024-09-22T15:02:26.837Z"
   },
   {
    "duration": 0,
    "start_time": "2024-09-22T15:02:26.838Z"
   },
   {
    "duration": 0,
    "start_time": "2024-09-22T15:02:26.839Z"
   },
   {
    "duration": 0,
    "start_time": "2024-09-22T15:02:26.840Z"
   },
   {
    "duration": 0,
    "start_time": "2024-09-22T15:02:26.842Z"
   },
   {
    "duration": 0,
    "start_time": "2024-09-22T15:02:26.843Z"
   },
   {
    "duration": 0,
    "start_time": "2024-09-22T15:02:26.844Z"
   },
   {
    "duration": 0,
    "start_time": "2024-09-22T15:02:26.865Z"
   },
   {
    "duration": 0,
    "start_time": "2024-09-22T15:02:26.866Z"
   },
   {
    "duration": 0,
    "start_time": "2024-09-22T15:02:26.867Z"
   },
   {
    "duration": 0,
    "start_time": "2024-09-22T15:02:26.869Z"
   },
   {
    "duration": 0,
    "start_time": "2024-09-22T15:02:26.870Z"
   },
   {
    "duration": 0,
    "start_time": "2024-09-22T15:02:26.871Z"
   },
   {
    "duration": 17,
    "start_time": "2024-09-22T15:03:04.014Z"
   },
   {
    "duration": 348,
    "start_time": "2024-09-22T15:03:22.837Z"
   },
   {
    "duration": 52,
    "start_time": "2024-09-22T19:02:36.451Z"
   },
   {
    "duration": 1483,
    "start_time": "2024-09-22T19:02:52.549Z"
   },
   {
    "duration": 205,
    "start_time": "2024-09-22T19:02:54.036Z"
   },
   {
    "duration": 17,
    "start_time": "2024-09-22T19:02:54.243Z"
   },
   {
    "duration": 4,
    "start_time": "2024-09-22T19:02:54.262Z"
   },
   {
    "duration": 14,
    "start_time": "2024-09-22T19:02:54.267Z"
   },
   {
    "duration": 36,
    "start_time": "2024-09-22T19:02:54.283Z"
   },
   {
    "duration": 31,
    "start_time": "2024-09-22T19:02:54.321Z"
   },
   {
    "duration": 10,
    "start_time": "2024-09-22T19:02:54.354Z"
   },
   {
    "duration": 3,
    "start_time": "2024-09-22T19:02:54.365Z"
   },
   {
    "duration": 6,
    "start_time": "2024-09-22T19:02:54.371Z"
   },
   {
    "duration": 10,
    "start_time": "2024-09-22T19:02:54.378Z"
   },
   {
    "duration": 17,
    "start_time": "2024-09-22T19:02:54.389Z"
   },
   {
    "duration": 46,
    "start_time": "2024-09-22T19:02:54.408Z"
   },
   {
    "duration": 19,
    "start_time": "2024-09-22T19:02:54.456Z"
   },
   {
    "duration": 100,
    "start_time": "2024-09-22T19:02:54.477Z"
   },
   {
    "duration": 10,
    "start_time": "2024-09-22T19:02:54.580Z"
   },
   {
    "duration": 19,
    "start_time": "2024-09-22T19:02:54.592Z"
   },
   {
    "duration": 45,
    "start_time": "2024-09-22T19:02:54.613Z"
   },
   {
    "duration": 7,
    "start_time": "2024-09-22T19:02:54.660Z"
   },
   {
    "duration": 417,
    "start_time": "2024-09-22T19:02:54.669Z"
   },
   {
    "duration": 312,
    "start_time": "2024-09-22T19:02:55.088Z"
   },
   {
    "duration": 15,
    "start_time": "2024-09-22T19:02:55.402Z"
   },
   {
    "duration": 319,
    "start_time": "2024-09-22T19:02:55.418Z"
   },
   {
    "duration": 16,
    "start_time": "2024-09-22T19:02:55.739Z"
   },
   {
    "duration": 38,
    "start_time": "2024-09-22T19:02:55.757Z"
   },
   {
    "duration": 14,
    "start_time": "2024-09-22T19:02:55.797Z"
   },
   {
    "duration": 15,
    "start_time": "2024-09-22T19:02:55.812Z"
   },
   {
    "duration": 4,
    "start_time": "2024-09-22T19:02:55.831Z"
   },
   {
    "duration": 74,
    "start_time": "2024-09-22T19:02:55.837Z"
   },
   {
    "duration": 285,
    "start_time": "2024-09-22T19:02:55.913Z"
   },
   {
    "duration": 27,
    "start_time": "2024-09-22T19:02:56.200Z"
   },
   {
    "duration": 1207,
    "start_time": "2024-09-22T19:03:13.215Z"
   },
   {
    "duration": 58,
    "start_time": "2024-09-22T19:03:14.424Z"
   },
   {
    "duration": 18,
    "start_time": "2024-09-22T19:03:14.483Z"
   },
   {
    "duration": 3,
    "start_time": "2024-09-22T19:03:14.503Z"
   },
   {
    "duration": 32,
    "start_time": "2024-09-22T19:03:14.508Z"
   },
   {
    "duration": 46,
    "start_time": "2024-09-22T19:03:14.541Z"
   },
   {
    "duration": 8,
    "start_time": "2024-09-22T19:03:14.589Z"
   },
   {
    "duration": 11,
    "start_time": "2024-09-22T19:03:14.599Z"
   },
   {
    "duration": 3,
    "start_time": "2024-09-22T19:03:14.611Z"
   },
   {
    "duration": 6,
    "start_time": "2024-09-22T19:03:14.618Z"
   },
   {
    "duration": 30,
    "start_time": "2024-09-22T19:03:14.625Z"
   },
   {
    "duration": 17,
    "start_time": "2024-09-22T19:03:14.657Z"
   },
   {
    "duration": 11,
    "start_time": "2024-09-22T19:03:14.676Z"
   },
   {
    "duration": 18,
    "start_time": "2024-09-22T19:03:14.689Z"
   },
   {
    "duration": 124,
    "start_time": "2024-09-22T19:03:14.708Z"
   },
   {
    "duration": 24,
    "start_time": "2024-09-22T19:03:14.834Z"
   },
   {
    "duration": 17,
    "start_time": "2024-09-22T19:03:14.860Z"
   },
   {
    "duration": 12,
    "start_time": "2024-09-22T19:03:14.879Z"
   },
   {
    "duration": 9,
    "start_time": "2024-09-22T19:03:14.893Z"
   },
   {
    "duration": 399,
    "start_time": "2024-09-22T19:03:14.904Z"
   },
   {
    "duration": 309,
    "start_time": "2024-09-22T19:03:15.305Z"
   },
   {
    "duration": 13,
    "start_time": "2024-09-22T19:03:15.616Z"
   },
   {
    "duration": 312,
    "start_time": "2024-09-22T19:03:15.631Z"
   },
   {
    "duration": 11,
    "start_time": "2024-09-22T19:03:15.944Z"
   },
   {
    "duration": 11,
    "start_time": "2024-09-22T19:03:15.957Z"
   },
   {
    "duration": 7,
    "start_time": "2024-09-22T19:03:15.969Z"
   },
   {
    "duration": 15,
    "start_time": "2024-09-22T19:03:15.977Z"
   },
   {
    "duration": 3,
    "start_time": "2024-09-22T19:03:15.996Z"
   },
   {
    "duration": 15,
    "start_time": "2024-09-22T19:03:16.001Z"
   },
   {
    "duration": 336,
    "start_time": "2024-09-22T19:03:16.018Z"
   },
   {
    "duration": 26,
    "start_time": "2024-09-22T19:03:16.355Z"
   },
   {
    "duration": 22,
    "start_time": "2024-09-22T19:03:16.382Z"
   },
   {
    "duration": 533,
    "start_time": "2024-09-22T19:03:16.405Z"
   },
   {
    "duration": 39,
    "start_time": "2024-09-22T19:03:16.940Z"
   },
   {
    "duration": 296,
    "start_time": "2024-09-22T19:03:16.981Z"
   },
   {
    "duration": 317,
    "start_time": "2024-09-22T19:03:17.279Z"
   },
   {
    "duration": 13,
    "start_time": "2024-09-22T19:03:17.597Z"
   },
   {
    "duration": 14,
    "start_time": "2024-09-22T19:03:17.611Z"
   },
   {
    "duration": 115,
    "start_time": "2024-09-22T19:03:17.626Z"
   },
   {
    "duration": 0,
    "start_time": "2024-09-22T19:03:17.743Z"
   },
   {
    "duration": 0,
    "start_time": "2024-09-22T19:03:17.744Z"
   },
   {
    "duration": 0,
    "start_time": "2024-09-22T19:03:17.752Z"
   },
   {
    "duration": 0,
    "start_time": "2024-09-22T19:03:17.753Z"
   },
   {
    "duration": 0,
    "start_time": "2024-09-22T19:03:17.754Z"
   },
   {
    "duration": 0,
    "start_time": "2024-09-22T19:03:17.755Z"
   },
   {
    "duration": 0,
    "start_time": "2024-09-22T19:03:17.756Z"
   },
   {
    "duration": 0,
    "start_time": "2024-09-22T19:03:17.757Z"
   },
   {
    "duration": 0,
    "start_time": "2024-09-22T19:03:17.759Z"
   },
   {
    "duration": 0,
    "start_time": "2024-09-22T19:03:17.760Z"
   },
   {
    "duration": 0,
    "start_time": "2024-09-22T19:03:17.761Z"
   },
   {
    "duration": 0,
    "start_time": "2024-09-22T19:03:17.762Z"
   },
   {
    "duration": 0,
    "start_time": "2024-09-22T19:03:17.763Z"
   },
   {
    "duration": 0,
    "start_time": "2024-09-22T19:03:17.764Z"
   },
   {
    "duration": 0,
    "start_time": "2024-09-22T19:03:17.765Z"
   },
   {
    "duration": 0,
    "start_time": "2024-09-22T19:03:17.766Z"
   },
   {
    "duration": 0,
    "start_time": "2024-09-22T19:03:17.768Z"
   },
   {
    "duration": 0,
    "start_time": "2024-09-22T19:03:17.769Z"
   },
   {
    "duration": 0,
    "start_time": "2024-09-22T19:03:17.770Z"
   },
   {
    "duration": 18,
    "start_time": "2024-09-22T19:04:07.646Z"
   },
   {
    "duration": 339,
    "start_time": "2024-09-22T19:04:09.841Z"
   },
   {
    "duration": 352,
    "start_time": "2024-09-22T19:04:31.433Z"
   },
   {
    "duration": 21,
    "start_time": "2024-09-22T19:07:26.849Z"
   },
   {
    "duration": 386,
    "start_time": "2024-09-22T19:07:30.294Z"
   },
   {
    "duration": 322,
    "start_time": "2024-09-22T19:07:33.915Z"
   },
   {
    "duration": 164,
    "start_time": "2024-09-22T19:07:53.942Z"
   },
   {
    "duration": 16,
    "start_time": "2024-09-22T19:11:43.094Z"
   },
   {
    "duration": 344,
    "start_time": "2024-09-22T19:11:49.521Z"
   },
   {
    "duration": 12,
    "start_time": "2024-09-22T19:14:37.317Z"
   },
   {
    "duration": 12,
    "start_time": "2024-09-22T19:15:05.775Z"
   },
   {
    "duration": 17,
    "start_time": "2024-09-22T19:17:52.167Z"
   },
   {
    "duration": 13,
    "start_time": "2024-09-22T19:19:05.433Z"
   },
   {
    "duration": 12,
    "start_time": "2024-09-22T19:19:37.581Z"
   },
   {
    "duration": 2242,
    "start_time": "2024-09-22T19:20:29.195Z"
   },
   {
    "duration": 8,
    "start_time": "2024-09-22T19:30:51.804Z"
   },
   {
    "duration": 12,
    "start_time": "2024-09-22T19:31:03.422Z"
   },
   {
    "duration": 64,
    "start_time": "2024-09-22T19:36:44.661Z"
   },
   {
    "duration": 58,
    "start_time": "2024-09-22T19:39:57.239Z"
   },
   {
    "duration": 13,
    "start_time": "2024-09-22T19:40:51.235Z"
   },
   {
    "duration": 9,
    "start_time": "2024-09-22T19:40:56.221Z"
   },
   {
    "duration": 55,
    "start_time": "2024-09-22T19:45:18.995Z"
   },
   {
    "duration": 1192,
    "start_time": "2024-09-22T21:26:42.789Z"
   },
   {
    "duration": 59,
    "start_time": "2024-09-22T21:26:43.983Z"
   },
   {
    "duration": 20,
    "start_time": "2024-09-22T21:26:44.043Z"
   },
   {
    "duration": 4,
    "start_time": "2024-09-22T21:26:44.066Z"
   },
   {
    "duration": 26,
    "start_time": "2024-09-22T21:26:44.072Z"
   },
   {
    "duration": 34,
    "start_time": "2024-09-22T21:26:44.100Z"
   },
   {
    "duration": 8,
    "start_time": "2024-09-22T21:26:44.136Z"
   },
   {
    "duration": 11,
    "start_time": "2024-09-22T21:26:44.146Z"
   },
   {
    "duration": 3,
    "start_time": "2024-09-22T21:26:44.159Z"
   },
   {
    "duration": 5,
    "start_time": "2024-09-22T21:26:44.164Z"
   },
   {
    "duration": 32,
    "start_time": "2024-09-22T21:26:44.171Z"
   },
   {
    "duration": 17,
    "start_time": "2024-09-22T21:26:44.205Z"
   },
   {
    "duration": 13,
    "start_time": "2024-09-22T21:26:44.223Z"
   },
   {
    "duration": 17,
    "start_time": "2024-09-22T21:26:44.238Z"
   },
   {
    "duration": 115,
    "start_time": "2024-09-22T21:26:44.257Z"
   },
   {
    "duration": 9,
    "start_time": "2024-09-22T21:26:44.373Z"
   },
   {
    "duration": 17,
    "start_time": "2024-09-22T21:26:44.398Z"
   },
   {
    "duration": 11,
    "start_time": "2024-09-22T21:26:44.416Z"
   },
   {
    "duration": 6,
    "start_time": "2024-09-22T21:26:44.429Z"
   },
   {
    "duration": 431,
    "start_time": "2024-09-22T21:26:44.436Z"
   },
   {
    "duration": 299,
    "start_time": "2024-09-22T21:26:44.869Z"
   },
   {
    "duration": 13,
    "start_time": "2024-09-22T21:26:45.170Z"
   },
   {
    "duration": 315,
    "start_time": "2024-09-22T21:26:45.185Z"
   },
   {
    "duration": 7,
    "start_time": "2024-09-22T21:26:45.502Z"
   },
   {
    "duration": 68,
    "start_time": "2024-09-22T21:26:45.511Z"
   },
   {
    "duration": 8,
    "start_time": "2024-09-22T21:26:45.581Z"
   },
   {
    "duration": 16,
    "start_time": "2024-09-22T21:26:45.591Z"
   },
   {
    "duration": 4,
    "start_time": "2024-09-22T21:26:45.611Z"
   },
   {
    "duration": 16,
    "start_time": "2024-09-22T21:26:45.616Z"
   },
   {
    "duration": 321,
    "start_time": "2024-09-22T21:26:45.634Z"
   },
   {
    "duration": 26,
    "start_time": "2024-09-22T21:26:45.956Z"
   },
   {
    "duration": 37,
    "start_time": "2024-09-22T21:26:45.983Z"
   },
   {
    "duration": 531,
    "start_time": "2024-09-22T21:26:46.022Z"
   },
   {
    "duration": 43,
    "start_time": "2024-09-22T21:26:46.555Z"
   },
   {
    "duration": 300,
    "start_time": "2024-09-22T21:26:46.600Z"
   },
   {
    "duration": 287,
    "start_time": "2024-09-22T21:26:46.902Z"
   },
   {
    "duration": 14,
    "start_time": "2024-09-22T21:26:47.197Z"
   },
   {
    "duration": 13,
    "start_time": "2024-09-22T21:26:47.213Z"
   },
   {
    "duration": 2288,
    "start_time": "2024-09-22T21:26:47.227Z"
   },
   {
    "duration": 3,
    "start_time": "2024-09-22T21:26:49.518Z"
   },
   {
    "duration": 331,
    "start_time": "2024-09-22T21:26:49.522Z"
   },
   {
    "duration": 316,
    "start_time": "2024-09-22T21:26:49.854Z"
   },
   {
    "duration": 30,
    "start_time": "2024-09-22T21:26:50.172Z"
   },
   {
    "duration": 165,
    "start_time": "2024-09-22T21:26:50.203Z"
   },
   {
    "duration": 177,
    "start_time": "2024-09-22T21:26:50.370Z"
   },
   {
    "duration": 178,
    "start_time": "2024-09-22T21:26:50.549Z"
   },
   {
    "duration": 22,
    "start_time": "2024-09-22T21:26:50.729Z"
   },
   {
    "duration": 373,
    "start_time": "2024-09-22T21:26:50.753Z"
   },
   {
    "duration": 18,
    "start_time": "2024-09-22T21:26:51.128Z"
   },
   {
    "duration": 437,
    "start_time": "2024-09-22T21:26:51.148Z"
   },
   {
    "duration": 11,
    "start_time": "2024-09-22T21:26:51.587Z"
   },
   {
    "duration": 21,
    "start_time": "2024-09-22T21:26:51.600Z"
   },
   {
    "duration": 360,
    "start_time": "2024-09-22T21:26:51.623Z"
   },
   {
    "duration": 18,
    "start_time": "2024-09-22T21:26:51.985Z"
   },
   {
    "duration": 25,
    "start_time": "2024-09-22T21:26:52.004Z"
   },
   {
    "duration": 369,
    "start_time": "2024-09-22T21:26:52.031Z"
   },
   {
    "duration": 0,
    "start_time": "2024-09-22T21:26:52.402Z"
   },
   {
    "duration": 0,
    "start_time": "2024-09-22T21:26:52.403Z"
   },
   {
    "duration": 0,
    "start_time": "2024-09-22T21:26:52.404Z"
   },
   {
    "duration": 1184,
    "start_time": "2024-09-22T22:19:58.985Z"
   },
   {
    "duration": 59,
    "start_time": "2024-09-22T22:20:00.171Z"
   },
   {
    "duration": 17,
    "start_time": "2024-09-22T22:20:00.231Z"
   },
   {
    "duration": 4,
    "start_time": "2024-09-22T22:20:00.250Z"
   },
   {
    "duration": 20,
    "start_time": "2024-09-22T22:20:00.255Z"
   },
   {
    "duration": 46,
    "start_time": "2024-09-22T22:20:00.276Z"
   },
   {
    "duration": 14,
    "start_time": "2024-09-22T22:20:00.323Z"
   },
   {
    "duration": 25,
    "start_time": "2024-09-22T22:20:00.338Z"
   },
   {
    "duration": 7,
    "start_time": "2024-09-22T22:20:00.365Z"
   },
   {
    "duration": 6,
    "start_time": "2024-09-22T22:20:00.374Z"
   },
   {
    "duration": 12,
    "start_time": "2024-09-22T22:20:00.382Z"
   },
   {
    "duration": 32,
    "start_time": "2024-09-22T22:20:00.397Z"
   },
   {
    "duration": 18,
    "start_time": "2024-09-22T22:20:00.431Z"
   },
   {
    "duration": 16,
    "start_time": "2024-09-22T22:20:00.451Z"
   },
   {
    "duration": 81,
    "start_time": "2024-09-22T22:20:00.469Z"
   },
   {
    "duration": 9,
    "start_time": "2024-09-22T22:20:00.552Z"
   },
   {
    "duration": 36,
    "start_time": "2024-09-22T22:20:00.563Z"
   },
   {
    "duration": 11,
    "start_time": "2024-09-22T22:20:00.600Z"
   },
   {
    "duration": 7,
    "start_time": "2024-09-22T22:20:00.613Z"
   },
   {
    "duration": 399,
    "start_time": "2024-09-22T22:20:00.622Z"
   },
   {
    "duration": 311,
    "start_time": "2024-09-22T22:20:01.023Z"
   },
   {
    "duration": 12,
    "start_time": "2024-09-22T22:20:01.335Z"
   },
   {
    "duration": 319,
    "start_time": "2024-09-22T22:20:01.348Z"
   },
   {
    "duration": 8,
    "start_time": "2024-09-22T22:20:01.669Z"
   },
   {
    "duration": 26,
    "start_time": "2024-09-22T22:20:01.679Z"
   },
   {
    "duration": 14,
    "start_time": "2024-09-22T22:20:01.707Z"
   },
   {
    "duration": 21,
    "start_time": "2024-09-22T22:20:01.722Z"
   },
   {
    "duration": 4,
    "start_time": "2024-09-22T22:20:01.747Z"
   },
   {
    "duration": 19,
    "start_time": "2024-09-22T22:20:01.753Z"
   },
   {
    "duration": 319,
    "start_time": "2024-09-22T22:20:01.773Z"
   },
   {
    "duration": 27,
    "start_time": "2024-09-22T22:20:02.097Z"
   },
   {
    "duration": 24,
    "start_time": "2024-09-22T22:20:02.125Z"
   },
   {
    "duration": 550,
    "start_time": "2024-09-22T22:20:02.150Z"
   },
   {
    "duration": 31,
    "start_time": "2024-09-22T22:20:02.702Z"
   },
   {
    "duration": 297,
    "start_time": "2024-09-22T22:20:02.735Z"
   },
   {
    "duration": 303,
    "start_time": "2024-09-22T22:20:03.034Z"
   },
   {
    "duration": 12,
    "start_time": "2024-09-22T22:20:03.339Z"
   },
   {
    "duration": 13,
    "start_time": "2024-09-22T22:20:03.353Z"
   },
   {
    "duration": 2305,
    "start_time": "2024-09-22T22:20:03.367Z"
   },
   {
    "duration": 3,
    "start_time": "2024-09-22T22:20:05.674Z"
   },
   {
    "duration": 366,
    "start_time": "2024-09-22T22:20:05.679Z"
   },
   {
    "duration": 317,
    "start_time": "2024-09-22T22:20:06.047Z"
   },
   {
    "duration": 33,
    "start_time": "2024-09-22T22:20:06.366Z"
   },
   {
    "duration": 167,
    "start_time": "2024-09-22T22:20:06.401Z"
   },
   {
    "duration": 170,
    "start_time": "2024-09-22T22:20:06.570Z"
   },
   {
    "duration": 173,
    "start_time": "2024-09-22T22:20:06.741Z"
   },
   {
    "duration": 17,
    "start_time": "2024-09-22T22:20:06.916Z"
   },
   {
    "duration": 348,
    "start_time": "2024-09-22T22:20:06.935Z"
   },
   {
    "duration": 29,
    "start_time": "2024-09-22T22:20:07.285Z"
   },
   {
    "duration": 465,
    "start_time": "2024-09-22T22:20:07.315Z"
   },
   {
    "duration": 4,
    "start_time": "2024-09-22T22:20:07.781Z"
   },
   {
    "duration": 40,
    "start_time": "2024-09-22T22:20:07.798Z"
   },
   {
    "duration": 350,
    "start_time": "2024-09-22T22:20:07.840Z"
   },
   {
    "duration": 13,
    "start_time": "2024-09-22T22:20:08.192Z"
   },
   {
    "duration": 19,
    "start_time": "2024-09-22T22:20:08.206Z"
   },
   {
    "duration": 399,
    "start_time": "2024-09-22T22:20:08.227Z"
   },
   {
    "duration": 0,
    "start_time": "2024-09-22T22:20:08.628Z"
   },
   {
    "duration": 0,
    "start_time": "2024-09-22T22:20:08.628Z"
   },
   {
    "duration": 0,
    "start_time": "2024-09-22T22:20:08.629Z"
   },
   {
    "duration": 49,
    "start_time": "2024-09-23T18:45:42.485Z"
   },
   {
    "duration": 6,
    "start_time": "2024-09-23T18:45:57.908Z"
   },
   {
    "duration": 6,
    "start_time": "2024-09-23T18:46:00.809Z"
   },
   {
    "duration": 1314,
    "start_time": "2024-09-23T18:46:08.151Z"
   },
   {
    "duration": 184,
    "start_time": "2024-09-23T18:46:09.467Z"
   },
   {
    "duration": 17,
    "start_time": "2024-09-23T18:46:09.653Z"
   },
   {
    "duration": 3,
    "start_time": "2024-09-23T18:46:09.673Z"
   },
   {
    "duration": 17,
    "start_time": "2024-09-23T18:46:09.678Z"
   },
   {
    "duration": 28,
    "start_time": "2024-09-23T18:46:09.697Z"
   },
   {
    "duration": 8,
    "start_time": "2024-09-23T18:46:09.753Z"
   },
   {
    "duration": 10,
    "start_time": "2024-09-23T18:46:09.762Z"
   },
   {
    "duration": 3,
    "start_time": "2024-09-23T18:46:09.774Z"
   },
   {
    "duration": 17,
    "start_time": "2024-09-23T18:46:09.780Z"
   },
   {
    "duration": 17,
    "start_time": "2024-09-23T18:46:09.799Z"
   },
   {
    "duration": 17,
    "start_time": "2024-09-23T18:46:09.817Z"
   },
   {
    "duration": 26,
    "start_time": "2024-09-23T18:46:09.836Z"
   },
   {
    "duration": 19,
    "start_time": "2024-09-23T18:46:09.864Z"
   },
   {
    "duration": 103,
    "start_time": "2024-09-23T18:46:09.885Z"
   },
   {
    "duration": 8,
    "start_time": "2024-09-23T18:46:09.990Z"
   },
   {
    "duration": 15,
    "start_time": "2024-09-23T18:46:10.000Z"
   },
   {
    "duration": 10,
    "start_time": "2024-09-23T18:46:10.017Z"
   },
   {
    "duration": 7,
    "start_time": "2024-09-23T18:46:10.053Z"
   },
   {
    "duration": 8,
    "start_time": "2024-09-23T18:46:10.061Z"
   },
   {
    "duration": 409,
    "start_time": "2024-09-23T18:46:10.070Z"
   },
   {
    "duration": 296,
    "start_time": "2024-09-23T18:46:10.480Z"
   },
   {
    "duration": 12,
    "start_time": "2024-09-23T18:46:10.777Z"
   },
   {
    "duration": 319,
    "start_time": "2024-09-23T18:46:10.790Z"
   },
   {
    "duration": 8,
    "start_time": "2024-09-23T18:46:11.111Z"
   },
   {
    "duration": 21,
    "start_time": "2024-09-23T18:46:11.120Z"
   },
   {
    "duration": 10,
    "start_time": "2024-09-23T18:46:11.143Z"
   },
   {
    "duration": 15,
    "start_time": "2024-09-23T18:46:11.157Z"
   },
   {
    "duration": 7,
    "start_time": "2024-09-23T18:46:11.173Z"
   },
   {
    "duration": 13,
    "start_time": "2024-09-23T18:46:11.182Z"
   },
   {
    "duration": 302,
    "start_time": "2024-09-23T18:46:11.197Z"
   },
   {
    "duration": 24,
    "start_time": "2024-09-23T18:46:11.500Z"
   },
   {
    "duration": 35,
    "start_time": "2024-09-23T18:46:11.525Z"
   },
   {
    "duration": 488,
    "start_time": "2024-09-23T18:46:11.562Z"
   },
   {
    "duration": 32,
    "start_time": "2024-09-23T18:46:12.052Z"
   },
   {
    "duration": 301,
    "start_time": "2024-09-23T18:46:12.085Z"
   },
   {
    "duration": 284,
    "start_time": "2024-09-23T18:46:12.388Z"
   },
   {
    "duration": 11,
    "start_time": "2024-09-23T18:46:12.674Z"
   },
   {
    "duration": 93,
    "start_time": "2024-09-23T18:46:12.687Z"
   },
   {
    "duration": 2278,
    "start_time": "2024-09-23T18:46:12.782Z"
   },
   {
    "duration": 3,
    "start_time": "2024-09-23T18:46:15.062Z"
   },
   {
    "duration": 310,
    "start_time": "2024-09-23T18:46:15.066Z"
   },
   {
    "duration": 300,
    "start_time": "2024-09-23T18:46:15.377Z"
   },
   {
    "duration": 22,
    "start_time": "2024-09-23T18:46:15.678Z"
   },
   {
    "duration": 165,
    "start_time": "2024-09-23T18:46:15.701Z"
   },
   {
    "duration": 194,
    "start_time": "2024-09-23T18:46:15.867Z"
   },
   {
    "duration": 173,
    "start_time": "2024-09-23T18:46:16.063Z"
   },
   {
    "duration": 24,
    "start_time": "2024-09-23T18:46:16.238Z"
   },
   {
    "duration": 325,
    "start_time": "2024-09-23T18:46:16.263Z"
   },
   {
    "duration": 17,
    "start_time": "2024-09-23T18:46:16.589Z"
   },
   {
    "duration": 392,
    "start_time": "2024-09-23T18:46:16.608Z"
   },
   {
    "duration": 3,
    "start_time": "2024-09-23T18:46:17.001Z"
   },
   {
    "duration": 21,
    "start_time": "2024-09-23T18:46:17.006Z"
   },
   {
    "duration": 385,
    "start_time": "2024-09-23T18:46:17.028Z"
   },
   {
    "duration": 8,
    "start_time": "2024-09-23T18:46:17.415Z"
   },
   {
    "duration": 29,
    "start_time": "2024-09-23T18:46:17.424Z"
   },
   {
    "duration": 330,
    "start_time": "2024-09-23T18:46:17.454Z"
   },
   {
    "duration": 0,
    "start_time": "2024-09-23T18:46:17.786Z"
   },
   {
    "duration": 0,
    "start_time": "2024-09-23T18:46:17.787Z"
   },
   {
    "duration": 0,
    "start_time": "2024-09-23T18:46:17.788Z"
   },
   {
    "duration": 9,
    "start_time": "2024-09-23T18:47:23.625Z"
   },
   {
    "duration": 8,
    "start_time": "2024-09-23T18:48:16.029Z"
   },
   {
    "duration": 11,
    "start_time": "2024-09-23T18:49:55.355Z"
   },
   {
    "duration": 18,
    "start_time": "2024-09-23T18:54:04.068Z"
   },
   {
    "duration": 57,
    "start_time": "2024-09-23T20:19:20.635Z"
   },
   {
    "duration": 279,
    "start_time": "2024-09-23T20:21:06.133Z"
   },
   {
    "duration": 330,
    "start_time": "2024-09-23T20:27:33.741Z"
   },
   {
    "duration": 1128,
    "start_time": "2024-09-23T20:49:44.439Z"
   },
   {
    "duration": 56,
    "start_time": "2024-09-23T20:49:45.569Z"
   },
   {
    "duration": 17,
    "start_time": "2024-09-23T20:49:45.626Z"
   },
   {
    "duration": 4,
    "start_time": "2024-09-23T20:49:45.645Z"
   },
   {
    "duration": 17,
    "start_time": "2024-09-23T20:49:45.650Z"
   },
   {
    "duration": 27,
    "start_time": "2024-09-23T20:49:45.668Z"
   },
   {
    "duration": 8,
    "start_time": "2024-09-23T20:49:45.697Z"
   },
   {
    "duration": 17,
    "start_time": "2024-09-23T20:49:45.706Z"
   },
   {
    "duration": 2,
    "start_time": "2024-09-23T20:49:45.725Z"
   },
   {
    "duration": 26,
    "start_time": "2024-09-23T20:49:45.730Z"
   },
   {
    "duration": 9,
    "start_time": "2024-09-23T20:49:45.758Z"
   },
   {
    "duration": 17,
    "start_time": "2024-09-23T20:49:45.768Z"
   },
   {
    "duration": 10,
    "start_time": "2024-09-23T20:49:45.787Z"
   },
   {
    "duration": 25,
    "start_time": "2024-09-23T20:49:45.799Z"
   },
   {
    "duration": 78,
    "start_time": "2024-09-23T20:49:45.854Z"
   },
   {
    "duration": 23,
    "start_time": "2024-09-23T20:49:45.933Z"
   },
   {
    "duration": 16,
    "start_time": "2024-09-23T20:49:45.958Z"
   },
   {
    "duration": 10,
    "start_time": "2024-09-23T20:49:45.976Z"
   },
   {
    "duration": 6,
    "start_time": "2024-09-23T20:49:45.987Z"
   },
   {
    "duration": 20,
    "start_time": "2024-09-23T20:49:45.995Z"
   },
   {
    "duration": 53,
    "start_time": "2024-09-23T20:49:46.016Z"
   },
   {
    "duration": 0,
    "start_time": "2024-09-23T20:49:46.071Z"
   },
   {
    "duration": 0,
    "start_time": "2024-09-23T20:49:46.072Z"
   },
   {
    "duration": 0,
    "start_time": "2024-09-23T20:49:46.073Z"
   },
   {
    "duration": 0,
    "start_time": "2024-09-23T20:49:46.074Z"
   },
   {
    "duration": 0,
    "start_time": "2024-09-23T20:49:46.075Z"
   },
   {
    "duration": 0,
    "start_time": "2024-09-23T20:49:46.076Z"
   },
   {
    "duration": 0,
    "start_time": "2024-09-23T20:49:46.077Z"
   },
   {
    "duration": 0,
    "start_time": "2024-09-23T20:49:46.078Z"
   },
   {
    "duration": 0,
    "start_time": "2024-09-23T20:49:46.079Z"
   },
   {
    "duration": 0,
    "start_time": "2024-09-23T20:49:46.080Z"
   },
   {
    "duration": 0,
    "start_time": "2024-09-23T20:49:46.081Z"
   },
   {
    "duration": 0,
    "start_time": "2024-09-23T20:49:46.082Z"
   },
   {
    "duration": 0,
    "start_time": "2024-09-23T20:49:46.083Z"
   },
   {
    "duration": 0,
    "start_time": "2024-09-23T20:49:46.084Z"
   },
   {
    "duration": 0,
    "start_time": "2024-09-23T20:49:46.085Z"
   },
   {
    "duration": 0,
    "start_time": "2024-09-23T20:49:46.086Z"
   },
   {
    "duration": 0,
    "start_time": "2024-09-23T20:49:46.087Z"
   },
   {
    "duration": 0,
    "start_time": "2024-09-23T20:49:46.088Z"
   },
   {
    "duration": 0,
    "start_time": "2024-09-23T20:49:46.088Z"
   },
   {
    "duration": 0,
    "start_time": "2024-09-23T20:49:46.089Z"
   },
   {
    "duration": 0,
    "start_time": "2024-09-23T20:49:46.090Z"
   },
   {
    "duration": 0,
    "start_time": "2024-09-23T20:49:46.091Z"
   },
   {
    "duration": 0,
    "start_time": "2024-09-23T20:49:46.092Z"
   },
   {
    "duration": 0,
    "start_time": "2024-09-23T20:49:46.093Z"
   },
   {
    "duration": 0,
    "start_time": "2024-09-23T20:49:46.094Z"
   },
   {
    "duration": 0,
    "start_time": "2024-09-23T20:49:46.095Z"
   },
   {
    "duration": 0,
    "start_time": "2024-09-23T20:49:46.096Z"
   },
   {
    "duration": 0,
    "start_time": "2024-09-23T20:49:46.097Z"
   },
   {
    "duration": 0,
    "start_time": "2024-09-23T20:49:46.098Z"
   },
   {
    "duration": 0,
    "start_time": "2024-09-23T20:49:46.099Z"
   },
   {
    "duration": 0,
    "start_time": "2024-09-23T20:49:46.100Z"
   },
   {
    "duration": 0,
    "start_time": "2024-09-23T20:49:46.101Z"
   },
   {
    "duration": 0,
    "start_time": "2024-09-23T20:49:46.102Z"
   },
   {
    "duration": 0,
    "start_time": "2024-09-23T20:49:46.102Z"
   },
   {
    "duration": 0,
    "start_time": "2024-09-23T20:49:46.103Z"
   },
   {
    "duration": 0,
    "start_time": "2024-09-23T20:49:46.104Z"
   },
   {
    "duration": 0,
    "start_time": "2024-09-23T20:49:46.105Z"
   },
   {
    "duration": 0,
    "start_time": "2024-09-23T20:49:46.106Z"
   },
   {
    "duration": 0,
    "start_time": "2024-09-23T20:49:46.153Z"
   },
   {
    "duration": 1091,
    "start_time": "2024-09-23T20:51:45.581Z"
   },
   {
    "duration": 54,
    "start_time": "2024-09-23T20:51:46.674Z"
   },
   {
    "duration": 15,
    "start_time": "2024-09-23T20:51:46.730Z"
   },
   {
    "duration": 3,
    "start_time": "2024-09-23T20:51:46.747Z"
   },
   {
    "duration": 16,
    "start_time": "2024-09-23T20:51:46.752Z"
   },
   {
    "duration": 26,
    "start_time": "2024-09-23T20:51:46.769Z"
   },
   {
    "duration": 7,
    "start_time": "2024-09-23T20:51:46.797Z"
   },
   {
    "duration": 12,
    "start_time": "2024-09-23T20:51:46.805Z"
   },
   {
    "duration": 3,
    "start_time": "2024-09-23T20:51:46.818Z"
   },
   {
    "duration": 4,
    "start_time": "2024-09-23T20:51:46.824Z"
   },
   {
    "duration": 30,
    "start_time": "2024-09-23T20:51:46.830Z"
   },
   {
    "duration": 15,
    "start_time": "2024-09-23T20:51:46.862Z"
   },
   {
    "duration": 10,
    "start_time": "2024-09-23T20:51:46.879Z"
   },
   {
    "duration": 15,
    "start_time": "2024-09-23T20:51:46.890Z"
   },
   {
    "duration": 103,
    "start_time": "2024-09-23T20:51:46.906Z"
   },
   {
    "duration": 9,
    "start_time": "2024-09-23T20:51:47.010Z"
   },
   {
    "duration": 34,
    "start_time": "2024-09-23T20:51:47.020Z"
   },
   {
    "duration": 10,
    "start_time": "2024-09-23T20:51:47.055Z"
   },
   {
    "duration": 8,
    "start_time": "2024-09-23T20:51:47.066Z"
   },
   {
    "duration": 17,
    "start_time": "2024-09-23T20:51:47.075Z"
   },
   {
    "duration": 60,
    "start_time": "2024-09-23T20:51:47.094Z"
   },
   {
    "duration": 0,
    "start_time": "2024-09-23T20:51:47.157Z"
   },
   {
    "duration": 0,
    "start_time": "2024-09-23T20:51:47.158Z"
   },
   {
    "duration": 0,
    "start_time": "2024-09-23T20:51:47.159Z"
   },
   {
    "duration": 0,
    "start_time": "2024-09-23T20:51:47.161Z"
   },
   {
    "duration": 0,
    "start_time": "2024-09-23T20:51:47.162Z"
   },
   {
    "duration": 0,
    "start_time": "2024-09-23T20:51:47.163Z"
   },
   {
    "duration": 0,
    "start_time": "2024-09-23T20:51:47.164Z"
   },
   {
    "duration": 0,
    "start_time": "2024-09-23T20:51:47.165Z"
   },
   {
    "duration": 0,
    "start_time": "2024-09-23T20:51:47.166Z"
   },
   {
    "duration": 0,
    "start_time": "2024-09-23T20:51:47.168Z"
   },
   {
    "duration": 0,
    "start_time": "2024-09-23T20:51:47.169Z"
   },
   {
    "duration": 0,
    "start_time": "2024-09-23T20:51:47.170Z"
   },
   {
    "duration": 0,
    "start_time": "2024-09-23T20:51:47.171Z"
   },
   {
    "duration": 0,
    "start_time": "2024-09-23T20:51:47.172Z"
   },
   {
    "duration": 0,
    "start_time": "2024-09-23T20:51:47.173Z"
   },
   {
    "duration": 0,
    "start_time": "2024-09-23T20:51:47.174Z"
   },
   {
    "duration": 0,
    "start_time": "2024-09-23T20:51:47.175Z"
   },
   {
    "duration": 1,
    "start_time": "2024-09-23T20:51:47.176Z"
   },
   {
    "duration": 0,
    "start_time": "2024-09-23T20:51:47.177Z"
   },
   {
    "duration": 0,
    "start_time": "2024-09-23T20:51:47.179Z"
   },
   {
    "duration": 0,
    "start_time": "2024-09-23T20:51:47.180Z"
   },
   {
    "duration": 0,
    "start_time": "2024-09-23T20:51:47.181Z"
   },
   {
    "duration": 0,
    "start_time": "2024-09-23T20:51:47.182Z"
   },
   {
    "duration": 0,
    "start_time": "2024-09-23T20:51:47.183Z"
   },
   {
    "duration": 0,
    "start_time": "2024-09-23T20:51:47.184Z"
   },
   {
    "duration": 0,
    "start_time": "2024-09-23T20:51:47.185Z"
   },
   {
    "duration": 0,
    "start_time": "2024-09-23T20:51:47.186Z"
   },
   {
    "duration": 0,
    "start_time": "2024-09-23T20:51:47.187Z"
   },
   {
    "duration": 0,
    "start_time": "2024-09-23T20:51:47.188Z"
   },
   {
    "duration": 0,
    "start_time": "2024-09-23T20:51:47.189Z"
   },
   {
    "duration": 0,
    "start_time": "2024-09-23T20:51:47.190Z"
   },
   {
    "duration": 0,
    "start_time": "2024-09-23T20:51:47.191Z"
   },
   {
    "duration": 0,
    "start_time": "2024-09-23T20:51:47.193Z"
   },
   {
    "duration": 0,
    "start_time": "2024-09-23T20:51:47.194Z"
   },
   {
    "duration": 0,
    "start_time": "2024-09-23T20:51:47.253Z"
   },
   {
    "duration": 0,
    "start_time": "2024-09-23T20:51:47.255Z"
   },
   {
    "duration": 0,
    "start_time": "2024-09-23T20:51:47.256Z"
   },
   {
    "duration": 0,
    "start_time": "2024-09-23T20:51:47.258Z"
   },
   {
    "duration": 0,
    "start_time": "2024-09-23T20:51:47.259Z"
   },
   {
    "duration": 342,
    "start_time": "2024-09-23T20:54:42.075Z"
   },
   {
    "duration": 11,
    "start_time": "2024-09-23T20:55:40.467Z"
   },
   {
    "duration": 1168,
    "start_time": "2024-09-23T20:55:55.746Z"
   },
   {
    "duration": 55,
    "start_time": "2024-09-23T20:55:56.916Z"
   },
   {
    "duration": 18,
    "start_time": "2024-09-23T20:55:56.972Z"
   },
   {
    "duration": 30,
    "start_time": "2024-09-23T20:55:56.993Z"
   },
   {
    "duration": 24,
    "start_time": "2024-09-23T20:55:57.025Z"
   },
   {
    "duration": 30,
    "start_time": "2024-09-23T20:55:57.051Z"
   },
   {
    "duration": 8,
    "start_time": "2024-09-23T20:55:57.083Z"
   },
   {
    "duration": 15,
    "start_time": "2024-09-23T20:55:57.092Z"
   },
   {
    "duration": 5,
    "start_time": "2024-09-23T20:55:57.108Z"
   },
   {
    "duration": 18,
    "start_time": "2024-09-23T20:55:57.116Z"
   },
   {
    "duration": 18,
    "start_time": "2024-09-23T20:55:57.136Z"
   },
   {
    "duration": 52,
    "start_time": "2024-09-23T20:55:57.156Z"
   },
   {
    "duration": 13,
    "start_time": "2024-09-23T20:55:57.210Z"
   },
   {
    "duration": 32,
    "start_time": "2024-09-23T20:55:57.226Z"
   },
   {
    "duration": 80,
    "start_time": "2024-09-23T20:55:57.260Z"
   },
   {
    "duration": 18,
    "start_time": "2024-09-23T20:55:57.342Z"
   },
   {
    "duration": 40,
    "start_time": "2024-09-23T20:55:57.362Z"
   },
   {
    "duration": 12,
    "start_time": "2024-09-23T20:55:57.404Z"
   },
   {
    "duration": 9,
    "start_time": "2024-09-23T20:55:57.418Z"
   },
   {
    "duration": 32,
    "start_time": "2024-09-23T20:55:57.428Z"
   },
   {
    "duration": 52,
    "start_time": "2024-09-23T20:55:57.462Z"
   },
   {
    "duration": 0,
    "start_time": "2024-09-23T20:55:57.516Z"
   },
   {
    "duration": 0,
    "start_time": "2024-09-23T20:55:57.517Z"
   },
   {
    "duration": 0,
    "start_time": "2024-09-23T20:55:57.518Z"
   },
   {
    "duration": 0,
    "start_time": "2024-09-23T20:55:57.519Z"
   },
   {
    "duration": 0,
    "start_time": "2024-09-23T20:55:57.520Z"
   },
   {
    "duration": 0,
    "start_time": "2024-09-23T20:55:57.521Z"
   },
   {
    "duration": 0,
    "start_time": "2024-09-23T20:55:57.522Z"
   },
   {
    "duration": 0,
    "start_time": "2024-09-23T20:55:57.523Z"
   },
   {
    "duration": 0,
    "start_time": "2024-09-23T20:55:57.524Z"
   },
   {
    "duration": 0,
    "start_time": "2024-09-23T20:55:57.525Z"
   },
   {
    "duration": 0,
    "start_time": "2024-09-23T20:55:57.526Z"
   },
   {
    "duration": 0,
    "start_time": "2024-09-23T20:55:57.527Z"
   },
   {
    "duration": 0,
    "start_time": "2024-09-23T20:55:57.528Z"
   },
   {
    "duration": 0,
    "start_time": "2024-09-23T20:55:57.530Z"
   },
   {
    "duration": 0,
    "start_time": "2024-09-23T20:55:57.531Z"
   },
   {
    "duration": 0,
    "start_time": "2024-09-23T20:55:57.532Z"
   },
   {
    "duration": 0,
    "start_time": "2024-09-23T20:55:57.533Z"
   },
   {
    "duration": 0,
    "start_time": "2024-09-23T20:55:57.534Z"
   },
   {
    "duration": 0,
    "start_time": "2024-09-23T20:55:57.535Z"
   },
   {
    "duration": 0,
    "start_time": "2024-09-23T20:55:57.536Z"
   },
   {
    "duration": 0,
    "start_time": "2024-09-23T20:55:57.536Z"
   },
   {
    "duration": 0,
    "start_time": "2024-09-23T20:55:57.537Z"
   },
   {
    "duration": 0,
    "start_time": "2024-09-23T20:55:57.539Z"
   },
   {
    "duration": 0,
    "start_time": "2024-09-23T20:55:57.539Z"
   },
   {
    "duration": 0,
    "start_time": "2024-09-23T20:55:57.540Z"
   },
   {
    "duration": 0,
    "start_time": "2024-09-23T20:55:57.541Z"
   },
   {
    "duration": 0,
    "start_time": "2024-09-23T20:55:57.543Z"
   },
   {
    "duration": 0,
    "start_time": "2024-09-23T20:55:57.543Z"
   },
   {
    "duration": 0,
    "start_time": "2024-09-23T20:55:57.544Z"
   },
   {
    "duration": 0,
    "start_time": "2024-09-23T20:55:57.545Z"
   },
   {
    "duration": 0,
    "start_time": "2024-09-23T20:55:57.545Z"
   },
   {
    "duration": 0,
    "start_time": "2024-09-23T20:55:57.552Z"
   },
   {
    "duration": 0,
    "start_time": "2024-09-23T20:55:57.553Z"
   },
   {
    "duration": 0,
    "start_time": "2024-09-23T20:55:57.554Z"
   },
   {
    "duration": 0,
    "start_time": "2024-09-23T20:55:57.555Z"
   },
   {
    "duration": 0,
    "start_time": "2024-09-23T20:55:57.556Z"
   },
   {
    "duration": 0,
    "start_time": "2024-09-23T20:55:57.557Z"
   },
   {
    "duration": 0,
    "start_time": "2024-09-23T20:55:57.558Z"
   },
   {
    "duration": 0,
    "start_time": "2024-09-23T20:55:57.559Z"
   },
   {
    "duration": 17,
    "start_time": "2024-09-23T20:56:59.041Z"
   },
   {
    "duration": 362,
    "start_time": "2024-09-23T20:57:00.776Z"
   },
   {
    "duration": 322,
    "start_time": "2024-09-23T21:02:28.925Z"
   },
   {
    "duration": 1065,
    "start_time": "2024-09-24T00:41:40.152Z"
   },
   {
    "duration": 56,
    "start_time": "2024-09-24T00:41:41.218Z"
   },
   {
    "duration": 18,
    "start_time": "2024-09-24T00:41:41.275Z"
   },
   {
    "duration": 3,
    "start_time": "2024-09-24T00:41:41.295Z"
   },
   {
    "duration": 12,
    "start_time": "2024-09-24T00:41:41.300Z"
   },
   {
    "duration": 25,
    "start_time": "2024-09-24T00:41:41.313Z"
   },
   {
    "duration": 7,
    "start_time": "2024-09-24T00:41:41.340Z"
   },
   {
    "duration": 10,
    "start_time": "2024-09-24T00:41:41.348Z"
   },
   {
    "duration": 31,
    "start_time": "2024-09-24T00:41:41.359Z"
   },
   {
    "duration": 9,
    "start_time": "2024-09-24T00:41:41.393Z"
   },
   {
    "duration": 9,
    "start_time": "2024-09-24T00:41:41.403Z"
   },
   {
    "duration": 66,
    "start_time": "2024-09-24T00:41:41.413Z"
   },
   {
    "duration": 11,
    "start_time": "2024-09-24T00:41:41.480Z"
   },
   {
    "duration": 14,
    "start_time": "2024-09-24T00:41:41.493Z"
   },
   {
    "duration": 86,
    "start_time": "2024-09-24T00:41:41.509Z"
   },
   {
    "duration": 8,
    "start_time": "2024-09-24T00:41:41.596Z"
   },
   {
    "duration": 14,
    "start_time": "2024-09-24T00:41:41.605Z"
   },
   {
    "duration": 9,
    "start_time": "2024-09-24T00:41:41.620Z"
   },
   {
    "duration": 9,
    "start_time": "2024-09-24T00:41:41.630Z"
   },
   {
    "duration": 10,
    "start_time": "2024-09-24T00:41:41.640Z"
   },
   {
    "duration": 64,
    "start_time": "2024-09-24T00:41:41.652Z"
   },
   {
    "duration": 0,
    "start_time": "2024-09-24T00:41:41.718Z"
   },
   {
    "duration": 0,
    "start_time": "2024-09-24T00:41:41.720Z"
   },
   {
    "duration": 0,
    "start_time": "2024-09-24T00:41:41.721Z"
   },
   {
    "duration": 0,
    "start_time": "2024-09-24T00:41:41.722Z"
   },
   {
    "duration": 0,
    "start_time": "2024-09-24T00:41:41.722Z"
   },
   {
    "duration": 0,
    "start_time": "2024-09-24T00:41:41.723Z"
   },
   {
    "duration": 0,
    "start_time": "2024-09-24T00:41:41.724Z"
   },
   {
    "duration": 0,
    "start_time": "2024-09-24T00:41:41.725Z"
   },
   {
    "duration": 0,
    "start_time": "2024-09-24T00:41:41.726Z"
   },
   {
    "duration": 0,
    "start_time": "2024-09-24T00:41:41.727Z"
   },
   {
    "duration": 0,
    "start_time": "2024-09-24T00:41:41.727Z"
   },
   {
    "duration": 0,
    "start_time": "2024-09-24T00:41:41.728Z"
   },
   {
    "duration": 0,
    "start_time": "2024-09-24T00:41:41.729Z"
   },
   {
    "duration": 0,
    "start_time": "2024-09-24T00:41:41.730Z"
   },
   {
    "duration": 0,
    "start_time": "2024-09-24T00:41:41.731Z"
   },
   {
    "duration": 1,
    "start_time": "2024-09-24T00:41:41.731Z"
   },
   {
    "duration": 0,
    "start_time": "2024-09-24T00:41:41.733Z"
   },
   {
    "duration": 0,
    "start_time": "2024-09-24T00:41:41.733Z"
   },
   {
    "duration": 0,
    "start_time": "2024-09-24T00:41:41.734Z"
   },
   {
    "duration": 0,
    "start_time": "2024-09-24T00:41:41.735Z"
   },
   {
    "duration": 0,
    "start_time": "2024-09-24T00:41:41.736Z"
   },
   {
    "duration": 0,
    "start_time": "2024-09-24T00:41:41.737Z"
   },
   {
    "duration": 0,
    "start_time": "2024-09-24T00:41:41.737Z"
   },
   {
    "duration": 0,
    "start_time": "2024-09-24T00:41:41.738Z"
   },
   {
    "duration": 0,
    "start_time": "2024-09-24T00:41:41.739Z"
   },
   {
    "duration": 0,
    "start_time": "2024-09-24T00:41:41.740Z"
   },
   {
    "duration": 0,
    "start_time": "2024-09-24T00:41:41.741Z"
   },
   {
    "duration": 0,
    "start_time": "2024-09-24T00:41:41.742Z"
   },
   {
    "duration": 0,
    "start_time": "2024-09-24T00:41:41.743Z"
   },
   {
    "duration": 0,
    "start_time": "2024-09-24T00:41:41.744Z"
   },
   {
    "duration": 0,
    "start_time": "2024-09-24T00:41:41.745Z"
   },
   {
    "duration": 0,
    "start_time": "2024-09-24T00:41:41.745Z"
   },
   {
    "duration": 0,
    "start_time": "2024-09-24T00:41:41.746Z"
   },
   {
    "duration": 0,
    "start_time": "2024-09-24T00:41:41.747Z"
   },
   {
    "duration": 0,
    "start_time": "2024-09-24T00:41:41.748Z"
   },
   {
    "duration": 0,
    "start_time": "2024-09-24T00:41:41.749Z"
   },
   {
    "duration": 0,
    "start_time": "2024-09-24T00:41:41.750Z"
   },
   {
    "duration": 0,
    "start_time": "2024-09-24T00:41:41.751Z"
   },
   {
    "duration": 0,
    "start_time": "2024-09-24T00:41:41.752Z"
   },
   {
    "duration": 1102,
    "start_time": "2024-09-24T00:47:33.587Z"
   },
   {
    "duration": 55,
    "start_time": "2024-09-24T00:47:34.691Z"
   },
   {
    "duration": 16,
    "start_time": "2024-09-24T00:47:34.747Z"
   },
   {
    "duration": 3,
    "start_time": "2024-09-24T00:47:34.765Z"
   },
   {
    "duration": 34,
    "start_time": "2024-09-24T00:47:34.770Z"
   },
   {
    "duration": 36,
    "start_time": "2024-09-24T00:47:34.806Z"
   },
   {
    "duration": 7,
    "start_time": "2024-09-24T00:47:34.844Z"
   },
   {
    "duration": 11,
    "start_time": "2024-09-24T00:47:34.853Z"
   },
   {
    "duration": 4,
    "start_time": "2024-09-24T00:47:34.865Z"
   },
   {
    "duration": 6,
    "start_time": "2024-09-24T00:47:34.870Z"
   },
   {
    "duration": 32,
    "start_time": "2024-09-24T00:47:34.877Z"
   },
   {
    "duration": 26,
    "start_time": "2024-09-24T00:47:34.910Z"
   },
   {
    "duration": 11,
    "start_time": "2024-09-24T00:47:34.937Z"
   },
   {
    "duration": 17,
    "start_time": "2024-09-24T00:47:34.952Z"
   },
   {
    "duration": 78,
    "start_time": "2024-09-24T00:47:34.970Z"
   },
   {
    "duration": 9,
    "start_time": "2024-09-24T00:47:35.050Z"
   },
   {
    "duration": 36,
    "start_time": "2024-09-24T00:47:35.061Z"
   },
   {
    "duration": 11,
    "start_time": "2024-09-24T00:47:35.099Z"
   },
   {
    "duration": 6,
    "start_time": "2024-09-24T00:47:35.111Z"
   },
   {
    "duration": 11,
    "start_time": "2024-09-24T00:47:35.119Z"
   },
   {
    "duration": 43,
    "start_time": "2024-09-24T00:47:35.131Z"
   },
   {
    "duration": 0,
    "start_time": "2024-09-24T00:47:35.176Z"
   },
   {
    "duration": 0,
    "start_time": "2024-09-24T00:47:35.177Z"
   },
   {
    "duration": 0,
    "start_time": "2024-09-24T00:47:35.178Z"
   },
   {
    "duration": 0,
    "start_time": "2024-09-24T00:47:35.179Z"
   },
   {
    "duration": 0,
    "start_time": "2024-09-24T00:47:35.180Z"
   },
   {
    "duration": 0,
    "start_time": "2024-09-24T00:47:35.181Z"
   },
   {
    "duration": 0,
    "start_time": "2024-09-24T00:47:35.182Z"
   },
   {
    "duration": 0,
    "start_time": "2024-09-24T00:47:35.182Z"
   },
   {
    "duration": 0,
    "start_time": "2024-09-24T00:47:35.183Z"
   },
   {
    "duration": 0,
    "start_time": "2024-09-24T00:47:35.184Z"
   },
   {
    "duration": 0,
    "start_time": "2024-09-24T00:47:35.185Z"
   },
   {
    "duration": 0,
    "start_time": "2024-09-24T00:47:35.186Z"
   },
   {
    "duration": 0,
    "start_time": "2024-09-24T00:47:35.186Z"
   },
   {
    "duration": 0,
    "start_time": "2024-09-24T00:47:35.187Z"
   },
   {
    "duration": 0,
    "start_time": "2024-09-24T00:47:35.188Z"
   },
   {
    "duration": 0,
    "start_time": "2024-09-24T00:47:35.189Z"
   },
   {
    "duration": 0,
    "start_time": "2024-09-24T00:47:35.190Z"
   },
   {
    "duration": 0,
    "start_time": "2024-09-24T00:47:35.191Z"
   },
   {
    "duration": 0,
    "start_time": "2024-09-24T00:47:35.192Z"
   },
   {
    "duration": 0,
    "start_time": "2024-09-24T00:47:35.192Z"
   },
   {
    "duration": 0,
    "start_time": "2024-09-24T00:47:35.193Z"
   },
   {
    "duration": 0,
    "start_time": "2024-09-24T00:47:35.194Z"
   },
   {
    "duration": 0,
    "start_time": "2024-09-24T00:47:35.195Z"
   },
   {
    "duration": 0,
    "start_time": "2024-09-24T00:47:35.196Z"
   },
   {
    "duration": 0,
    "start_time": "2024-09-24T00:47:35.197Z"
   },
   {
    "duration": 0,
    "start_time": "2024-09-24T00:47:35.198Z"
   },
   {
    "duration": 0,
    "start_time": "2024-09-24T00:47:35.198Z"
   },
   {
    "duration": 0,
    "start_time": "2024-09-24T00:47:35.199Z"
   },
   {
    "duration": 0,
    "start_time": "2024-09-24T00:47:35.200Z"
   },
   {
    "duration": 0,
    "start_time": "2024-09-24T00:47:35.201Z"
   },
   {
    "duration": 0,
    "start_time": "2024-09-24T00:47:35.202Z"
   },
   {
    "duration": 0,
    "start_time": "2024-09-24T00:47:35.203Z"
   },
   {
    "duration": 0,
    "start_time": "2024-09-24T00:47:35.204Z"
   },
   {
    "duration": 0,
    "start_time": "2024-09-24T00:47:35.204Z"
   },
   {
    "duration": 0,
    "start_time": "2024-09-24T00:47:35.205Z"
   },
   {
    "duration": 0,
    "start_time": "2024-09-24T00:47:35.206Z"
   },
   {
    "duration": 0,
    "start_time": "2024-09-24T00:47:35.207Z"
   },
   {
    "duration": 0,
    "start_time": "2024-09-24T00:47:35.208Z"
   },
   {
    "duration": 0,
    "start_time": "2024-09-24T00:47:35.209Z"
   },
   {
    "duration": 1114,
    "start_time": "2024-09-24T00:50:13.494Z"
   },
   {
    "duration": 55,
    "start_time": "2024-09-24T00:50:14.610Z"
   },
   {
    "duration": 17,
    "start_time": "2024-09-24T00:50:14.667Z"
   },
   {
    "duration": 3,
    "start_time": "2024-09-24T00:50:14.686Z"
   },
   {
    "duration": 30,
    "start_time": "2024-09-24T00:50:14.690Z"
   },
   {
    "duration": 26,
    "start_time": "2024-09-24T00:50:14.722Z"
   },
   {
    "duration": 7,
    "start_time": "2024-09-24T00:50:14.749Z"
   },
   {
    "duration": 9,
    "start_time": "2024-09-24T00:50:14.757Z"
   },
   {
    "duration": 3,
    "start_time": "2024-09-24T00:50:14.767Z"
   },
   {
    "duration": 22,
    "start_time": "2024-09-24T00:50:14.772Z"
   },
   {
    "duration": 9,
    "start_time": "2024-09-24T00:50:14.795Z"
   },
   {
    "duration": 15,
    "start_time": "2024-09-24T00:50:14.805Z"
   },
   {
    "duration": 10,
    "start_time": "2024-09-24T00:50:14.821Z"
   },
   {
    "duration": 14,
    "start_time": "2024-09-24T00:50:14.833Z"
   },
   {
    "duration": 101,
    "start_time": "2024-09-24T00:50:14.849Z"
   },
   {
    "duration": 8,
    "start_time": "2024-09-24T00:50:14.951Z"
   },
   {
    "duration": 32,
    "start_time": "2024-09-24T00:50:14.961Z"
   },
   {
    "duration": 10,
    "start_time": "2024-09-24T00:50:14.994Z"
   },
   {
    "duration": 38,
    "start_time": "2024-09-24T00:50:15.006Z"
   },
   {
    "duration": 34,
    "start_time": "2024-09-24T00:50:15.046Z"
   },
   {
    "duration": 375,
    "start_time": "2024-09-24T00:50:15.082Z"
   },
   {
    "duration": 280,
    "start_time": "2024-09-24T00:50:15.459Z"
   },
   {
    "duration": 11,
    "start_time": "2024-09-24T00:50:15.741Z"
   },
   {
    "duration": 277,
    "start_time": "2024-09-24T00:50:15.753Z"
   },
   {
    "duration": 6,
    "start_time": "2024-09-24T00:50:16.032Z"
   },
   {
    "duration": 12,
    "start_time": "2024-09-24T00:50:16.039Z"
   },
   {
    "duration": 6,
    "start_time": "2024-09-24T00:50:16.052Z"
   },
   {
    "duration": 29,
    "start_time": "2024-09-24T00:50:16.061Z"
   },
   {
    "duration": 5,
    "start_time": "2024-09-24T00:50:16.092Z"
   },
   {
    "duration": 19,
    "start_time": "2024-09-24T00:50:16.098Z"
   },
   {
    "duration": 13,
    "start_time": "2024-09-24T00:50:16.118Z"
   },
   {
    "duration": 331,
    "start_time": "2024-09-24T00:50:16.132Z"
   },
   {
    "duration": 32,
    "start_time": "2024-09-24T00:50:16.464Z"
   },
   {
    "duration": 20,
    "start_time": "2024-09-24T00:50:16.497Z"
   },
   {
    "duration": 464,
    "start_time": "2024-09-24T00:50:16.518Z"
   },
   {
    "duration": 29,
    "start_time": "2024-09-24T00:50:16.984Z"
   },
   {
    "duration": 276,
    "start_time": "2024-09-24T00:50:17.014Z"
   },
   {
    "duration": 267,
    "start_time": "2024-09-24T00:50:17.291Z"
   },
   {
    "duration": 12,
    "start_time": "2024-09-24T00:50:17.559Z"
   },
   {
    "duration": 5,
    "start_time": "2024-09-24T00:50:17.572Z"
   },
   {
    "duration": 2017,
    "start_time": "2024-09-24T00:50:17.590Z"
   },
   {
    "duration": 2,
    "start_time": "2024-09-24T00:50:19.609Z"
   },
   {
    "duration": 282,
    "start_time": "2024-09-24T00:50:19.612Z"
   },
   {
    "duration": 283,
    "start_time": "2024-09-24T00:50:19.895Z"
   },
   {
    "duration": 29,
    "start_time": "2024-09-24T00:50:20.179Z"
   },
   {
    "duration": 156,
    "start_time": "2024-09-24T00:50:20.210Z"
   },
   {
    "duration": 152,
    "start_time": "2024-09-24T00:50:20.367Z"
   },
   {
    "duration": 152,
    "start_time": "2024-09-24T00:50:20.521Z"
   },
   {
    "duration": 23,
    "start_time": "2024-09-24T00:50:20.674Z"
   },
   {
    "duration": 304,
    "start_time": "2024-09-24T00:50:20.698Z"
   },
   {
    "duration": 15,
    "start_time": "2024-09-24T00:50:21.003Z"
   },
   {
    "duration": 401,
    "start_time": "2024-09-24T00:50:21.019Z"
   },
   {
    "duration": 4,
    "start_time": "2024-09-24T00:50:21.422Z"
   },
   {
    "duration": 87,
    "start_time": "2024-09-24T00:50:21.428Z"
   },
   {
    "duration": 298,
    "start_time": "2024-09-24T00:50:21.516Z"
   },
   {
    "duration": 10,
    "start_time": "2024-09-24T00:50:21.815Z"
   },
   {
    "duration": 9,
    "start_time": "2024-09-24T00:50:21.826Z"
   },
   {
    "duration": 12,
    "start_time": "2024-09-24T00:50:21.837Z"
   },
   {
    "duration": 8,
    "start_time": "2024-09-24T00:50:21.850Z"
   },
   {
    "duration": 51,
    "start_time": "2024-09-24T20:20:04.796Z"
   },
   {
    "duration": 1424,
    "start_time": "2024-09-24T20:20:09.796Z"
   },
   {
    "duration": 192,
    "start_time": "2024-09-24T20:20:11.222Z"
   },
   {
    "duration": 20,
    "start_time": "2024-09-24T20:20:11.416Z"
   },
   {
    "duration": 4,
    "start_time": "2024-09-24T20:20:11.438Z"
   },
   {
    "duration": 16,
    "start_time": "2024-09-24T20:20:11.443Z"
   },
   {
    "duration": 34,
    "start_time": "2024-09-24T20:20:11.461Z"
   },
   {
    "duration": 8,
    "start_time": "2024-09-24T20:20:11.496Z"
   },
   {
    "duration": 10,
    "start_time": "2024-09-24T20:20:11.506Z"
   },
   {
    "duration": 8,
    "start_time": "2024-09-24T20:20:11.517Z"
   },
   {
    "duration": 48,
    "start_time": "2024-09-24T20:20:11.527Z"
   },
   {
    "duration": 12,
    "start_time": "2024-09-24T20:20:11.577Z"
   },
   {
    "duration": 22,
    "start_time": "2024-09-24T20:20:11.590Z"
   },
   {
    "duration": 12,
    "start_time": "2024-09-24T20:20:11.614Z"
   },
   {
    "duration": 18,
    "start_time": "2024-09-24T20:20:11.627Z"
   },
   {
    "duration": 103,
    "start_time": "2024-09-24T20:20:11.647Z"
   },
   {
    "duration": 25,
    "start_time": "2024-09-24T20:20:11.752Z"
   },
   {
    "duration": 17,
    "start_time": "2024-09-24T20:20:11.779Z"
   },
   {
    "duration": 12,
    "start_time": "2024-09-24T20:20:11.797Z"
   },
   {
    "duration": 7,
    "start_time": "2024-09-24T20:20:11.811Z"
   },
   {
    "duration": 10,
    "start_time": "2024-09-24T20:20:11.819Z"
   },
   {
    "duration": 435,
    "start_time": "2024-09-24T20:20:11.830Z"
   },
   {
    "duration": 316,
    "start_time": "2024-09-24T20:20:12.267Z"
   },
   {
    "duration": 14,
    "start_time": "2024-09-24T20:20:12.585Z"
   },
   {
    "duration": 328,
    "start_time": "2024-09-24T20:20:12.601Z"
   },
   {
    "duration": 7,
    "start_time": "2024-09-24T20:20:12.931Z"
   },
   {
    "duration": 31,
    "start_time": "2024-09-24T20:20:12.940Z"
   },
   {
    "duration": 7,
    "start_time": "2024-09-24T20:20:12.973Z"
   },
   {
    "duration": 17,
    "start_time": "2024-09-24T20:20:12.983Z"
   },
   {
    "duration": 4,
    "start_time": "2024-09-24T20:20:13.002Z"
   },
   {
    "duration": 16,
    "start_time": "2024-09-24T20:20:13.008Z"
   },
   {
    "duration": 18,
    "start_time": "2024-09-24T20:20:13.026Z"
   },
   {
    "duration": 326,
    "start_time": "2024-09-24T20:20:13.045Z"
   },
   {
    "duration": 28,
    "start_time": "2024-09-24T20:20:13.372Z"
   },
   {
    "duration": 24,
    "start_time": "2024-09-24T20:20:13.402Z"
   },
   {
    "duration": 579,
    "start_time": "2024-09-24T20:20:13.428Z"
   },
   {
    "duration": 37,
    "start_time": "2024-09-24T20:20:14.009Z"
   },
   {
    "duration": 329,
    "start_time": "2024-09-24T20:20:14.047Z"
   },
   {
    "duration": 311,
    "start_time": "2024-09-24T20:20:14.377Z"
   },
   {
    "duration": 13,
    "start_time": "2024-09-24T20:20:14.689Z"
   },
   {
    "duration": 9,
    "start_time": "2024-09-24T20:20:14.704Z"
   },
   {
    "duration": 2363,
    "start_time": "2024-09-24T20:20:14.714Z"
   },
   {
    "duration": 3,
    "start_time": "2024-09-24T20:20:17.079Z"
   },
   {
    "duration": 322,
    "start_time": "2024-09-24T20:20:17.083Z"
   },
   {
    "duration": 318,
    "start_time": "2024-09-24T20:20:17.407Z"
   },
   {
    "duration": 23,
    "start_time": "2024-09-24T20:20:17.727Z"
   },
   {
    "duration": 175,
    "start_time": "2024-09-24T20:20:17.751Z"
   },
   {
    "duration": 171,
    "start_time": "2024-09-24T20:20:17.927Z"
   },
   {
    "duration": 193,
    "start_time": "2024-09-24T20:20:18.100Z"
   },
   {
    "duration": 18,
    "start_time": "2024-09-24T20:20:18.295Z"
   },
   {
    "duration": 363,
    "start_time": "2024-09-24T20:20:18.315Z"
   },
   {
    "duration": 16,
    "start_time": "2024-09-24T20:20:18.679Z"
   },
   {
    "duration": 461,
    "start_time": "2024-09-24T20:20:18.697Z"
   },
   {
    "duration": 3,
    "start_time": "2024-09-24T20:20:19.159Z"
   },
   {
    "duration": 25,
    "start_time": "2024-09-24T20:20:19.164Z"
   },
   {
    "duration": 370,
    "start_time": "2024-09-24T20:20:19.191Z"
   },
   {
    "duration": 14,
    "start_time": "2024-09-24T20:20:19.563Z"
   },
   {
    "duration": 11,
    "start_time": "2024-09-24T20:20:19.578Z"
   },
   {
    "duration": 10,
    "start_time": "2024-09-24T20:20:19.590Z"
   },
   {
    "duration": 8,
    "start_time": "2024-09-24T20:20:19.602Z"
   },
   {
    "duration": 3,
    "start_time": "2024-09-24T20:20:51.766Z"
   },
   {
    "duration": 13,
    "start_time": "2024-09-24T20:20:54.662Z"
   },
   {
    "duration": 25,
    "start_time": "2024-09-24T20:53:53.012Z"
   },
   {
    "duration": 176,
    "start_time": "2024-09-24T21:00:29.605Z"
   },
   {
    "duration": 9,
    "start_time": "2024-09-24T21:01:06.050Z"
   },
   {
    "duration": 58,
    "start_time": "2024-09-24T21:02:37.212Z"
   },
   {
    "duration": 1161,
    "start_time": "2024-09-24T21:04:06.003Z"
   },
   {
    "duration": 57,
    "start_time": "2024-09-24T21:04:07.166Z"
   },
   {
    "duration": 20,
    "start_time": "2024-09-24T21:04:07.225Z"
   },
   {
    "duration": 4,
    "start_time": "2024-09-24T21:04:07.246Z"
   },
   {
    "duration": 32,
    "start_time": "2024-09-24T21:04:07.253Z"
   },
   {
    "duration": 33,
    "start_time": "2024-09-24T21:04:07.287Z"
   },
   {
    "duration": 9,
    "start_time": "2024-09-24T21:04:07.323Z"
   },
   {
    "duration": 52,
    "start_time": "2024-09-24T21:04:07.335Z"
   },
   {
    "duration": 43,
    "start_time": "2024-09-24T21:04:07.388Z"
   },
   {
    "duration": 10,
    "start_time": "2024-09-24T21:04:07.433Z"
   },
   {
    "duration": 12,
    "start_time": "2024-09-24T21:04:07.445Z"
   },
   {
    "duration": 20,
    "start_time": "2024-09-24T21:04:07.459Z"
   },
   {
    "duration": 12,
    "start_time": "2024-09-24T21:04:07.480Z"
   },
   {
    "duration": 17,
    "start_time": "2024-09-24T21:04:07.495Z"
   },
   {
    "duration": 111,
    "start_time": "2024-09-24T21:04:07.513Z"
   },
   {
    "duration": 9,
    "start_time": "2024-09-24T21:04:07.626Z"
   },
   {
    "duration": 39,
    "start_time": "2024-09-24T21:04:07.637Z"
   },
   {
    "duration": 11,
    "start_time": "2024-09-24T21:04:07.678Z"
   },
   {
    "duration": 36,
    "start_time": "2024-09-24T21:04:07.690Z"
   },
   {
    "duration": 11,
    "start_time": "2024-09-24T21:04:07.727Z"
   },
   {
    "duration": 418,
    "start_time": "2024-09-24T21:04:07.739Z"
   },
   {
    "duration": 355,
    "start_time": "2024-09-24T21:04:08.159Z"
   },
   {
    "duration": 16,
    "start_time": "2024-09-24T21:04:08.517Z"
   },
   {
    "duration": 346,
    "start_time": "2024-09-24T21:04:08.534Z"
   },
   {
    "duration": 7,
    "start_time": "2024-09-24T21:04:08.882Z"
   },
   {
    "duration": 10,
    "start_time": "2024-09-24T21:04:08.890Z"
   },
   {
    "duration": 21,
    "start_time": "2024-09-24T21:04:08.902Z"
   },
   {
    "duration": 17,
    "start_time": "2024-09-24T21:04:08.924Z"
   },
   {
    "duration": 34,
    "start_time": "2024-09-24T21:04:08.943Z"
   },
   {
    "duration": 15,
    "start_time": "2024-09-24T21:04:08.979Z"
   },
   {
    "duration": 15,
    "start_time": "2024-09-24T21:04:08.995Z"
   },
   {
    "duration": 334,
    "start_time": "2024-09-24T21:04:09.012Z"
   },
   {
    "duration": 46,
    "start_time": "2024-09-24T21:04:09.350Z"
   },
   {
    "duration": 22,
    "start_time": "2024-09-24T21:04:09.397Z"
   },
   {
    "duration": 567,
    "start_time": "2024-09-24T21:04:09.420Z"
   },
   {
    "duration": 35,
    "start_time": "2024-09-24T21:04:09.988Z"
   },
   {
    "duration": 325,
    "start_time": "2024-09-24T21:04:10.024Z"
   },
   {
    "duration": 335,
    "start_time": "2024-09-24T21:04:10.350Z"
   },
   {
    "duration": 15,
    "start_time": "2024-09-24T21:04:10.687Z"
   },
   {
    "duration": 4,
    "start_time": "2024-09-24T21:04:10.704Z"
   },
   {
    "duration": 2380,
    "start_time": "2024-09-24T21:04:10.710Z"
   },
   {
    "duration": 3,
    "start_time": "2024-09-24T21:04:13.091Z"
   },
   {
    "duration": 330,
    "start_time": "2024-09-24T21:04:13.095Z"
   },
   {
    "duration": 326,
    "start_time": "2024-09-24T21:04:13.426Z"
   },
   {
    "duration": 36,
    "start_time": "2024-09-24T21:04:13.754Z"
   },
   {
    "duration": 169,
    "start_time": "2024-09-24T21:04:13.792Z"
   },
   {
    "duration": 180,
    "start_time": "2024-09-24T21:04:13.962Z"
   },
   {
    "duration": 177,
    "start_time": "2024-09-24T21:04:14.144Z"
   },
   {
    "duration": 20,
    "start_time": "2024-09-24T21:04:14.323Z"
   },
   {
    "duration": 376,
    "start_time": "2024-09-24T21:04:14.345Z"
   },
   {
    "duration": 20,
    "start_time": "2024-09-24T21:04:14.723Z"
   },
   {
    "duration": 480,
    "start_time": "2024-09-24T21:04:14.744Z"
   },
   {
    "duration": 4,
    "start_time": "2024-09-24T21:04:15.226Z"
   },
   {
    "duration": 27,
    "start_time": "2024-09-24T21:04:15.232Z"
   },
   {
    "duration": 358,
    "start_time": "2024-09-24T21:04:15.277Z"
   },
   {
    "duration": 12,
    "start_time": "2024-09-24T21:04:15.637Z"
   },
   {
    "duration": 32,
    "start_time": "2024-09-24T21:04:15.651Z"
   },
   {
    "duration": 41,
    "start_time": "2024-09-24T21:04:15.685Z"
   },
   {
    "duration": 11,
    "start_time": "2024-09-24T21:04:15.728Z"
   },
   {
    "duration": 1108,
    "start_time": "2024-09-24T21:41:47.022Z"
   },
   {
    "duration": 61,
    "start_time": "2024-09-24T21:41:48.132Z"
   },
   {
    "duration": 17,
    "start_time": "2024-09-24T21:41:48.195Z"
   },
   {
    "duration": 3,
    "start_time": "2024-09-24T21:41:48.214Z"
   },
   {
    "duration": 16,
    "start_time": "2024-09-24T21:41:48.220Z"
   },
   {
    "duration": 39,
    "start_time": "2024-09-24T21:41:48.238Z"
   },
   {
    "duration": 7,
    "start_time": "2024-09-24T21:41:48.278Z"
   },
   {
    "duration": 25,
    "start_time": "2024-09-24T21:41:48.286Z"
   },
   {
    "duration": 2,
    "start_time": "2024-09-24T21:41:48.313Z"
   },
   {
    "duration": 12,
    "start_time": "2024-09-24T21:41:48.317Z"
   },
   {
    "duration": 8,
    "start_time": "2024-09-24T21:41:48.331Z"
   },
   {
    "duration": 18,
    "start_time": "2024-09-24T21:41:48.340Z"
   },
   {
    "duration": 10,
    "start_time": "2024-09-24T21:41:48.359Z"
   },
   {
    "duration": 37,
    "start_time": "2024-09-24T21:41:48.372Z"
   },
   {
    "duration": 77,
    "start_time": "2024-09-24T21:41:48.411Z"
   },
   {
    "duration": 8,
    "start_time": "2024-09-24T21:41:48.505Z"
   },
   {
    "duration": 36,
    "start_time": "2024-09-24T21:41:48.515Z"
   },
   {
    "duration": 93,
    "start_time": "2024-09-24T21:41:48.552Z"
   },
   {
    "duration": 6,
    "start_time": "2024-09-24T21:41:48.647Z"
   },
   {
    "duration": 8,
    "start_time": "2024-09-24T21:41:48.654Z"
   },
   {
    "duration": 343,
    "start_time": "2024-09-24T21:41:48.664Z"
   },
   {
    "duration": 270,
    "start_time": "2024-09-24T21:41:49.009Z"
   },
   {
    "duration": 12,
    "start_time": "2024-09-24T21:41:49.280Z"
   },
   {
    "duration": 273,
    "start_time": "2024-09-24T21:41:49.293Z"
   },
   {
    "duration": 6,
    "start_time": "2024-09-24T21:41:49.567Z"
   },
   {
    "duration": 8,
    "start_time": "2024-09-24T21:41:49.575Z"
   },
   {
    "duration": 21,
    "start_time": "2024-09-24T21:41:49.585Z"
   },
   {
    "duration": 13,
    "start_time": "2024-09-24T21:41:49.607Z"
   },
   {
    "duration": 9,
    "start_time": "2024-09-24T21:41:49.621Z"
   },
   {
    "duration": 14,
    "start_time": "2024-09-24T21:41:49.631Z"
   },
   {
    "duration": 12,
    "start_time": "2024-09-24T21:41:49.646Z"
   },
   {
    "duration": 274,
    "start_time": "2024-09-24T21:41:49.660Z"
   },
   {
    "duration": 23,
    "start_time": "2024-09-24T21:41:49.936Z"
   },
   {
    "duration": 20,
    "start_time": "2024-09-24T21:41:49.961Z"
   },
   {
    "duration": 474,
    "start_time": "2024-09-24T21:41:49.983Z"
   },
   {
    "duration": 30,
    "start_time": "2024-09-24T21:41:50.459Z"
   },
   {
    "duration": 273,
    "start_time": "2024-09-24T21:41:50.504Z"
   },
   {
    "duration": 267,
    "start_time": "2024-09-24T21:41:50.779Z"
   },
   {
    "duration": 11,
    "start_time": "2024-09-24T21:41:51.047Z"
   },
   {
    "duration": 8,
    "start_time": "2024-09-24T21:41:51.060Z"
   },
   {
    "duration": 2000,
    "start_time": "2024-09-24T21:41:51.072Z"
   },
   {
    "duration": 2,
    "start_time": "2024-09-24T21:41:53.074Z"
   },
   {
    "duration": 365,
    "start_time": "2024-09-24T21:41:53.077Z"
   },
   {
    "duration": 279,
    "start_time": "2024-09-24T21:41:53.443Z"
   },
   {
    "duration": 20,
    "start_time": "2024-09-24T21:41:53.724Z"
   },
   {
    "duration": 149,
    "start_time": "2024-09-24T21:41:53.745Z"
   },
   {
    "duration": 154,
    "start_time": "2024-09-24T21:41:53.895Z"
   },
   {
    "duration": 152,
    "start_time": "2024-09-24T21:41:54.050Z"
   },
   {
    "duration": 14,
    "start_time": "2024-09-24T21:41:54.204Z"
   },
   {
    "duration": 316,
    "start_time": "2024-09-24T21:41:54.219Z"
   },
   {
    "duration": 14,
    "start_time": "2024-09-24T21:41:54.536Z"
   },
   {
    "duration": 377,
    "start_time": "2024-09-24T21:41:54.551Z"
   },
   {
    "duration": 3,
    "start_time": "2024-09-24T21:41:54.929Z"
   },
   {
    "duration": 20,
    "start_time": "2024-09-24T21:41:54.933Z"
   },
   {
    "duration": 407,
    "start_time": "2024-09-24T21:41:54.954Z"
   },
   {
    "duration": 11,
    "start_time": "2024-09-24T21:41:55.363Z"
   },
   {
    "duration": 11,
    "start_time": "2024-09-24T21:41:55.376Z"
   },
   {
    "duration": 10,
    "start_time": "2024-09-24T21:41:55.404Z"
   },
   {
    "duration": 16,
    "start_time": "2024-09-24T21:41:55.415Z"
   },
   {
    "duration": 51,
    "start_time": "2025-04-26T13:05:24.818Z"
   },
   {
    "duration": 1295,
    "start_time": "2025-04-26T13:05:33.038Z"
   },
   {
    "duration": 46,
    "start_time": "2025-04-26T13:05:34.336Z"
   },
   {
    "duration": 17,
    "start_time": "2025-04-26T13:05:34.384Z"
   },
   {
    "duration": 12,
    "start_time": "2025-04-26T13:05:34.403Z"
   },
   {
    "duration": 51,
    "start_time": "2025-04-26T13:05:34.417Z"
   },
   {
    "duration": 30,
    "start_time": "2025-04-26T13:05:34.470Z"
   },
   {
    "duration": 8,
    "start_time": "2025-04-26T13:05:34.502Z"
   },
   {
    "duration": 24,
    "start_time": "2025-04-26T13:05:34.512Z"
   },
   {
    "duration": 19,
    "start_time": "2025-04-26T13:05:34.537Z"
   },
   {
    "duration": 23,
    "start_time": "2025-04-26T13:05:34.558Z"
   },
   {
    "duration": 19,
    "start_time": "2025-04-26T13:05:34.583Z"
   },
   {
    "duration": 27,
    "start_time": "2025-04-26T13:05:34.603Z"
   },
   {
    "duration": 11,
    "start_time": "2025-04-26T13:05:34.632Z"
   },
   {
    "duration": 38,
    "start_time": "2025-04-26T13:05:34.644Z"
   },
   {
    "duration": 108,
    "start_time": "2025-04-26T13:05:34.686Z"
   },
   {
    "duration": 10,
    "start_time": "2025-04-26T13:05:34.796Z"
   },
   {
    "duration": 40,
    "start_time": "2025-04-26T13:05:34.808Z"
   },
   {
    "duration": 42,
    "start_time": "2025-04-26T13:05:34.850Z"
   },
   {
    "duration": 18,
    "start_time": "2025-04-26T13:05:34.893Z"
   },
   {
    "duration": 32,
    "start_time": "2025-04-26T13:05:34.913Z"
   },
   {
    "duration": 418,
    "start_time": "2025-04-26T13:05:34.948Z"
   },
   {
    "duration": 314,
    "start_time": "2025-04-26T13:05:35.368Z"
   },
   {
    "duration": 14,
    "start_time": "2025-04-26T13:05:35.684Z"
   },
   {
    "duration": 318,
    "start_time": "2025-04-26T13:05:35.700Z"
   },
   {
    "duration": 19,
    "start_time": "2025-04-26T13:05:36.020Z"
   },
   {
    "duration": 10,
    "start_time": "2025-04-26T13:05:36.040Z"
   },
   {
    "duration": 6,
    "start_time": "2025-04-26T13:05:36.052Z"
   },
   {
    "duration": 17,
    "start_time": "2025-04-26T13:05:36.062Z"
   },
   {
    "duration": 39,
    "start_time": "2025-04-26T13:05:36.080Z"
   },
   {
    "duration": 20,
    "start_time": "2025-04-26T13:05:36.121Z"
   },
   {
    "duration": 14,
    "start_time": "2025-04-26T13:05:36.143Z"
   },
   {
    "duration": 305,
    "start_time": "2025-04-26T13:05:36.158Z"
   },
   {
    "duration": 25,
    "start_time": "2025-04-26T13:05:36.464Z"
   },
   {
    "duration": 41,
    "start_time": "2025-04-26T13:05:36.491Z"
   },
   {
    "duration": 526,
    "start_time": "2025-04-26T13:05:36.538Z"
   },
   {
    "duration": 34,
    "start_time": "2025-04-26T13:05:37.066Z"
   },
   {
    "duration": 395,
    "start_time": "2025-04-26T13:05:37.102Z"
   },
   {
    "duration": 286,
    "start_time": "2025-04-26T13:05:37.499Z"
   },
   {
    "duration": 12,
    "start_time": "2025-04-26T13:05:37.786Z"
   },
   {
    "duration": 6,
    "start_time": "2025-04-26T13:05:37.800Z"
   },
   {
    "duration": 2267,
    "start_time": "2025-04-26T13:05:37.807Z"
   },
   {
    "duration": 3,
    "start_time": "2025-04-26T13:05:40.076Z"
   },
   {
    "duration": 337,
    "start_time": "2025-04-26T13:05:40.081Z"
   },
   {
    "duration": 304,
    "start_time": "2025-04-26T13:05:40.419Z"
   },
   {
    "duration": 35,
    "start_time": "2025-04-26T13:05:40.725Z"
   },
   {
    "duration": 163,
    "start_time": "2025-04-26T13:05:40.762Z"
   },
   {
    "duration": 167,
    "start_time": "2025-04-26T13:05:40.927Z"
   },
   {
    "duration": 170,
    "start_time": "2025-04-26T13:05:41.096Z"
   },
   {
    "duration": 16,
    "start_time": "2025-04-26T13:05:41.268Z"
   },
   {
    "duration": 347,
    "start_time": "2025-04-26T13:05:41.285Z"
   },
   {
    "duration": 14,
    "start_time": "2025-04-26T13:05:41.637Z"
   },
   {
    "duration": 443,
    "start_time": "2025-04-26T13:05:41.653Z"
   },
   {
    "duration": 3,
    "start_time": "2025-04-26T13:05:42.098Z"
   },
   {
    "duration": 21,
    "start_time": "2025-04-26T13:05:42.102Z"
   },
   {
    "duration": 345,
    "start_time": "2025-04-26T13:05:42.125Z"
   },
   {
    "duration": 7,
    "start_time": "2025-04-26T13:05:42.472Z"
   },
   {
    "duration": 40,
    "start_time": "2025-04-26T13:05:42.481Z"
   },
   {
    "duration": 9,
    "start_time": "2025-04-26T13:05:42.523Z"
   },
   {
    "duration": 10,
    "start_time": "2025-04-26T13:05:42.534Z"
   },
   {
    "duration": 18,
    "start_time": "2025-04-26T13:09:00.324Z"
   },
   {
    "duration": 1216,
    "start_time": "2025-04-26T13:11:40.396Z"
   },
   {
    "duration": 45,
    "start_time": "2025-04-26T13:11:41.614Z"
   },
   {
    "duration": 18,
    "start_time": "2025-04-26T13:11:41.661Z"
   },
   {
    "duration": 6,
    "start_time": "2025-04-26T13:11:41.681Z"
   },
   {
    "duration": 15,
    "start_time": "2025-04-26T13:11:41.689Z"
   },
   {
    "duration": 46,
    "start_time": "2025-04-26T13:11:41.705Z"
   },
   {
    "duration": 8,
    "start_time": "2025-04-26T13:11:41.753Z"
   },
   {
    "duration": 50,
    "start_time": "2025-04-26T13:11:41.762Z"
   },
   {
    "duration": 4,
    "start_time": "2025-04-26T13:11:41.814Z"
   },
   {
    "duration": 8,
    "start_time": "2025-04-26T13:11:41.820Z"
   },
   {
    "duration": 12,
    "start_time": "2025-04-26T13:11:41.830Z"
   },
   {
    "duration": 20,
    "start_time": "2025-04-26T13:11:41.844Z"
   },
   {
    "duration": 13,
    "start_time": "2025-04-26T13:11:41.866Z"
   },
   {
    "duration": 19,
    "start_time": "2025-04-26T13:11:41.880Z"
   },
   {
    "duration": 110,
    "start_time": "2025-04-26T13:11:41.901Z"
   },
   {
    "duration": 25,
    "start_time": "2025-04-26T13:11:42.013Z"
   },
   {
    "duration": 18,
    "start_time": "2025-04-26T13:11:42.040Z"
   },
   {
    "duration": 11,
    "start_time": "2025-04-26T13:11:42.059Z"
   },
   {
    "duration": 8,
    "start_time": "2025-04-26T13:11:42.072Z"
   },
   {
    "duration": 13,
    "start_time": "2025-04-26T13:11:42.082Z"
   },
   {
    "duration": 429,
    "start_time": "2025-04-26T13:11:42.097Z"
   },
   {
    "duration": 325,
    "start_time": "2025-04-26T13:11:42.527Z"
   },
   {
    "duration": 13,
    "start_time": "2025-04-26T13:11:42.854Z"
   },
   {
    "duration": 340,
    "start_time": "2025-04-26T13:11:42.868Z"
   },
   {
    "duration": 8,
    "start_time": "2025-04-26T13:11:43.210Z"
   },
   {
    "duration": 28,
    "start_time": "2025-04-26T13:11:43.220Z"
   },
   {
    "duration": 8,
    "start_time": "2025-04-26T13:11:43.250Z"
   },
   {
    "duration": 16,
    "start_time": "2025-04-26T13:11:43.263Z"
   },
   {
    "duration": 4,
    "start_time": "2025-04-26T13:11:43.280Z"
   },
   {
    "duration": 22,
    "start_time": "2025-04-26T13:11:43.286Z"
   },
   {
    "duration": 40,
    "start_time": "2025-04-26T13:11:43.310Z"
   },
   {
    "duration": 307,
    "start_time": "2025-04-26T13:11:43.353Z"
   },
   {
    "duration": 26,
    "start_time": "2025-04-26T13:11:43.662Z"
   },
   {
    "duration": 21,
    "start_time": "2025-04-26T13:11:43.690Z"
   },
   {
    "duration": 576,
    "start_time": "2025-04-26T13:11:43.713Z"
   },
   {
    "duration": 31,
    "start_time": "2025-04-26T13:11:44.291Z"
   },
   {
    "duration": 301,
    "start_time": "2025-04-26T13:11:44.324Z"
   },
   {
    "duration": 340,
    "start_time": "2025-04-26T13:11:44.627Z"
   },
   {
    "duration": 14,
    "start_time": "2025-04-26T13:11:44.969Z"
   },
   {
    "duration": 2259,
    "start_time": "2025-04-26T13:11:44.985Z"
   },
   {
    "duration": 429,
    "start_time": "2025-04-26T13:11:47.246Z"
   },
   {
    "duration": 310,
    "start_time": "2025-04-26T13:11:47.677Z"
   },
   {
    "duration": 23,
    "start_time": "2025-04-26T13:11:47.989Z"
   },
   {
    "duration": 171,
    "start_time": "2025-04-26T13:11:48.014Z"
   },
   {
    "duration": 165,
    "start_time": "2025-04-26T13:11:48.187Z"
   },
   {
    "duration": 175,
    "start_time": "2025-04-26T13:11:48.354Z"
   },
   {
    "duration": 22,
    "start_time": "2025-04-26T13:11:48.531Z"
   },
   {
    "duration": 362,
    "start_time": "2025-04-26T13:11:48.554Z"
   },
   {
    "duration": 24,
    "start_time": "2025-04-26T13:11:48.918Z"
   },
   {
    "duration": 359,
    "start_time": "2025-04-26T13:11:48.944Z"
   },
   {
    "duration": 32,
    "start_time": "2025-04-26T13:11:49.305Z"
   },
   {
    "duration": 449,
    "start_time": "2025-04-26T13:11:49.339Z"
   },
   {
    "duration": 9,
    "start_time": "2025-04-26T13:11:49.790Z"
   },
   {
    "duration": 9,
    "start_time": "2025-04-26T13:11:49.801Z"
   },
   {
    "duration": 32,
    "start_time": "2025-04-26T13:11:49.812Z"
   },
   {
    "duration": 70,
    "start_time": "2025-04-26T13:11:49.846Z"
   }
  ],
  "kernelspec": {
   "display_name": "Python 3 (ipykernel)",
   "language": "python",
   "name": "python3"
  },
  "language_info": {
   "codemirror_mode": {
    "name": "ipython",
    "version": 3
   },
   "file_extension": ".py",
   "mimetype": "text/x-python",
   "name": "python",
   "nbconvert_exporter": "python",
   "pygments_lexer": "ipython3",
   "version": "3.9.5"
  },
  "toc": {
   "base_numbering": "",
   "nav_menu": {},
   "number_sections": false,
   "sideBar": true,
   "skip_h1_title": true,
   "title_cell": "Table of Contents",
   "title_sidebar": "Contents",
   "toc_cell": false,
   "toc_position": {
    "height": "calc(100% - 180px)",
    "left": "10px",
    "top": "150px",
    "width": "172.943px"
   },
   "toc_section_display": true,
   "toc_window_display": true
  }
 },
 "nbformat": 4,
 "nbformat_minor": 2
}
